{
 "cells": [
  {
   "cell_type": "code",
   "execution_count": 1,
   "metadata": {
    "collapsed": true
   },
   "outputs": [],
   "source": [
    "import copy\n",
    "import numpy as np\n",
    "import scipy.stats"
   ]
  },
  {
   "cell_type": "code",
   "execution_count": 2,
   "metadata": {},
   "outputs": [],
   "source": [
    "import matplotlib\n",
    "import matplotlib.pyplot as plt\n",
    "import matplotlib.colors as colors\n",
    "import matplotlib.cm as cm\n",
    "import matplotlib.patheffects as path_effects\n",
    "import matplotlib.transforms as transforms"
   ]
  },
  {
   "cell_type": "code",
   "execution_count": 3,
   "metadata": {},
   "outputs": [],
   "source": [
    "import analysis_config"
   ]
  },
  {
   "cell_type": "code",
   "execution_count": 4,
   "metadata": {
    "collapsed": false
   },
   "outputs": [
    {
     "name": "stderr",
     "output_type": "stream",
     "text": [
      "/home1/03057/zhafen/.local/lib/python2.7/site-packages/h5py/__init__.py:34: FutureWarning: Conversion of the second argument of issubdtype from `float` to `np.floating` is deprecated. In future, it will be treated as `np.float64 == np.dtype(float).type`.\n",
      "  from ._conv import register_converters as _register_converters\n"
     ]
    }
   ],
   "source": [
    "import linefinder.config as linefinder_config\n",
    "import linefinder.analyze_data.worldlines as a_worldlines\n",
    "import linefinder.analyze_data.worldline_set as a_w_set\n",
    "import linefinder.analyze_data.plot_worldlines as p_worldlines"
   ]
  },
  {
   "cell_type": "code",
   "execution_count": 5,
   "metadata": {
    "collapsed": true
   },
   "outputs": [],
   "source": [
    "import linefinder.utils.presentation_constants as p_constants\n",
    "import linefinder.utils.file_management as file_management"
   ]
  },
  {
   "cell_type": "code",
   "execution_count": 6,
   "metadata": {},
   "outputs": [],
   "source": [
    "import galaxy_dive.plot_data.plotting as plotting\n",
    "import galaxy_dive.utils.astro as astro_utils\n",
    "import galaxy_dive.utils.executable_helpers as exec_helpers\n",
    "import galaxy_dive.utils.utilities as utilities"
   ]
  },
  {
   "cell_type": "markdown",
   "metadata": {},
   "source": [
    "# Load Data"
   ]
  },
  {
   "cell_type": "code",
   "execution_count": 7,
   "metadata": {
    "collapsed": true
   },
   "outputs": [
    {
     "name": "stdout",
     "output_type": "stream",
     "text": [
      "Using snum 465, galdef _galdefv3\n"
     ]
    }
   ],
   "source": [
    "snum, galdef = exec_helpers.choose_config_or_commandline(\n",
    "    [ analysis_config.SNUM, analysis_config.GALDEF ]\n",
    ")\n",
    "print( 'Using snum {}, galdef {}'.format( snum, galdef ) )"
   ]
  },
  {
   "cell_type": "code",
   "execution_count": 8,
   "metadata": {},
   "outputs": [],
   "source": [
    "tag_tail = '_CGM_snum{}'.format( snum )"
   ]
  },
  {
   "cell_type": "code",
   "execution_count": 9,
   "metadata": {
    "collapsed": true
   },
   "outputs": [],
   "source": [
    "ahf_index = 600"
   ]
  },
  {
   "cell_type": "code",
   "execution_count": 10,
   "metadata": {
    "collapsed": true
   },
   "outputs": [],
   "source": [
    "ind = ahf_index - snum"
   ]
  },
  {
   "cell_type": "code",
   "execution_count": 11,
   "metadata": {
    "collapsed": true
   },
   "outputs": [],
   "source": [
    "# Load the a helper for loading files easily\n",
    "file_manager = file_management.FileManager( project='CGM_origin' )"
   ]
  },
  {
   "cell_type": "code",
   "execution_count": 12,
   "metadata": {
    "collapsed": false
   },
   "outputs": [],
   "source": [
    "defaults, variations = file_manager.get_linefinder_analysis_defaults_and_variations(\n",
    "    tag_tail, \n",
    "    sim_names = analysis_config.SIM_NAMES,\n",
    "    galdef = galdef,\n",
    ")"
   ]
  },
  {
   "cell_type": "code",
   "execution_count": 13,
   "metadata": {
    "collapsed": false
   },
   "outputs": [
    {
     "data": {
      "text/plain": [
       "{'ahf_index': 600,\n",
       " 'data_dir': '/scratch/03057/zhafen/linefinder_data/core/m12i_res7100/data',\n",
       " 'halo_data_dir': '/scratch/03057/zhafen/core/m12i_res7100/halo',\n",
       " 'ids_tag': 'm12i_CGM_snum465',\n",
       " 'main_halo_id': 0,\n",
       " 'ptracks_tag': 'm12i_CGM_snum465',\n",
       " 'tag': 'm12i_CGM_snum465_galdefv3'}"
      ]
     },
     "execution_count": 13,
     "metadata": {},
     "output_type": "execute_result"
    }
   ],
   "source": [
    "defaults"
   ]
  },
  {
   "cell_type": "code",
   "execution_count": 14,
   "metadata": {
    "collapsed": false
   },
   "outputs": [
    {
     "data": {
      "text/plain": [
       "{'m10q': {'ahf_index': 600,\n",
       "  'data_dir': '/scratch/03057/zhafen/linefinder_data/core/m10q_res250/data',\n",
       "  'halo_data_dir': '/scratch/03057/zhafen/core/m10q_res250/halo',\n",
       "  'ids_tag': 'm10q_CGM_snum465',\n",
       "  'main_halo_id': 0,\n",
       "  'ptracks_tag': 'm10q_CGM_snum465',\n",
       "  'tag': 'm10q_CGM_snum465_galdefv3'},\n",
       " 'm10v': {'ahf_index': 600,\n",
       "  'data_dir': '/scratch/03057/zhafen/linefinder_data/core/m10v_res250/data',\n",
       "  'halo_data_dir': '/scratch/03057/zhafen/core/m10v_res250/halo',\n",
       "  'ids_tag': 'm10v_CGM_snum465',\n",
       "  'main_halo_id': 2,\n",
       "  'ptracks_tag': 'm10v_CGM_snum465',\n",
       "  'tag': 'm10v_CGM_snum465_galdefv3'},\n",
       " 'm10y': {'ahf_index': 600,\n",
       "  'data_dir': '/scratch/03057/zhafen/linefinder_data/core/m10y_res250/data',\n",
       "  'halo_data_dir': '/scratch/03057/zhafen/core/m10y_res250/halo',\n",
       "  'ids_tag': 'm10y_CGM_snum465',\n",
       "  'main_halo_id': 0,\n",
       "  'ptracks_tag': 'm10y_CGM_snum465',\n",
       "  'tag': 'm10y_CGM_snum465_galdefv3'},\n",
       " 'm10z': {'ahf_index': 600,\n",
       "  'data_dir': '/scratch/03057/zhafen/linefinder_data/core/m10z_res250/data',\n",
       "  'halo_data_dir': '/scratch/03057/zhafen/core/m10z_res250/halo',\n",
       "  'ids_tag': 'm10z_CGM_snum465',\n",
       "  'main_halo_id': 0,\n",
       "  'ptracks_tag': 'm10z_CGM_snum465',\n",
       "  'tag': 'm10z_CGM_snum465_galdefv3'},\n",
       " 'm11a': {'ahf_index': 600,\n",
       "  'data_dir': '/scratch/03057/zhafen/linefinder_data/core/m11a_res2100/data',\n",
       "  'halo_data_dir': '/scratch/03057/zhafen/core/m11a_res2100/halo',\n",
       "  'ids_tag': 'm11a_CGM_snum465',\n",
       "  'main_halo_id': 0,\n",
       "  'ptracks_tag': 'm11a_CGM_snum465',\n",
       "  'tag': 'm11a_CGM_snum465_galdefv3'},\n",
       " 'm11b': {'ahf_index': 600,\n",
       "  'data_dir': '/scratch/03057/zhafen/linefinder_data/core/m11b_res2100/data',\n",
       "  'halo_data_dir': '/scratch/03057/zhafen/core/m11b_res2100/halo',\n",
       "  'ids_tag': 'm11b_CGM_snum465',\n",
       "  'main_halo_id': 0,\n",
       "  'ptracks_tag': 'm11b_CGM_snum465',\n",
       "  'tag': 'm11b_CGM_snum465_galdefv3'},\n",
       " 'm11c': {'ahf_index': 600,\n",
       "  'data_dir': '/scratch/03057/zhafen/linefinder_data/core/m11c_res2100/data',\n",
       "  'halo_data_dir': '/scratch/03057/zhafen/core/m11c_res2100/halo',\n",
       "  'ids_tag': 'm11c_CGM_snum465',\n",
       "  'main_halo_id': 0,\n",
       "  'ptracks_tag': 'm11c_CGM_snum465',\n",
       "  'tag': 'm11c_CGM_snum465_galdefv3'},\n",
       " 'm11d_md': {'ahf_index': 600,\n",
       "  'data_dir': '/scratch/03057/zhafen/linefinder_data/metal_diffusion/m11d_res7100/data',\n",
       "  'halo_data_dir': '/scratch/03057/zhafen/metal_diffusion/m11d_res7100/halo',\n",
       "  'ids_tag': 'm11d_md_CGM_snum465',\n",
       "  'main_halo_id': 0,\n",
       "  'ptracks_tag': 'm11d_md_CGM_snum465',\n",
       "  'tag': 'm11d_md_CGM_snum465_galdefv3'},\n",
       " 'm11e_md': {'ahf_index': 600,\n",
       "  'data_dir': '/scratch/03057/zhafen/linefinder_data/metal_diffusion/m11e_res7100/data',\n",
       "  'halo_data_dir': '/scratch/03057/zhafen/metal_diffusion/m11e_res7100/halo',\n",
       "  'ids_tag': 'm11e_md_CGM_snum465',\n",
       "  'main_halo_id': 0,\n",
       "  'ptracks_tag': 'm11e_md_CGM_snum465',\n",
       "  'tag': 'm11e_md_CGM_snum465_galdefv3'},\n",
       " 'm11h_md': {'ahf_index': 600,\n",
       "  'data_dir': '/scratch/03057/zhafen/linefinder_data/metal_diffusion/m11h_res7100/data',\n",
       "  'halo_data_dir': '/scratch/03057/zhafen/metal_diffusion/m11h_res7100/halo',\n",
       "  'ids_tag': 'm11h_md_CGM_snum465',\n",
       "  'main_halo_id': 0,\n",
       "  'ptracks_tag': 'm11h_md_CGM_snum465',\n",
       "  'tag': 'm11h_md_CGM_snum465_galdefv3'},\n",
       " 'm11i_md': {'ahf_index': 600,\n",
       "  'data_dir': '/scratch/03057/zhafen/linefinder_data/metal_diffusion/m11i_res7100/data',\n",
       "  'halo_data_dir': '/scratch/03057/zhafen/metal_diffusion/m11i_res7100/halo',\n",
       "  'ids_tag': 'm11i_md_CGM_snum465',\n",
       "  'main_halo_id': 0,\n",
       "  'ptracks_tag': 'm11i_md_CGM_snum465',\n",
       "  'tag': 'm11i_md_CGM_snum465_galdefv3'},\n",
       " 'm11q': {'ahf_index': 600,\n",
       "  'data_dir': '/scratch/03057/zhafen/linefinder_data/core/m11q_res7100/data',\n",
       "  'halo_data_dir': '/scratch/03057/zhafen/core/m11q_res7100/halo',\n",
       "  'ids_tag': 'm11q_CGM_snum465',\n",
       "  'main_halo_id': 0,\n",
       "  'ptracks_tag': 'm11q_CGM_snum465',\n",
       "  'tag': 'm11q_CGM_snum465_galdefv3'},\n",
       " 'm11v': {'ahf_index': 600,\n",
       "  'data_dir': '/scratch/03057/zhafen/linefinder_data/core/m11v_res7100/data',\n",
       "  'halo_data_dir': '/scratch/03057/zhafen/core/m11v_res7100/halo',\n",
       "  'ids_tag': 'm11v_CGM_snum465',\n",
       "  'main_halo_id': 0,\n",
       "  'ptracks_tag': 'm11v_CGM_snum465',\n",
       "  'tag': 'm11v_CGM_snum465_galdefv3'},\n",
       " 'm12b_md': {'ahf_index': 600,\n",
       "  'data_dir': '/scratch/03057/zhafen/linefinder_data/metal_diffusion/m12b_res7100/data',\n",
       "  'halo_data_dir': '/scratch/03057/zhafen/metal_diffusion/m12b_res7100/halo',\n",
       "  'ids_tag': 'm12b_md_CGM_snum465',\n",
       "  'main_halo_id': 0,\n",
       "  'ptracks_tag': 'm12b_md_CGM_snum465',\n",
       "  'tag': 'm12b_md_CGM_snum465_galdefv3'},\n",
       " 'm12c_md': {'ahf_index': 600,\n",
       "  'data_dir': '/scratch/03057/zhafen/linefinder_data/metal_diffusion/m12c_res7100/data',\n",
       "  'halo_data_dir': '/scratch/03057/zhafen/metal_diffusion/m12c_res7100/halo',\n",
       "  'ids_tag': 'm12c_md_CGM_snum465',\n",
       "  'main_halo_id': 0,\n",
       "  'ptracks_tag': 'm12c_md_CGM_snum465',\n",
       "  'tag': 'm12c_md_CGM_snum465_galdefv3'},\n",
       " 'm12f': {'ahf_index': 600,\n",
       "  'data_dir': '/scratch/03057/zhafen/linefinder_data/core/m12f_res7100/data',\n",
       "  'halo_data_dir': '/scratch/03057/zhafen/core/m12f_res7100/halo',\n",
       "  'ids_tag': 'm12f_CGM_snum465',\n",
       "  'main_halo_id': 0,\n",
       "  'ptracks_tag': 'm12f_CGM_snum465',\n",
       "  'tag': 'm12f_CGM_snum465_galdefv3'},\n",
       " 'm12i': {},\n",
       " 'm12m': {'ahf_index': 600,\n",
       "  'data_dir': '/scratch/03057/zhafen/linefinder_data/core/m12m_res7100/data',\n",
       "  'halo_data_dir': '/scratch/03057/zhafen/core/m12m_res7100/halo',\n",
       "  'ids_tag': 'm12m_CGM_snum465',\n",
       "  'main_halo_id': 0,\n",
       "  'ptracks_tag': 'm12m_CGM_snum465',\n",
       "  'tag': 'm12m_CGM_snum465_galdefv3'},\n",
       " 'm12r_md': {'ahf_index': 600,\n",
       "  'data_dir': '/scratch/03057/zhafen/linefinder_data/metal_diffusion/m12r_res7100/data',\n",
       "  'halo_data_dir': '/scratch/03057/zhafen/metal_diffusion/m12r_res7100/halo',\n",
       "  'ids_tag': 'm12r_md_CGM_snum465',\n",
       "  'main_halo_id': 0,\n",
       "  'ptracks_tag': 'm12r_md_CGM_snum465',\n",
       "  'tag': 'm12r_md_CGM_snum465_galdefv3'},\n",
       " 'm12w_md': {'ahf_index': 600,\n",
       "  'data_dir': '/scratch/03057/zhafen/linefinder_data/metal_diffusion/m12w_res7100/data',\n",
       "  'halo_data_dir': '/scratch/03057/zhafen/metal_diffusion/m12w_res7100/halo',\n",
       "  'ids_tag': 'm12w_md_CGM_snum465',\n",
       "  'main_halo_id': 0,\n",
       "  'ptracks_tag': 'm12w_md_CGM_snum465',\n",
       "  'tag': 'm12w_md_CGM_snum465_galdefv3'},\n",
       " 'm12z_md': {'ahf_index': 600,\n",
       "  'data_dir': '/scratch/03057/zhafen/linefinder_data/metal_diffusion/m12z_res4200/data',\n",
       "  'halo_data_dir': '/scratch/03057/zhafen/metal_diffusion/m12z_res4200/halo',\n",
       "  'ids_tag': 'm12z_md_CGM_snum465',\n",
       "  'main_halo_id': 0,\n",
       "  'ptracks_tag': 'm12z_md_CGM_snum465',\n",
       "  'tag': 'm12z_md_CGM_snum465_galdefv3'}}"
      ]
     },
     "execution_count": 14,
     "metadata": {},
     "output_type": "execute_result"
    }
   ],
   "source": [
    "variations"
   ]
  },
  {
   "cell_type": "code",
   "execution_count": 15,
   "metadata": {
    "collapsed": false
   },
   "outputs": [],
   "source": [
    "w_set = a_w_set.WorldlineSet( defaults, variations )"
   ]
  },
  {
   "cell_type": "markdown",
   "metadata": {},
   "source": [
    "# Analyze Data"
   ]
  },
  {
   "cell_type": "markdown",
   "metadata": {},
   "source": [
    "# Plot Metallicity"
   ]
  },
  {
   "cell_type": "code",
   "execution_count": 16,
   "metadata": {},
   "outputs": [],
   "source": [
    "classification_list = copy.copy( p_constants.CLASSIFICATIONS_CGM_ORIGIN )\n",
    "classification_list.remove( 'is_CGM_satellite' )"
   ]
  },
  {
   "cell_type": "code",
   "execution_count": 17,
   "metadata": {},
   "outputs": [],
   "source": [
    "w_set.data_object.retrieve_halo_data()\n",
    "halo_masses = w_set.data_object.m_vir.inner_item( snum )"
   ]
  },
  {
   "cell_type": "code",
   "execution_count": 18,
   "metadata": {},
   "outputs": [
    {
     "data": {
      "text/plain": [
       "Dict, {\n",
       "'m10q' : None,\n",
       "'m10v' : None,\n",
       "'m11e_md' : None,\n",
       "'m10z' : None,\n",
       "'m11v' : None,\n",
       "'m11q' : None,\n",
       "'m10y' : None,\n",
       "'m12r_md' : None,\n",
       "'m12f' : None,\n",
       "'m11i_md' : None,\n",
       "'m11h_md' : None,\n",
       "'m12m' : None,\n",
       "'m11a' : None,\n",
       "'m12i' : None,\n",
       "'m11c' : None,\n",
       "'m11b' : None,\n",
       "'m12b_md' : None,\n",
       "'m12z_md' : None,\n",
       "'m12w_md' : None,\n",
       "'m11d_md' : None,\n",
       "'m12c_md' : None,\n",
       "}"
      ]
     },
     "execution_count": 18,
     "metadata": {},
     "output_type": "execute_result"
    }
   ],
   "source": [
    "# Start from a fresh slate\n",
    "w_set.data_object.data_masker.clear_masks( True )\n",
    "# Choose only gas\n",
    "w_set.data_object.data_masker.mask_data( 'PType', data_value=linefinder_config.PTYPE_GAS )"
   ]
  },
  {
   "cell_type": "code",
   "execution_count": 19,
   "metadata": {},
   "outputs": [
    {
     "name": "stdout",
     "output_type": "stream",
     "text": [
      "Plotting histogram for Z\n"
     ]
    },
    {
     "name": "stderr",
     "output_type": "stream",
     "text": [
      "/home1/03057/zhafen/repos/linefinder/linefinder/analyze_data/worldlines.py:1389: RuntimeWarning: invalid value encountered in less_equal\n",
      "  is_in_CGM_rvir = ( r_rvir <= config.OUTER_CGM_BOUNDARY ) \\\n",
      "/home1/03057/zhafen/repos/linefinder/linefinder/analyze_data/worldlines.py:1390: RuntimeWarning: invalid value encountered in greater_equal\n",
      "  & ( r_rvir >= config.INNER_CGM_BOUNDARY )\n",
      "/home1/03057/zhafen/repos/linefinder/linefinder/analyze_data/worldlines.py:1399: RuntimeWarning: invalid value encountered in greater\n",
      "  self.galids.parameters['galaxy_cut']\n"
     ]
    },
    {
     "name": "stdout",
     "output_type": "stream",
     "text": [
      "Plotting histogram for Z\n",
      "Plotting histogram for Z\n",
      "Plotting histogram for Z\n",
      "Plotting histogram for Z\n",
      "Plotting histogram for Z\n",
      "Plotting histogram for Z\n",
      "Plotting histogram for Z\n",
      "Plotting histogram for Z\n",
      "Plotting histogram for Z\n",
      "Plotting histogram for Z\n",
      "Plotting histogram for Z\n",
      "Plotting histogram for Z\n",
      "Plotting histogram for Z\n",
      "Plotting histogram for Z\n",
      "Plotting histogram for Z\n",
      "Plotting histogram for Z\n",
      "Plotting histogram for Z\n",
      "Plotting histogram for Z\n",
      "Plotting histogram for Z\n",
      "Plotting histogram for Z\n",
      "Plotting histogram for Z\n",
      "Plotting histogram for Z\n",
      "Plotting histogram for Z\n",
      "Plotting histogram for Z\n",
      "Plotting histogram for Z\n",
      "Plotting histogram for Z\n",
      "Plotting histogram for Z\n",
      "Plotting histogram for Z\n",
      "Plotting histogram for Z\n",
      "Plotting histogram for Z\n",
      "Plotting histogram for Z\n",
      "Plotting histogram for Z\n",
      "Plotting histogram for Z\n",
      "Plotting histogram for Z\n",
      "Plotting histogram for Z\n",
      "Plotting histogram for Z\n",
      "Plotting histogram for Z\n",
      "Plotting histogram for Z\n",
      "Plotting histogram for Z\n",
      "Plotting histogram for Z\n",
      "Plotting histogram for Z\n"
     ]
    },
    {
     "name": "stderr",
     "output_type": "stream",
     "text": [
      "/home1/03057/zhafen/repos/galaxy-dive/galaxy_dive/plot_data/generic_plotter.py:231: RuntimeWarning: invalid value encountered in divide\n",
      "  hist = hist.astype( float ) / ( hist.sum()*(edges[1] - edges[0]) )\n"
     ]
    },
    {
     "name": "stdout",
     "output_type": "stream",
     "text": [
      "Plotting histogram for Z\n",
      "Plotting histogram for Z\n",
      "Plotting histogram for Z\n",
      "Plotting histogram for Z\n",
      "Plotting histogram for Z\n",
      "Plotting histogram for Z\n",
      "Plotting histogram for Z\n",
      "Plotting histogram for Z\n",
      "Plotting histogram for Z\n",
      "Plotting histogram for Z\n",
      "Plotting histogram for Z\n",
      "Plotting histogram for Z\n",
      "Plotting histogram for Z\n",
      "Plotting histogram for Z\n",
      "Plotting histogram for Z\n",
      "Plotting histogram for Z\n",
      "Plotting histogram for Z\n",
      "Plotting histogram for Z\n",
      "File saved at /home1/03057/zhafen/papers/CGM_origin/figures/CGM_metallicity_snum465.pdf\n"
     ]
    },
    {
     "data": {
      "image/png": "[encoded data removed]",
      "text/plain": [
       "<matplotlib.figure.Figure at 0x2b4fbcf0db10>"
      ]
     },
     "metadata": {},
     "output_type": "display_data"
    }
   ],
   "source": [
    "fig = plt.figure( figsize=(10,8), facecolor='white' )\n",
    "main_ax = plt.gca()\n",
    "\n",
    "z_min = halo_masses.array().min()/1.5\n",
    "z_max = halo_masses.array().max()*1.5\n",
    "\n",
    "gs = matplotlib.gridspec.GridSpec( len( classification_list ), 1, )\n",
    "\n",
    "gs.update(wspace=0.025, hspace=0.0001)\n",
    "\n",
    "hists = utilities.SmartDict( {} )\n",
    "for i, classification in enumerate( classification_list ):\n",
    "    \n",
    "    ax = plt.subplot( gs[i,0] )\n",
    "    \n",
    "    hists[classification] = utilities.SmartDict( {} )\n",
    "    \n",
    "    for sim_name, w_plotter in w_set.items():\n",
    "        \n",
    "        if sim_name == 'm10q':\n",
    "            continue\n",
    "        \n",
    "        w = w_plotter.data_object\n",
    "        w.retrieve_halo_data()\n",
    "        m_vir = w.m_vir.values[ind]\n",
    "\n",
    "        z_width = np.log10( z_max ) - np.log10( z_min )\n",
    "        color_value = ( np.log10( m_vir ) - np.log10( z_min ) )/z_width\n",
    "        color = cm.viridis( color_value )\n",
    "        \n",
    "        if sim_name[-3:] == '_md':\n",
    "            linestyle = '--'\n",
    "        else:\n",
    "            linestyle = '-'\n",
    "\n",
    "        hists[classification][sim_name], edges = w_plotter.histogram(\n",
    "            'Z',\n",
    "            ax = ax,\n",
    "            cdf = True,\n",
    "    #         y_range = [ 0., 1., ],\n",
    "    #         x_range = [ 0., 10., ],\n",
    "            x_label = r'Z $(Z_{\\odot}$)',\n",
    "            y_label = p_constants.CLASSIFICATION_LABELS[classification],\n",
    "            bins = np.logspace( -5, 5., 128 ),\n",
    "            slices = ind,\n",
    "            add_plot_label = False,\n",
    "            color = color,\n",
    "            x_scale = 'log',\n",
    "            assert_contains_all_data = False,\n",
    "            classification = classification,\n",
    "            histogram_style = 'line',\n",
    "            linestyle = linestyle,\n",
    "            return_dist = True,\n",
    "        )\n",
    "        \n",
    "    ax.set_ylim( 0., 1., )\n",
    "    ax.set_xlim( 1e-4, 5., )\n",
    "    \n",
    "    # Adjust tick parameters\n",
    "    ax.tick_params( direction='inout', which='both', top=True, )\n",
    "    \n",
    "    # Avoid overlapping ticks\n",
    "    ax.get_yticklabels()[0].set_verticalalignment( 'bottom' )\n",
    "    ax.get_yticklabels()[-1].set_verticalalignment( 'top' )\n",
    "#     ax.set_yticklabels([0., 0.5, 1. ], va='top' )\n",
    "\n",
    "    # Rotate labels\n",
    "#     ax.yaxis.label.set_rotation( 'horizontal' )\n",
    "#     ax.yaxis.label.set_color(\n",
    "#         p_constants.CLASSIFICATION_COLORS_B[classification]\n",
    "#     )\n",
    "#     ax.yaxis.label.set_path_effects(\n",
    "#         [\n",
    "#             path_effects.Stroke(\n",
    "#                 linewidth=2,\n",
    "#                 foreground=p_constants.CLASSIFICATION_COLORS_B[classification]\n",
    "# #                 foreground='k',\n",
    "#             ),\n",
    "#             path_effects.Normal() \n",
    "#         ]\n",
    "#     )\n",
    "    \n",
    "    # Add a label to the y axes\n",
    "#     if i == 1:\n",
    "#         ax.annotate(\n",
    "#             s = 'Cumulative Distribution',\n",
    "#             xy = ( -0.15, 0.5, ),\n",
    "#             xycoords = 'axes fraction',\n",
    "#             fontsize = 22,\n",
    "#             rotation = 'vertical',\n",
    "#             verticalalignment = 'center',\n",
    "#             ha = 'center',\n",
    "#         )\n",
    "    if i == 0:\n",
    "        formatted_redshift = '{:.02g}'.format( w.redshift.values[ind] )\n",
    "\n",
    "        ax.annotate(\n",
    "        #                 s = r'$\\frac{d(M/M_{\\rm tot})}{d(r/r_{\\rm vir})}' + r'(z={})$'.format( formatted_redshift ),\n",
    "            s = r'CDF$( Z \\mid$origin, ' + r'$z={})$'.format( formatted_redshift ),\n",
    "            xy = ( -0.1, 1.2, ),\n",
    "            xycoords = 'axes fraction',\n",
    "            fontsize = 28,\n",
    "            ha = 'left',\n",
    "        )\n",
    "    \n",
    "    # Hide labels\n",
    "    if i != len( classification_list ) - 1:\n",
    "        ax.tick_params( labelbottom = False )\n",
    "    if i == 0:\n",
    "        ax.tick_params( labeltop = False )\n",
    "\n",
    "# Add a colorbar\n",
    "sm = cm.ScalarMappable(\n",
    "    cmap = cm.viridis,\n",
    "    norm=colors.LogNorm( z_min, z_max ),\n",
    ")\n",
    "sm._A = []\n",
    "plotting.add_colorbar(\n",
    "    fig,\n",
    "    sm,\n",
    "    method='fig',\n",
    "    ax_location=[0.905, 0.125, 0.03, 0.76]\n",
    ")\n",
    "\n",
    "plt.subplot( gs[0,0] ).annotate(\n",
    "    s = r'$M_{\\rm h}$ $(M_{\\odot})$',\n",
    "    xy = (1., 1.1),\n",
    "#     xy = (1.15, 0.5),\n",
    "    xycoords = 'axes fraction',\n",
    "    fontsize = 22,\n",
    ")\n",
    "\n",
    "save_file = 'CGM_metallicity_snum{}.pdf'.format( snum )\n",
    "\n",
    "plotting.save_fig(\n",
    "    out_dir = file_manager.get_project_figure_dir(),\n",
    "    save_file = save_file,\n",
    "    fig = fig,\n",
    ")"
   ]
  },
  {
   "cell_type": "markdown",
   "metadata": {},
   "source": [
    "# Analysis of the Plot"
   ]
  },
  {
   "cell_type": "code",
   "execution_count": 20,
   "metadata": {},
   "outputs": [],
   "source": [
    "import os\n",
    "import py2tex.py2tex as py2tex"
   ]
  },
  {
   "cell_type": "code",
   "execution_count": 21,
   "metadata": {},
   "outputs": [],
   "source": [
    "tex_filepath = os.path.join( file_manager.project_parameters['project_dir'], 'variables.tex' )"
   ]
  },
  {
   "cell_type": "code",
   "execution_count": 22,
   "metadata": {},
   "outputs": [],
   "source": [
    "tex_file = py2tex.TeXVariableFile( tex_filepath )"
   ]
  },
  {
   "cell_type": "code",
   "execution_count": 23,
   "metadata": {},
   "outputs": [],
   "source": [
    "# Used for variable names\n",
    "if snum == 465:\n",
    "    regime = 'low'\n",
    "if snum == 172:\n",
    "    regime = 'high'"
   ]
  },
  {
   "cell_type": "markdown",
   "metadata": {},
   "source": [
    "## IGM Accretion"
   ]
  },
  {
   "cell_type": "code",
   "execution_count": 24,
   "metadata": {},
   "outputs": [],
   "source": [
    "class_hists = hists['is_CGM_NEP']"
   ]
  },
  {
   "cell_type": "code",
   "execution_count": 25,
   "metadata": {},
   "outputs": [],
   "source": [
    "sub_hists = class_hists.split_by_key_slice( slice(0,3) )"
   ]
  },
  {
   "cell_type": "code",
   "execution_count": 26,
   "metadata": {},
   "outputs": [],
   "source": [
    "m12s = sub_hists['m12'].split_by_key_slice( slice(-3,100), '_md' )"
   ]
  },
  {
   "cell_type": "code",
   "execution_count": 27,
   "metadata": {},
   "outputs": [],
   "source": [
    "class_data = w_set.data_object.get_selected_data(\n",
    "    'Z',\n",
    "    classification='is_CGM_NEP',\n",
    "    sl = slice(None,ind),\n",
    ")"
   ]
  },
  {
   "cell_type": "code",
   "execution_count": 28,
   "metadata": {},
   "outputs": [],
   "source": [
    "sub_data = class_data.split_by_key_slice( slice(0,3) )"
   ]
  },
  {
   "cell_type": "code",
   "execution_count": 29,
   "metadata": {},
   "outputs": [],
   "source": [
    "m12s = sub_data['m12'].split_by_key_slice( slice(-3,100), '_md' )"
   ]
  },
  {
   "cell_type": "code",
   "execution_count": 30,
   "metadata": {},
   "outputs": [],
   "source": [
    "m12_nep_med = m12s[True].apply( np.median ).array().mean()"
   ]
  },
  {
   "cell_type": "code",
   "execution_count": 31,
   "metadata": {},
   "outputs": [
    {
     "name": "stdout",
     "output_type": "stream",
     "text": [
      "Saving 4\\times10^{-2} as metMWmdNEPmedlow\n"
     ]
    }
   ],
   "source": [
    "tex_file.save_variable(\n",
    "    'metMWmdNEPmed{}'.format( regime ),\n",
    "    py2tex.to_tex_scientific_notation( m12_nep_med, 1 ),\n",
    ")"
   ]
  },
  {
   "cell_type": "markdown",
   "metadata": {},
   "source": [
    "## Wind"
   ]
  },
  {
   "cell_type": "code",
   "execution_count": 32,
   "metadata": {},
   "outputs": [],
   "source": [
    "class_hists = hists['is_CGM_IP']"
   ]
  },
  {
   "cell_type": "code",
   "execution_count": 33,
   "metadata": {},
   "outputs": [],
   "source": [
    "sub_hists = class_hists.split_by_key_slice( slice(0,3) )"
   ]
  },
  {
   "cell_type": "code",
   "execution_count": 34,
   "metadata": {},
   "outputs": [],
   "source": [
    "m12s = sub_hists['m12'].split_by_key_slice( slice(-3,100), '_md' )"
   ]
  },
  {
   "cell_type": "code",
   "execution_count": 35,
   "metadata": {},
   "outputs": [],
   "source": [
    "class_data = w_set.data_object.get_selected_data(\n",
    "    'Z',\n",
    "    classification='is_CGM_IP',\n",
    "    sl = slice(None,ind),\n",
    ")"
   ]
  },
  {
   "cell_type": "code",
   "execution_count": 36,
   "metadata": {},
   "outputs": [],
   "source": [
    "sub_data = class_data.split_by_key_slice( slice(0,3) )"
   ]
  },
  {
   "cell_type": "code",
   "execution_count": 37,
   "metadata": {},
   "outputs": [],
   "source": [
    "m12s = sub_data['m12'].split_by_key_slice( slice(-3,100), '_md' )"
   ]
  },
  {
   "cell_type": "code",
   "execution_count": 38,
   "metadata": {},
   "outputs": [],
   "source": [
    "m12_wind_med = m12s[False].apply( np.median ).array().mean()"
   ]
  },
  {
   "cell_type": "code",
   "execution_count": 39,
   "metadata": {},
   "outputs": [
    {
     "name": "stdout",
     "output_type": "stream",
     "text": [
      "Saving 4\\times10^{-1} as metMWwindmedlow\n"
     ]
    }
   ],
   "source": [
    "tex_file.save_variable(\n",
    "    'metMWwindmed{}'.format( regime ),\n",
    "    py2tex.to_tex_scientific_notation( m12_wind_med, 1 ),\n",
    ")"
   ]
  },
  {
   "cell_type": "code",
   "execution_count": 40,
   "metadata": {},
   "outputs": [],
   "source": [
    "m11_wind_med = sub_data['m11'].apply( np.median ).array().mean()"
   ]
  },
  {
   "cell_type": "code",
   "execution_count": 41,
   "metadata": {},
   "outputs": [
    {
     "name": "stdout",
     "output_type": "stream",
     "text": [
      "Saving 2\\times10^{-1} as metsubMWwindmedlow\n"
     ]
    }
   ],
   "source": [
    "tex_file.save_variable(\n",
    "    'metsubMWwindmed{}'.format( regime ),\n",
    "    py2tex.to_tex_scientific_notation( m11_wind_med, 1 ),\n",
    ")"
   ]
  },
  {
   "cell_type": "code",
   "execution_count": 42,
   "metadata": {},
   "outputs": [],
   "source": [
    "m10_wind_med = sub_data['m10'].apply( np.median ).array().mean()"
   ]
  },
  {
   "cell_type": "code",
   "execution_count": 43,
   "metadata": {},
   "outputs": [
    {
     "name": "stdout",
     "output_type": "stream",
     "text": [
      "Saving 3\\times10^{-2} as metdwarfwindmedlow\n"
     ]
    }
   ],
   "source": [
    "tex_file.save_variable(\n",
    "    'metdwarfwindmed{}'.format( regime ),\n",
    "    py2tex.to_tex_scientific_notation( m10_wind_med, 1 ),\n",
    ")"
   ]
  },
  {
   "cell_type": "code",
   "execution_count": 44,
   "metadata": {},
   "outputs": [],
   "source": [
    "wind_spread = np.log10( m12_wind_med/m10_wind_med )"
   ]
  },
  {
   "cell_type": "code",
   "execution_count": 45,
   "metadata": {},
   "outputs": [
    {
     "name": "stdout",
     "output_type": "stream",
     "text": [
      "Saving 1 as metwindspreadlow\n"
     ]
    }
   ],
   "source": [
    "tex_file.save_variable(\n",
    "    'metwindspread{}'.format( regime ),\n",
    "    '{:.01g}'.format( wind_spread ),\n",
    ")"
   ]
  },
  {
   "cell_type": "code",
   "execution_count": 46,
   "metadata": {},
   "outputs": [],
   "source": [
    "m12_iqr = m12s[False].apply( scipy.stats.iqr ).array().mean()"
   ]
  },
  {
   "cell_type": "code",
   "execution_count": 47,
   "metadata": {},
   "outputs": [
    {
     "name": "stdout",
     "output_type": "stream",
     "text": [
      "Saving 1 as metMWwindiqrlow\n"
     ]
    }
   ],
   "source": [
    "tex_file.save_variable(\n",
    "    'metMWwindiqr{}'.format( regime ),\n",
    "    '{:.01g}'.format( m12_iqr ),\n",
    ")"
   ]
  },
  {
   "cell_type": "code",
   "execution_count": 48,
   "metadata": {},
   "outputs": [],
   "source": [
    "m12_md_iqr = m12s[True].apply( scipy.stats.iqr ).array().mean()"
   ]
  },
  {
   "cell_type": "code",
   "execution_count": 49,
   "metadata": {},
   "outputs": [
    {
     "name": "stdout",
     "output_type": "stream",
     "text": [
      "Saving 0.4 as metMWmdwindiqrlow\n"
     ]
    }
   ],
   "source": [
    "tex_file.save_variable(\n",
    "    'metMWmdwindiqr{}'.format( regime ),\n",
    "    '{:.01g}'.format( m12_md_iqr ),\n",
    ")"
   ]
  },
  {
   "cell_type": "markdown",
   "metadata": {},
   "source": [
    "## Satellite Wind"
   ]
  },
  {
   "cell_type": "code",
   "execution_count": 50,
   "metadata": {},
   "outputs": [],
   "source": [
    "class_hists = hists['is_CGM_EP']"
   ]
  },
  {
   "cell_type": "code",
   "execution_count": 51,
   "metadata": {},
   "outputs": [],
   "source": [
    "sub_hists = class_hists.split_by_key_slice( slice(0,3) )"
   ]
  },
  {
   "cell_type": "code",
   "execution_count": 52,
   "metadata": {},
   "outputs": [],
   "source": [
    "m12s = sub_hists['m12'].split_by_key_slice( slice(-3,100), '_md' )"
   ]
  },
  {
   "cell_type": "code",
   "execution_count": 53,
   "metadata": {},
   "outputs": [],
   "source": [
    "class_data = w_set.data_object.get_selected_data(\n",
    "    'Z',\n",
    "    classification='is_CGM_EP',\n",
    "    sl = slice(None,ind),\n",
    ")"
   ]
  },
  {
   "cell_type": "code",
   "execution_count": 54,
   "metadata": {},
   "outputs": [],
   "source": [
    "class_data.remove_empty_items()"
   ]
  },
  {
   "cell_type": "code",
   "execution_count": 55,
   "metadata": {},
   "outputs": [],
   "source": [
    "sub_data = class_data.split_by_key_slice( slice(0,3) )"
   ]
  },
  {
   "cell_type": "code",
   "execution_count": 56,
   "metadata": {},
   "outputs": [],
   "source": [
    "m12s = sub_data['m12'].split_by_key_slice( slice(-3,100), '_md' )"
   ]
  },
  {
   "cell_type": "code",
   "execution_count": 57,
   "metadata": {},
   "outputs": [],
   "source": [
    "m12_wind_med = m12s[False].apply( np.median ).array().mean()"
   ]
  },
  {
   "cell_type": "code",
   "execution_count": 58,
   "metadata": {},
   "outputs": [
    {
     "name": "stdout",
     "output_type": "stream",
     "text": [
      "Saving 6\\times10^{-2} as metMWsatwindmedlow\n"
     ]
    }
   ],
   "source": [
    "tex_file.save_variable(\n",
    "    'metMWsatwindmed{}'.format( regime ),\n",
    "    py2tex.to_tex_scientific_notation( m12_wind_med, 1 ),\n",
    ")"
   ]
  },
  {
   "cell_type": "code",
   "execution_count": 59,
   "metadata": {},
   "outputs": [],
   "source": [
    "m12_md_wind_med = m12s[True].apply( np.median ).array().mean()"
   ]
  },
  {
   "cell_type": "code",
   "execution_count": 60,
   "metadata": {},
   "outputs": [
    {
     "name": "stdout",
     "output_type": "stream",
     "text": [
      "Saving 4 as metMWsatwindboostlow\n"
     ]
    }
   ],
   "source": [
    "tex_file.save_variable(\n",
    "    'metMWsatwindboost{}'.format( regime ),\n",
    "    py2tex.to_tex_scientific_notation( m12_md_wind_med/m12_wind_med, 1 )\n",
    ")"
   ]
  },
  {
   "cell_type": "code",
   "execution_count": 61,
   "metadata": {},
   "outputs": [
    {
     "data": {
      "text/plain": [
       "0.059613984"
      ]
     },
     "execution_count": 61,
     "metadata": {},
     "output_type": "execute_result"
    }
   ],
   "source": [
    "m11_wind_med = sub_data['m11'].apply( np.median ).array().mean()\n",
    "m11_wind_med"
   ]
  },
  {
   "cell_type": "code",
   "execution_count": 62,
   "metadata": {},
   "outputs": [
    {
     "name": "stdout",
     "output_type": "stream",
     "text": [
      "Saving 6\\times10^{-2} as metsubMWsatwindmedlow\n"
     ]
    }
   ],
   "source": [
    "tex_file.save_variable(\n",
    "    'metsubMWsatwindmed{}'.format( regime ),\n",
    "    py2tex.to_tex_scientific_notation( m11_wind_med, 1 ),\n",
    ")"
   ]
  },
  {
   "cell_type": "code",
   "execution_count": 63,
   "metadata": {},
   "outputs": [],
   "source": [
    "m10_wind_med = sub_data['m10'].apply( np.median ).array().mean()"
   ]
  },
  {
   "cell_type": "code",
   "execution_count": 64,
   "metadata": {},
   "outputs": [
    {
     "name": "stdout",
     "output_type": "stream",
     "text": [
      "Saving 9\\times10^{-3} as metdwarfsatwindmedlow\n"
     ]
    }
   ],
   "source": [
    "tex_file.save_variable(\n",
    "    'metdwarfsatwindmed{}'.format( regime ),\n",
    "    py2tex.to_tex_scientific_notation( m10_wind_med, 1 ),\n",
    ")"
   ]
  },
  {
   "cell_type": "code",
   "execution_count": 65,
   "metadata": {},
   "outputs": [],
   "source": [
    "wind_spread = np.log10( m12_wind_med/m10_wind_med )"
   ]
  },
  {
   "cell_type": "code",
   "execution_count": 66,
   "metadata": {},
   "outputs": [
    {
     "name": "stdout",
     "output_type": "stream",
     "text": [
      "Saving 0.8 as metsatwindspreadlow\n"
     ]
    }
   ],
   "source": [
    "tex_file.save_variable(\n",
    "    'metsatwindspread{}'.format( regime ),\n",
    "    '{:.01g}'.format( wind_spread ),\n",
    ")"
   ]
  },
  {
   "cell_type": "code",
   "execution_count": null,
   "metadata": {},
   "outputs": [],
   "source": []
  }
 ],
 "metadata": {
  "kernelspec": {
   "display_name": "Python 2",
   "language": "python",
   "name": "python2"
  },
  "language_info": {
   "codemirror_mode": {
    "name": "ipython",
    "version": 2
   },
   "file_extension": ".py",
   "mimetype": "text/x-python",
   "name": "python",
   "nbconvert_exporter": "python",
   "pygments_lexer": "ipython2",
   "version": "2.7.13"
  }
 },
 "nbformat": 4,
 "nbformat_minor": 2
}
