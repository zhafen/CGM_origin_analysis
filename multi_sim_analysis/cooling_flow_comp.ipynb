{
 "cells": [
  {
   "cell_type": "code",
   "execution_count": 1,
   "metadata": {
    "collapsed": true
   },
   "outputs": [
    {
     "name": "stderr",
     "output_type": "stream",
     "text": [
      "/home1/03057/zhafen/.local/lib/python2.7/site-packages/h5py/__init__.py:34: FutureWarning: Conversion of the second argument of issubdtype from `float` to `np.floating` is deprecated. In future, it will be treated as `np.float64 == np.dtype(float).type`.\n",
      "  from ._conv import register_converters as _register_converters\n"
     ]
    }
   ],
   "source": [
    "import copy\n",
    "import numpy as np\n",
    "import os\n",
    "import palettable\n",
    "import verdict"
   ]
  },
  {
   "cell_type": "code",
   "execution_count": 2,
   "metadata": {},
   "outputs": [],
   "source": [
    "import matplotlib\n",
    "import matplotlib.pyplot as plt\n",
    "import matplotlib.colors as colors\n",
    "import matplotlib.cm as cm\n",
    "import matplotlib.patheffects as path_effects\n",
    "import matplotlib.gridspec as gridspec\n",
    "import matplotlib.transforms as transforms"
   ]
  },
  {
   "cell_type": "code",
   "execution_count": 3,
   "metadata": {},
   "outputs": [],
   "source": [
    "import analysis_config"
   ]
  },
  {
   "cell_type": "code",
   "execution_count": 4,
   "metadata": {
    "collapsed": false
   },
   "outputs": [
    {
     "name": "stderr",
     "output_type": "stream",
     "text": [
      "/opt/apps/intel17/python/2.7.13/lib/python2.7/site-packages/matplotlib/__init__.py:1405: UserWarning: \n",
      "This call to matplotlib.use() has no effect because the backend has already\n",
      "been chosen; matplotlib.use() must be called *before* pylab, matplotlib.pyplot,\n",
      "or matplotlib.backends is imported for the first time.\n",
      "\n",
      "  warnings.warn(_use_error_msg)\n"
     ]
    }
   ],
   "source": [
    "import linefinder.analyze_data.worldlines as a_worldlines\n",
    "import linefinder.analyze_data.worldline_set as a_w_set\n",
    "import linefinder.analyze_data.plot_worldlines as p_worldlines"
   ]
  },
  {
   "cell_type": "code",
   "execution_count": 5,
   "metadata": {
    "collapsed": true
   },
   "outputs": [],
   "source": [
    "import linefinder.utils.presentation_constants as p_constants\n",
    "import linefinder.utils.file_management as file_management\n",
    "import linefinder.config as linefinder_config"
   ]
  },
  {
   "cell_type": "code",
   "execution_count": 6,
   "metadata": {},
   "outputs": [],
   "source": [
    "import galaxy_dive.plot_data.plotting as plotting\n",
    "import galaxy_dive.utils.astro as astro_utils\n",
    "import galaxy_dive.utils.utilities as utilities\n",
    "import galaxy_dive.utils.executable_helpers as exec_helpers\n",
    "import galaxy_dive.plot_data.qual_colormaps as qual_colormaps"
   ]
  },
  {
   "cell_type": "markdown",
   "metadata": {},
   "source": [
    "# Load Data"
   ]
  },
  {
   "cell_type": "code",
   "execution_count": 7,
   "metadata": {
    "collapsed": true
   },
   "outputs": [
    {
     "name": "stdout",
     "output_type": "stream",
     "text": [
      "Using snum 600, galdef _galdefv3\n"
     ]
    }
   ],
   "source": [
    "snum, galdef = exec_helpers.choose_config_or_commandline(\n",
    "    [ analysis_config.SNUM, analysis_config.GALDEF ]\n",
    ")\n",
    "print( 'Using snum {}, galdef {}'.format( snum, galdef ) )"
   ]
  },
  {
   "cell_type": "code",
   "execution_count": 8,
   "metadata": {},
   "outputs": [],
   "source": [
    "tag_tail = '_CGM_snum{}'.format( snum )"
   ]
  },
  {
   "cell_type": "code",
   "execution_count": 9,
   "metadata": {
    "collapsed": true
   },
   "outputs": [],
   "source": [
    "ahf_index = 600"
   ]
  },
  {
   "cell_type": "code",
   "execution_count": 10,
   "metadata": {
    "collapsed": true
   },
   "outputs": [],
   "source": [
    "ind = ahf_index - snum"
   ]
  },
  {
   "cell_type": "code",
   "execution_count": 11,
   "metadata": {
    "collapsed": true
   },
   "outputs": [],
   "source": [
    "# Load the a helper for loading files easily\n",
    "file_manager = file_management.FileManager( project='CGM_origin' )"
   ]
  },
  {
   "cell_type": "code",
   "execution_count": 12,
   "metadata": {},
   "outputs": [],
   "source": [
    "sim_names = [\n",
    "    'm12i',\n",
    "#     'm12f',\n",
    "#     'm12m',\n",
    "#     'm12c_md',\n",
    "#     'm12r_md',\n",
    "#     'm12w_md',\n",
    "]"
   ]
  },
  {
   "cell_type": "code",
   "execution_count": 13,
   "metadata": {
    "collapsed": false
   },
   "outputs": [],
   "source": [
    "defaults, variations = file_manager.get_linefinder_analysis_defaults_and_variations(\n",
    "    tag_tail, \n",
    "    sim_names = sim_names,\n",
    "    galdef = galdef,\n",
    ")"
   ]
  },
  {
   "cell_type": "code",
   "execution_count": 14,
   "metadata": {
    "collapsed": false
   },
   "outputs": [
    {
     "data": {
      "text/plain": [
       "{'ahf_index': 600,\n",
       " 'data_dir': '/scratch/03057/zhafen/linefinder_data/core/m12i_res7100/data',\n",
       " 'halo_data_dir': '/scratch/03057/zhafen/core/m12i_res7100/halo',\n",
       " 'ids_tag': 'm12i_CGM_snum600',\n",
       " 'main_halo_id': 0,\n",
       " 'ptracks_tag': 'm12i_CGM_snum600',\n",
       " 'tag': 'm12i_CGM_snum600_galdefv3'}"
      ]
     },
     "execution_count": 14,
     "metadata": {},
     "output_type": "execute_result"
    }
   ],
   "source": [
    "defaults"
   ]
  },
  {
   "cell_type": "code",
   "execution_count": 15,
   "metadata": {
    "collapsed": false
   },
   "outputs": [
    {
     "data": {
      "text/plain": [
       "{'m12i': {}}"
      ]
     },
     "execution_count": 15,
     "metadata": {},
     "output_type": "execute_result"
    }
   ],
   "source": [
    "variations"
   ]
  },
  {
   "cell_type": "code",
   "execution_count": 16,
   "metadata": {
    "collapsed": false
   },
   "outputs": [],
   "source": [
    "w_set = a_w_set.WorldlineSet( defaults, variations )"
   ]
  },
  {
   "cell_type": "markdown",
   "metadata": {},
   "source": [
    "# Analyze Data"
   ]
  },
  {
   "cell_type": "code",
   "execution_count": 17,
   "metadata": {},
   "outputs": [],
   "source": [
    "w_set.data_object.retrieve_halo_data()\n",
    "halo_masses = w_set.data_object.m_vir.inner_item( snum )"
   ]
  },
  {
   "cell_type": "code",
   "execution_count": 18,
   "metadata": {},
   "outputs": [],
   "source": [
    "# Start from a fresh slate\n",
    "w_set.data_object.data_masker.clear_masks( True )\n",
    "# Choose only gas\n",
    "w_set.data_object.data_masker.mask_data( 'PType', data_value=linefinder_config.PTYPE_GAS )\n",
    "\n",
    "# Set up classifications\n",
    "classification_list = copy.copy( p_constants.CLASSIFICATIONS_CGM_ORIGIN )\n",
    "# classification_list.remove( 'is_CGM_satellite' )\n",
    "classification_list.insert( 0, 'is_in_CGM' )"
   ]
  },
  {
   "cell_type": "code",
   "execution_count": 19,
   "metadata": {},
   "outputs": [],
   "source": [
    "# Set up mass bins\n",
    "mass_bins = [ 'm12', ]"
   ]
  },
  {
   "cell_type": "code",
   "execution_count": 20,
   "metadata": {},
   "outputs": [
    {
     "name": "stdout",
     "output_type": "stream",
     "text": [
      "is_in_CGM\n"
     ]
    },
    {
     "name": "stderr",
     "output_type": "stream",
     "text": [
      "/home1/03057/zhafen/repos/linefinder/linefinder/analyze_data/worldlines.py:1271: RuntimeWarning: divide by zero encountered in divide\n",
      "  self.get_data( 'R' ) / self.get_data('t_cool_lookup')\n"
     ]
    },
    {
     "name": "stdout",
     "output_type": "stream",
     "text": [
      "is_CGM_IGM_accretion\n",
      "is_CGM_wind\n",
      "is_CGM_satellite_wind\n",
      "is_CGM_satellite_ISM\n"
     ]
    }
   ],
   "source": [
    "# Loop through classifications and get raw data\n",
    "\n",
    "radii = verdict.Dict({})\n",
    "densities = verdict.Dict({})\n",
    "masses = verdict.Dict({})\n",
    "vr_comps = verdict.Dict({})\n",
    "for classification in classification_list:\n",
    "\n",
    "    print( classification )\n",
    "    \n",
    "    radii[classification] = w_set.data_object.get_selected_data(\n",
    "        'R',\n",
    "        scale_key = 'Rvir',\n",
    "        scale_a_power = 1.,\n",
    "        scale_h_power = -1.,\n",
    "        sl = (slice(None),ind),\n",
    "        classification = classification,\n",
    "    )\n",
    "    \n",
    "    densities[classification] = w_set.data_object.get_selected_data(\n",
    "        'HDen',\n",
    "        sl = (slice(None),ind),\n",
    "        classification = classification,\n",
    "    )\n",
    "    \n",
    "    masses[classification] = w_set.data_object.get_selected_data(\n",
    "        'M',\n",
    "        sl = (slice(None),ind),\n",
    "        classification = classification,\n",
    "    )\n",
    "    \n",
    "    vr_comps[classification] = w_set.data_object.get_selected_data(\n",
    "        'vr_div_v_cool',\n",
    "        sl = (slice(None),ind),\n",
    "        classification = classification,\n",
    "    )"
   ]
  },
  {
   "cell_type": "code",
   "execution_count": 21,
   "metadata": {},
   "outputs": [],
   "source": [
    "# Calculate the volumes. Note that the units are weird for these volumes, since it's mass\n",
    "# divided by a number density\n",
    "volumes = masses / densities"
   ]
  },
  {
   "cell_type": "code",
   "execution_count": 22,
   "metadata": {},
   "outputs": [],
   "source": [
    "# Choose one of the plotters to plot data with. It doesn't matter which one,\n",
    "# because we'll be passing data\n",
    "w_plotter = w_set['m12i']\n",
    "w = w_plotter.data_object"
   ]
  },
  {
   "cell_type": "code",
   "execution_count": 29,
   "metadata": {},
   "outputs": [
    {
     "name": "stdout",
     "output_type": "stream",
     "text": [
      "300.0\n"
     ]
    }
   ],
   "source": [
    "# Get the minimum radii to plot to\n",
    "split_radii = radii['is_in_CGM'].split_by_dict( linefinder_config.MASS_BINS )\n",
    "min_radii = {}\n",
    "for key, item in split_radii.items():\n",
    "    n_min = 3\n",
    "    \n",
    "    percentile = n_min / float( len( item ) ) * 100.\n",
    "    print( percentile )\n",
    "    \n",
    "    if len( item ) == 1:\n",
    "        min_radii[key] = item.values()[0].min()\n",
    "    else:\n",
    "        min_radii[key] = np.percentile( item.min().array(), percentile  )"
   ]
  },
  {
   "cell_type": "markdown",
   "metadata": {},
   "source": [
    "### Data Storage"
   ]
  },
  {
   "cell_type": "code",
   "execution_count": 30,
   "metadata": {},
   "outputs": [],
   "source": [
    "all_data = verdict.Dict({})"
   ]
  },
  {
   "cell_type": "markdown",
   "metadata": {},
   "source": [
    "# Compare to Stern+19"
   ]
  },
  {
   "cell_type": "code",
   "execution_count": 40,
   "metadata": {},
   "outputs": [
    {
     "name": "stdout",
     "output_type": "stream",
     "text": [
      "File saved at /work/03057/zhafen/extra_plots/CGM_origin/CGM_vr_profile_snum600.pdf\n"
     ]
    },
    {
     "data": {
      "image/png": "[encoded data removed]",
      "text/plain": [
       "<matplotlib.figure.Figure at 0x2b81b9ea41d0>"
      ]
     },
     "metadata": {},
     "output_type": "display_data"
    }
   ],
   "source": [
    "n_rows = len( mass_bins )\n",
    "\n",
    "fig = plt.figure( figsize=(10,n_rows*5), facecolor='white' ) \n",
    "main_ax = plt.gca()\n",
    "\n",
    "gs = gridspec.GridSpec( n_rows, 1 )\n",
    "\n",
    "gs.update(wspace=0.025, hspace=0.0001)\n",
    "\n",
    "vr_data = verdict.Dict({})\n",
    "\n",
    "handles, labels = [], []\n",
    "for j, mass_bin in enumerate( mass_bins ):\n",
    "    \n",
    "    vr_data[mass_bin] = verdict.Dict({})\n",
    "\n",
    "    for i, classification in enumerate( classification_list ):\n",
    "                \n",
    "        ax = plt.subplot(gs[j,0])\n",
    "\n",
    "        radii_bin = radii[classification].split_by_dict( linefinder_config.MASS_BINS )[mass_bin]\n",
    "        vr_comps_bin = vr_comps[classification].split_by_dict( linefinder_config.MASS_BINS )[mass_bin]\n",
    "        volumes_bin = volumes[classification].split_by_dict( linefinder_config.MASS_BINS )[mass_bin]\n",
    "        \n",
    "        # Don't plot classifications when there are sims that have <100 particles\n",
    "        # with that classification\n",
    "        if radii_bin.size.array().min() < 100:\n",
    "            continue\n",
    "            \n",
    "        vr_data[mass_bin][classification] = verdict.Dict({})\n",
    "            \n",
    "        med, low_p, high_p, bin_edges = w_plotter.statistic_and_interval(\n",
    "            'R',\n",
    "            'vr_div_v_cool',\n",
    "            statistic = 'mean',\n",
    "            x_data = np.concatenate( radii_bin.array() ),\n",
    "            y_data = np.concatenate( vr_comps_bin.array() ),\n",
    "#             weights = np.concatenate( volumes_bin.array() ),\n",
    "            slices = ind,\n",
    "            ax = ax,\n",
    "            x_data_args = {\n",
    "                'scale_key': 'Rvir',\n",
    "                'scale_a_power': 1.,\n",
    "                'scale_h_power': -1.,\n",
    "            },\n",
    "            plot_interval = classification != 'is_in_CGM',\n",
    "            fix_invalid = True,\n",
    "            zorder = 1000,\n",
    "            classification = classification,\n",
    "            color = p_constants.CLASSIFICATION_COLORS_B[classification],\n",
    "            label = p_constants.CLASSIFICATION_LABELS[classification],\n",
    "            plot_label = r'$M_{\\rm h}(z=0) \\sim 10^{' + mass_bin[1:] + r'} M_\\odot$',\n",
    "            add_plot_label = ( i == 0 ),\n",
    "            plot_label_kwargs = {\n",
    "                'fontsize': 22,\n",
    "                'xy': ( 0.025, 0.05, ),\n",
    "                'xycoords': 'axes fraction',\n",
    "                'verticalalignment': 'bottom',\n",
    "                'horizontalalignment': 'left',\n",
    "            },\n",
    "            return_values = True,\n",
    "            bins = np.linspace( min_radii[mass_bin], 1., 64 ),\n",
    "            alpha = 0.3,\n",
    "        )\n",
    "        \n",
    "        # Store data\n",
    "        vr_data[mass_bin][classification]['volume_weighted_mean'] = med\n",
    "        vr_data[mass_bin][classification]['16th_percentile'] = low_p\n",
    "        vr_data[mass_bin][classification]['84th_percentile'] = high_p\n",
    "        x_values = bin_edges[:-1] + 0.5 * ( bin_edges[1] - bin_edges[0] )\n",
    "        vr_data[mass_bin][classification]['x_values'] = x_values\n",
    "\n",
    "        # Limits and scale tweaking\n",
    "        y_lims = {\n",
    "            465: [ 2e-6, 1e-1 ],\n",
    "            172: [ 5e-5, 4e-1 ],\n",
    "        }\n",
    "        ax.set_xlim( 0.1, 1. )\n",
    "        ax.set_ylim( -10, 1 )\n",
    "        ax.set_xscale( 'log' )\n",
    "        ax.set_yscale( 'symlog', linthreshy=0.1 )\n",
    "\n",
    "        # Labels\n",
    "        ax.set_xlabel( r'$R$ $(R_{\\rm vir})$', fontsize=22 )\n",
    "        ax.set_ylabel( r'$v_{\\rm r} / ( R / t_{\\rm cool} )$', fontsize=22, )\n",
    "        \n",
    "        # Hide some axis labels\n",
    "        if not ax.is_last_row():\n",
    "            ax.tick_params( labelbottom = False )\n",
    "        if ax.is_first_row():\n",
    "            ax.tick_params( labeltop = True )\n",
    "            \n",
    "        # Plot label\n",
    "        if ax.is_first_row() and classification == 'is_in_CGM':\n",
    "            ax.annotate(\n",
    "                s = r'$z=' + '{:.02g}'.format( w.redshift.values[ind] ) + '$',\n",
    "                xy = ( 0.0, 1.0 ),\n",
    "                xytext = ( 0., 25., ),\n",
    "                xycoords = 'axes fraction',\n",
    "                textcoords = 'offset points',\n",
    "                horizontalalignment = 'center',\n",
    "                verticalalignment = 'bottom',\n",
    "                fontsize = 24,\n",
    "            )\n",
    "            \n",
    "        # Adjust tick parameters\n",
    "        ax.tick_params( direction='in', which='both', top=True, right=True )\n",
    "        \n",
    "        # Legend, including tweaking\n",
    "        if classification == 'is_CGM_satellite_wind':\n",
    "            # Reorder labels and preserve to slap them on the last plot\n",
    "            handles, labels = ax.get_legend_handles_labels()\n",
    "#             for i, gamma in enumerate( gammas ):\n",
    "#                 handles.append( handles[1] )\n",
    "#                 labels.append( labels[1] )\n",
    "#                 handles.remove( handles[1] )\n",
    "#                 labels.remove( labels[1] )\n",
    "        if ax.is_last_row():\n",
    "            loc = {\n",
    "                465: None,\n",
    "                172: 'upper left',\n",
    "            }\n",
    "            ax.legend(\n",
    "                handles,\n",
    "                labels,\n",
    "                prop = { 'size': 18 },\n",
    "#                 loc = loc[snum],\n",
    "                ncol = 2,\n",
    "                framealpha = 1.,\n",
    "                fontsize = 18\n",
    "            )\n",
    "            \n",
    "\n",
    "ax.axhline(\n",
    "    -1,\n",
    "    color = 'k',\n",
    "    linewidth = 3,\n",
    "    linestyle = '--',\n",
    ")\n",
    "            \n",
    "# Save the File\n",
    "save_file = 'CGM_vr_profile_snum{}.pdf'.format( snum )\n",
    "plotting.save_fig(\n",
    "    out_dir = file_manager.project_parameters['extras_dir'],\n",
    "    save_file = save_file,\n",
    "    fig = fig,\n",
    ")\n",
    "\n",
    "all_data['vr'] = vr_data"
   ]
  },
  {
   "cell_type": "code",
   "execution_count": null,
   "metadata": {},
   "outputs": [],
   "source": [
    "assert False"
   ]
  }
 ],
 "metadata": {
  "kernelspec": {
   "display_name": "Python 2",
   "language": "python",
   "name": "python2"
  },
  "language_info": {
   "codemirror_mode": {
    "name": "ipython",
    "version": 2
   },
   "file_extension": ".py",
   "mimetype": "text/x-python",
   "name": "python",
   "nbconvert_exporter": "python",
   "pygments_lexer": "ipython2",
   "version": "2.7.13"
  }
 },
 "nbformat": 4,
 "nbformat_minor": 2
}
