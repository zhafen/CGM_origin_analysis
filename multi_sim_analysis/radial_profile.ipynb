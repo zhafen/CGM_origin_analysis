{
 "cells": [
  {
   "cell_type": "code",
   "execution_count": 1,
   "metadata": {
    "collapsed": true
   },
   "outputs": [
    {
     "name": "stderr",
     "output_type": "stream",
     "text": [
      "/home1/03057/zhafen/.local/lib/python2.7/site-packages/h5py/__init__.py:34: FutureWarning: Conversion of the second argument of issubdtype from `float` to `np.floating` is deprecated. In future, it will be treated as `np.float64 == np.dtype(float).type`.\n",
      "  from ._conv import register_converters as _register_converters\n"
     ]
    }
   ],
   "source": [
    "import copy\n",
    "import numpy as np\n",
    "import os\n",
    "import palettable\n",
    "import verdict"
   ]
  },
  {
   "cell_type": "code",
   "execution_count": 2,
   "metadata": {},
   "outputs": [],
   "source": [
    "import matplotlib\n",
    "import matplotlib.pyplot as plt\n",
    "import matplotlib.colors as colors\n",
    "import matplotlib.cm as cm\n",
    "import matplotlib.patheffects as path_effects\n",
    "import matplotlib.gridspec as gridspec\n",
    "import matplotlib.transforms as transforms"
   ]
  },
  {
   "cell_type": "code",
   "execution_count": 3,
   "metadata": {},
   "outputs": [],
   "source": [
    "import analysis_config"
   ]
  },
  {
   "cell_type": "code",
   "execution_count": 4,
   "metadata": {
    "collapsed": false
   },
   "outputs": [],
   "source": [
    "import linefinder.analyze_data.worldlines as a_worldlines\n",
    "import linefinder.analyze_data.worldline_set as a_w_set\n",
    "import linefinder.analyze_data.plot_worldlines as p_worldlines"
   ]
  },
  {
   "cell_type": "code",
   "execution_count": 5,
   "metadata": {
    "collapsed": true
   },
   "outputs": [],
   "source": [
    "import linefinder.utils.presentation_constants as p_constants\n",
    "import linefinder.utils.file_management as file_management\n",
    "import linefinder.config as linefinder_config"
   ]
  },
  {
   "cell_type": "code",
   "execution_count": 6,
   "metadata": {},
   "outputs": [],
   "source": [
    "import galaxy_dive.plot_data.plotting as plotting\n",
    "import galaxy_dive.utils.astro as astro_utils\n",
    "import galaxy_dive.utils.utilities as utilities\n",
    "import galaxy_dive.utils.executable_helpers as exec_helpers\n",
    "import galaxy_dive.plot_data.qual_colormaps as qual_colormaps"
   ]
  },
  {
   "cell_type": "markdown",
   "metadata": {},
   "source": [
    "# Load Data"
   ]
  },
  {
   "cell_type": "code",
   "execution_count": 7,
   "metadata": {
    "collapsed": true
   },
   "outputs": [
    {
     "name": "stdout",
     "output_type": "stream",
     "text": [
      "Using snum 465, galdef _galdefv3\n"
     ]
    }
   ],
   "source": [
    "snum, galdef = exec_helpers.choose_config_or_commandline(\n",
    "    [ analysis_config.SNUM, analysis_config.GALDEF ]\n",
    ")\n",
    "print( 'Using snum {}, galdef {}'.format( snum, galdef ) )"
   ]
  },
  {
   "cell_type": "code",
   "execution_count": 8,
   "metadata": {},
   "outputs": [],
   "source": [
    "tag_tail = '_CGM_snum{}'.format( snum )"
   ]
  },
  {
   "cell_type": "code",
   "execution_count": 9,
   "metadata": {
    "collapsed": true
   },
   "outputs": [],
   "source": [
    "ahf_index = 600"
   ]
  },
  {
   "cell_type": "code",
   "execution_count": 10,
   "metadata": {
    "collapsed": true
   },
   "outputs": [],
   "source": [
    "ind = ahf_index - snum"
   ]
  },
  {
   "cell_type": "code",
   "execution_count": 11,
   "metadata": {
    "collapsed": true
   },
   "outputs": [],
   "source": [
    "# Load the a helper for loading files easily\n",
    "file_manager = file_management.FileManager( project='CGM_origin' )"
   ]
  },
  {
   "cell_type": "code",
   "execution_count": 12,
   "metadata": {
    "collapsed": false
   },
   "outputs": [],
   "source": [
    "defaults, variations = file_manager.get_linefinder_analysis_defaults_and_variations(\n",
    "    tag_tail, \n",
    "    sim_names = analysis_config.SIM_NAMES,\n",
    "    galdef = galdef,\n",
    ")"
   ]
  },
  {
   "cell_type": "code",
   "execution_count": 13,
   "metadata": {
    "collapsed": false
   },
   "outputs": [
    {
     "data": {
      "text/plain": [
       "{'ahf_index': 600,\n",
       " 'data_dir': '/scratch/03057/zhafen/linefinder_data/core/m12i_res7100/data',\n",
       " 'halo_data_dir': '/scratch/03057/zhafen/core/m12i_res7100/halo',\n",
       " 'ids_tag': 'm12i_CGM_snum465',\n",
       " 'main_halo_id': 0,\n",
       " 'ptracks_tag': 'm12i_CGM_snum465',\n",
       " 'tag': 'm12i_CGM_snum465_galdefv3'}"
      ]
     },
     "execution_count": 13,
     "metadata": {},
     "output_type": "execute_result"
    }
   ],
   "source": [
    "defaults"
   ]
  },
  {
   "cell_type": "code",
   "execution_count": 14,
   "metadata": {
    "collapsed": false
   },
   "outputs": [
    {
     "data": {
      "text/plain": [
       "{'m10q': {'ahf_index': 600,\n",
       "  'data_dir': '/scratch/03057/zhafen/linefinder_data/core/m10q_res250/data',\n",
       "  'halo_data_dir': '/scratch/03057/zhafen/core/m10q_res250/halo',\n",
       "  'ids_tag': 'm10q_CGM_snum465',\n",
       "  'main_halo_id': 0,\n",
       "  'ptracks_tag': 'm10q_CGM_snum465',\n",
       "  'tag': 'm10q_CGM_snum465_galdefv3'},\n",
       " 'm10v': {'ahf_index': 600,\n",
       "  'data_dir': '/scratch/03057/zhafen/linefinder_data/core/m10v_res250/data',\n",
       "  'halo_data_dir': '/scratch/03057/zhafen/core/m10v_res250/halo',\n",
       "  'ids_tag': 'm10v_CGM_snum465',\n",
       "  'main_halo_id': 2,\n",
       "  'ptracks_tag': 'm10v_CGM_snum465',\n",
       "  'tag': 'm10v_CGM_snum465_galdefv3'},\n",
       " 'm10y': {'ahf_index': 600,\n",
       "  'data_dir': '/scratch/03057/zhafen/linefinder_data/core/m10y_res250/data',\n",
       "  'halo_data_dir': '/scratch/03057/zhafen/core/m10y_res250/halo',\n",
       "  'ids_tag': 'm10y_CGM_snum465',\n",
       "  'main_halo_id': 0,\n",
       "  'ptracks_tag': 'm10y_CGM_snum465',\n",
       "  'tag': 'm10y_CGM_snum465_galdefv3'},\n",
       " 'm10z': {'ahf_index': 600,\n",
       "  'data_dir': '/scratch/03057/zhafen/linefinder_data/core/m10z_res250/data',\n",
       "  'halo_data_dir': '/scratch/03057/zhafen/core/m10z_res250/halo',\n",
       "  'ids_tag': 'm10z_CGM_snum465',\n",
       "  'main_halo_id': 0,\n",
       "  'ptracks_tag': 'm10z_CGM_snum465',\n",
       "  'tag': 'm10z_CGM_snum465_galdefv3'},\n",
       " 'm11a': {'ahf_index': 600,\n",
       "  'data_dir': '/scratch/03057/zhafen/linefinder_data/core/m11a_res2100/data',\n",
       "  'halo_data_dir': '/scratch/03057/zhafen/core/m11a_res2100/halo',\n",
       "  'ids_tag': 'm11a_CGM_snum465',\n",
       "  'main_halo_id': 0,\n",
       "  'ptracks_tag': 'm11a_CGM_snum465',\n",
       "  'tag': 'm11a_CGM_snum465_galdefv3'},\n",
       " 'm11b': {'ahf_index': 600,\n",
       "  'data_dir': '/scratch/03057/zhafen/linefinder_data/core/m11b_res2100/data',\n",
       "  'halo_data_dir': '/scratch/03057/zhafen/core/m11b_res2100/halo',\n",
       "  'ids_tag': 'm11b_CGM_snum465',\n",
       "  'main_halo_id': 0,\n",
       "  'ptracks_tag': 'm11b_CGM_snum465',\n",
       "  'tag': 'm11b_CGM_snum465_galdefv3'},\n",
       " 'm11c': {'ahf_index': 600,\n",
       "  'data_dir': '/scratch/03057/zhafen/linefinder_data/core/m11c_res2100/data',\n",
       "  'halo_data_dir': '/scratch/03057/zhafen/core/m11c_res2100/halo',\n",
       "  'ids_tag': 'm11c_CGM_snum465',\n",
       "  'main_halo_id': 0,\n",
       "  'ptracks_tag': 'm11c_CGM_snum465',\n",
       "  'tag': 'm11c_CGM_snum465_galdefv3'},\n",
       " 'm11d_md': {'ahf_index': 600,\n",
       "  'data_dir': '/scratch/03057/zhafen/linefinder_data/metal_diffusion/m11d_res7100/data',\n",
       "  'halo_data_dir': '/scratch/03057/zhafen/metal_diffusion/m11d_res7100/halo',\n",
       "  'ids_tag': 'm11d_md_CGM_snum465',\n",
       "  'main_halo_id': 0,\n",
       "  'ptracks_tag': 'm11d_md_CGM_snum465',\n",
       "  'tag': 'm11d_md_CGM_snum465_galdefv3'},\n",
       " 'm11e_md': {'ahf_index': 600,\n",
       "  'data_dir': '/scratch/03057/zhafen/linefinder_data/metal_diffusion/m11e_res7100/data',\n",
       "  'halo_data_dir': '/scratch/03057/zhafen/metal_diffusion/m11e_res7100/halo',\n",
       "  'ids_tag': 'm11e_md_CGM_snum465',\n",
       "  'main_halo_id': 0,\n",
       "  'ptracks_tag': 'm11e_md_CGM_snum465',\n",
       "  'tag': 'm11e_md_CGM_snum465_galdefv3'},\n",
       " 'm11h_md': {'ahf_index': 600,\n",
       "  'data_dir': '/scratch/03057/zhafen/linefinder_data/metal_diffusion/m11h_res7100/data',\n",
       "  'halo_data_dir': '/scratch/03057/zhafen/metal_diffusion/m11h_res7100/halo',\n",
       "  'ids_tag': 'm11h_md_CGM_snum465',\n",
       "  'main_halo_id': 0,\n",
       "  'ptracks_tag': 'm11h_md_CGM_snum465',\n",
       "  'tag': 'm11h_md_CGM_snum465_galdefv3'},\n",
       " 'm11i_md': {'ahf_index': 600,\n",
       "  'data_dir': '/scratch/03057/zhafen/linefinder_data/metal_diffusion/m11i_res7100/data',\n",
       "  'halo_data_dir': '/scratch/03057/zhafen/metal_diffusion/m11i_res7100/halo',\n",
       "  'ids_tag': 'm11i_md_CGM_snum465',\n",
       "  'main_halo_id': 0,\n",
       "  'ptracks_tag': 'm11i_md_CGM_snum465',\n",
       "  'tag': 'm11i_md_CGM_snum465_galdefv3'},\n",
       " 'm11q': {'ahf_index': 600,\n",
       "  'data_dir': '/scratch/03057/zhafen/linefinder_data/core/m11q_res7100/data',\n",
       "  'halo_data_dir': '/scratch/03057/zhafen/core/m11q_res7100/halo',\n",
       "  'ids_tag': 'm11q_CGM_snum465',\n",
       "  'main_halo_id': 0,\n",
       "  'ptracks_tag': 'm11q_CGM_snum465',\n",
       "  'tag': 'm11q_CGM_snum465_galdefv3'},\n",
       " 'm11v': {'ahf_index': 600,\n",
       "  'data_dir': '/scratch/03057/zhafen/linefinder_data/core/m11v_res7100/data',\n",
       "  'halo_data_dir': '/scratch/03057/zhafen/core/m11v_res7100/halo',\n",
       "  'ids_tag': 'm11v_CGM_snum465',\n",
       "  'main_halo_id': 0,\n",
       "  'ptracks_tag': 'm11v_CGM_snum465',\n",
       "  'tag': 'm11v_CGM_snum465_galdefv3'},\n",
       " 'm12b_md': {'ahf_index': 600,\n",
       "  'data_dir': '/scratch/03057/zhafen/linefinder_data/metal_diffusion/m12b_res7100/data',\n",
       "  'halo_data_dir': '/scratch/03057/zhafen/metal_diffusion/m12b_res7100/halo',\n",
       "  'ids_tag': 'm12b_md_CGM_snum465',\n",
       "  'main_halo_id': 0,\n",
       "  'ptracks_tag': 'm12b_md_CGM_snum465',\n",
       "  'tag': 'm12b_md_CGM_snum465_galdefv3'},\n",
       " 'm12c_md': {'ahf_index': 600,\n",
       "  'data_dir': '/scratch/03057/zhafen/linefinder_data/metal_diffusion/m12c_res7100/data',\n",
       "  'halo_data_dir': '/scratch/03057/zhafen/metal_diffusion/m12c_res7100/halo',\n",
       "  'ids_tag': 'm12c_md_CGM_snum465',\n",
       "  'main_halo_id': 0,\n",
       "  'ptracks_tag': 'm12c_md_CGM_snum465',\n",
       "  'tag': 'm12c_md_CGM_snum465_galdefv3'},\n",
       " 'm12f': {'ahf_index': 600,\n",
       "  'data_dir': '/scratch/03057/zhafen/linefinder_data/core/m12f_res7100/data',\n",
       "  'halo_data_dir': '/scratch/03057/zhafen/core/m12f_res7100/halo',\n",
       "  'ids_tag': 'm12f_CGM_snum465',\n",
       "  'main_halo_id': 0,\n",
       "  'ptracks_tag': 'm12f_CGM_snum465',\n",
       "  'tag': 'm12f_CGM_snum465_galdefv3'},\n",
       " 'm12i': {},\n",
       " 'm12m': {'ahf_index': 600,\n",
       "  'data_dir': '/scratch/03057/zhafen/linefinder_data/core/m12m_res7100/data',\n",
       "  'halo_data_dir': '/scratch/03057/zhafen/core/m12m_res7100/halo',\n",
       "  'ids_tag': 'm12m_CGM_snum465',\n",
       "  'main_halo_id': 0,\n",
       "  'ptracks_tag': 'm12m_CGM_snum465',\n",
       "  'tag': 'm12m_CGM_snum465_galdefv3'},\n",
       " 'm12r_md': {'ahf_index': 600,\n",
       "  'data_dir': '/scratch/03057/zhafen/linefinder_data/metal_diffusion/m12r_res7100/data',\n",
       "  'halo_data_dir': '/scratch/03057/zhafen/metal_diffusion/m12r_res7100/halo',\n",
       "  'ids_tag': 'm12r_md_CGM_snum465',\n",
       "  'main_halo_id': 0,\n",
       "  'ptracks_tag': 'm12r_md_CGM_snum465',\n",
       "  'tag': 'm12r_md_CGM_snum465_galdefv3'},\n",
       " 'm12w_md': {'ahf_index': 600,\n",
       "  'data_dir': '/scratch/03057/zhafen/linefinder_data/metal_diffusion/m12w_res7100/data',\n",
       "  'halo_data_dir': '/scratch/03057/zhafen/metal_diffusion/m12w_res7100/halo',\n",
       "  'ids_tag': 'm12w_md_CGM_snum465',\n",
       "  'main_halo_id': 0,\n",
       "  'ptracks_tag': 'm12w_md_CGM_snum465',\n",
       "  'tag': 'm12w_md_CGM_snum465_galdefv3'},\n",
       " 'm12z_md': {'ahf_index': 600,\n",
       "  'data_dir': '/scratch/03057/zhafen/linefinder_data/metal_diffusion/m12z_res4200/data',\n",
       "  'halo_data_dir': '/scratch/03057/zhafen/metal_diffusion/m12z_res4200/halo',\n",
       "  'ids_tag': 'm12z_md_CGM_snum465',\n",
       "  'main_halo_id': 0,\n",
       "  'ptracks_tag': 'm12z_md_CGM_snum465',\n",
       "  'tag': 'm12z_md_CGM_snum465_galdefv3'}}"
      ]
     },
     "execution_count": 14,
     "metadata": {},
     "output_type": "execute_result"
    }
   ],
   "source": [
    "variations"
   ]
  },
  {
   "cell_type": "code",
   "execution_count": 15,
   "metadata": {
    "collapsed": false
   },
   "outputs": [],
   "source": [
    "w_set = a_w_set.WorldlineSet( defaults, variations )"
   ]
  },
  {
   "cell_type": "markdown",
   "metadata": {},
   "source": [
    "# Analyze Data"
   ]
  },
  {
   "cell_type": "markdown",
   "metadata": {},
   "source": [
    "# Look at Density Profiles"
   ]
  },
  {
   "cell_type": "code",
   "execution_count": 16,
   "metadata": {},
   "outputs": [
    {
     "data": {
      "text/plain": [
       "Dict, {\n",
       "'m10q' : None,\n",
       "'m10v' : None,\n",
       "'m11e_md' : None,\n",
       "'m10z' : None,\n",
       "'m11v' : None,\n",
       "'m11q' : None,\n",
       "'m10y' : None,\n",
       "'m12r_md' : None,\n",
       "'m12f' : None,\n",
       "'m11i_md' : None,\n",
       "'m11h_md' : None,\n",
       "'m12m' : None,\n",
       "'m11a' : None,\n",
       "'m12i' : None,\n",
       "'m11c' : None,\n",
       "'m11b' : None,\n",
       "'m12b_md' : None,\n",
       "'m12z_md' : None,\n",
       "'m12w_md' : None,\n",
       "'m11d_md' : None,\n",
       "'m12c_md' : None,\n",
       "}"
      ]
     },
     "execution_count": 16,
     "metadata": {},
     "output_type": "execute_result"
    }
   ],
   "source": [
    "# Start from a fresh slate\n",
    "w_set.data_object.data_masker.clear_masks( True )\n",
    "# Choose only gas\n",
    "w_set.data_object.data_masker.mask_data( 'PType', data_value=linefinder_config.PTYPE_GAS )"
   ]
  },
  {
   "cell_type": "code",
   "execution_count": 17,
   "metadata": {},
   "outputs": [],
   "source": [
    "# Set up classifications\n",
    "classification_list = copy.copy( p_constants.CLASSIFICATIONS_CGM_ORIGIN )\n",
    "# classification_list.remove( 'is_CGM_satellite' )\n",
    "classification_list.insert( 0, 'is_in_CGM' )"
   ]
  },
  {
   "cell_type": "code",
   "execution_count": 18,
   "metadata": {},
   "outputs": [],
   "source": [
    "# Set up mass bins\n",
    "mass_bins = [ 'm12', 'm11', 'm10' ]"
   ]
  },
  {
   "cell_type": "code",
   "execution_count": 19,
   "metadata": {},
   "outputs": [
    {
     "name": "stdout",
     "output_type": "stream",
     "text": [
      "is_in_CGM\n",
      "is_CGM_IGM_accretion\n",
      "is_CGM_wind\n",
      "is_CGM_satellite_wind\n",
      "is_CGM_satellite_ISM\n"
     ]
    }
   ],
   "source": [
    "# Loop through classifications and get raw data\n",
    "\n",
    "radii = verdict.Dict({})\n",
    "densities = verdict.Dict({})\n",
    "metallicities = verdict.Dict({})\n",
    "masses = verdict.Dict({})\n",
    "for classification in classification_list:\n",
    "\n",
    "    print( classification )\n",
    "    \n",
    "    radii[classification] = w_set.data_object.get_selected_data(\n",
    "        'R',\n",
    "        scale_key = 'Rvir',\n",
    "        scale_a_power = 1.,\n",
    "        scale_h_power = -1.,\n",
    "        sl = (slice(None),ind),\n",
    "        classification = classification,\n",
    "    )\n",
    "    \n",
    "    densities[classification] = w_set.data_object.get_selected_data(\n",
    "        'HDen',\n",
    "        sl = (slice(None),ind),\n",
    "        classification = classification,\n",
    "    )\n",
    "    \n",
    "    metallicities[classification] = w_set.data_object.get_selected_data(\n",
    "        'Z',\n",
    "        sl = (slice(None),ind),\n",
    "        classification = classification,\n",
    "    )\n",
    "    \n",
    "    masses[classification] = w_set.data_object.get_selected_data(\n",
    "        'M',\n",
    "        sl = (slice(None),ind),\n",
    "        classification = classification,\n",
    "    )"
   ]
  },
  {
   "cell_type": "code",
   "execution_count": 20,
   "metadata": {},
   "outputs": [],
   "source": [
    "# Calculate the volumes. Note that the units are weird for these volumes, since it's mass\n",
    "# divided by a number density\n",
    "volumes = masses / densities"
   ]
  },
  {
   "cell_type": "code",
   "execution_count": 21,
   "metadata": {},
   "outputs": [],
   "source": [
    "# Choose one of the plotters to plot data with. It doesn't matter which one,\n",
    "# because we'll be passing data\n",
    "w_plotter = w_set['m12i']\n",
    "w = w_plotter.data_object"
   ]
  },
  {
   "cell_type": "code",
   "execution_count": 22,
   "metadata": {},
   "outputs": [],
   "source": [
    "# Get the minimum radii to plot to\n",
    "split_radii = radii['is_in_CGM'].split_by_dict( linefinder_config.MASS_BINS )\n",
    "min_radii = {}\n",
    "for key, item in split_radii.items():\n",
    "    n_min = 3\n",
    "    min_radii[key] = np.percentile( item.min().array(), n_min / float( len( item ) ) * 100.  )"
   ]
  },
  {
   "cell_type": "markdown",
   "metadata": {},
   "source": [
    "### Combined Plot"
   ]
  },
  {
   "cell_type": "code",
   "execution_count": 23,
   "metadata": {},
   "outputs": [
    {
     "name": "stderr",
     "output_type": "stream",
     "text": [
      "/opt/apps/intel17/python/2.7.13/lib/python2.7/site-packages/ipykernel_launcher.py:105: RuntimeWarning: divide by zero encountered in power\n"
     ]
    },
    {
     "name": "stdout",
     "output_type": "stream",
     "text": [
      "File saved at /home1/03057/zhafen/papers/CGM_origin/figures/CGM_den_profile_snum465.pdf\n"
     ]
    },
    {
     "data": {
      "image/png": "[encoded data removed]",
      "text/plain": [
       "<matplotlib.figure.Figure at 0x2b88c996d390>"
      ]
     },
     "metadata": {},
     "output_type": "display_data"
    }
   ],
   "source": [
    "n_rows = len( mass_bins )\n",
    "\n",
    "fig = plt.figure( figsize=(10,n_rows*5), facecolor='white' ) \n",
    "main_ax = plt.gca()\n",
    "\n",
    "gs = gridspec.GridSpec( n_rows, 1 )\n",
    "\n",
    "gs.update(wspace=0.025, hspace=0.0001)\n",
    "\n",
    "handles, labels = [], []\n",
    "for j, mass_bin in enumerate( mass_bins ):\n",
    "\n",
    "    for i, classification in enumerate( classification_list ):    \n",
    "        \n",
    "        ax = plt.subplot(gs[j,0])\n",
    "\n",
    "        radii_bin = radii[classification].split_by_dict( linefinder_config.MASS_BINS )[mass_bin]\n",
    "        densities_bin = densities[classification].split_by_dict( linefinder_config.MASS_BINS )[mass_bin]\n",
    "        volumes_bin = volumes[classification].split_by_dict( linefinder_config.MASS_BINS )[mass_bin]\n",
    "        \n",
    "        # Don't plot classifications when there are sims that have <100 particles\n",
    "        # with that classification\n",
    "        if radii_bin.size.array().min() < 100:\n",
    "            continue\n",
    "            \n",
    "        med, low_p, high_p, bin_edges = w_plotter.statistic_and_interval(\n",
    "            'R',\n",
    "            'HDen',\n",
    "            statistic = 'weighted_mean',\n",
    "            x_data = np.concatenate( radii_bin.array() ),\n",
    "            y_data = np.concatenate( densities_bin.array() ),\n",
    "            weights = np.concatenate( volumes_bin.array() ),\n",
    "            slices = ind,\n",
    "            ax = ax,\n",
    "            x_data_args = {\n",
    "                'scale_key': 'Rvir',\n",
    "                'scale_a_power': 1.,\n",
    "                'scale_h_power': -1.,\n",
    "            },\n",
    "            plot_interval = classification != 'is_in_CGM',\n",
    "            fix_invalid = True,\n",
    "            zorder = 1000,\n",
    "            classification = classification,\n",
    "            color = p_constants.CLASSIFICATION_COLORS_B[classification],\n",
    "            label = p_constants.CLASSIFICATION_LABELS[classification],\n",
    "            plot_label = r'$M_{\\rm h}(z=0) \\sim 10^{' + mass_bin[1:] + r'} M_\\odot$',\n",
    "            add_plot_label = ( i == 0 ),\n",
    "            plot_label_kwargs = {\n",
    "                'fontsize': 22,\n",
    "                'xy': ( 0.025, 0.05, ),\n",
    "                'xycoords': 'axes fraction',\n",
    "                'verticalalignment': 'bottom',\n",
    "                'horizontalalignment': 'left',\n",
    "            },\n",
    "            return_values = True,\n",
    "            bins = np.linspace( min_radii[mass_bin], 1., 64 ),\n",
    "            alpha = 0.3,\n",
    "        )\n",
    "\n",
    "        # Limits and scale tweaking\n",
    "        y_lims = {\n",
    "            465: [ 2e-6, 1e-1 ],\n",
    "            172: [ 5e-5, 4e-1 ],\n",
    "        }\n",
    "        ax.set_xlim( 0.1, 1. )\n",
    "        ax.set_ylim( y_lims[snum] )\n",
    "#         ax.set_xscale( 'log' )\n",
    "        ax.set_yscale( 'log' )\n",
    "\n",
    "        # Labels\n",
    "        ax.set_xlabel( r'$R$ $(R_{\\rm vir})$', fontsize=22 )\n",
    "        ax.set_ylabel( r'$n_{\\rm H}$ (cm$^{-3}$)', fontsize=22, )\n",
    "        \n",
    "        # Hide some axis labels\n",
    "        if not ax.is_last_row():\n",
    "            ax.tick_params( labelbottom = False )\n",
    "        if ax.is_first_row():\n",
    "            ax.tick_params( labeltop = True )\n",
    "            \n",
    "        # Plot label\n",
    "        if ax.is_first_row() and classification == 'is_in_CGM':\n",
    "            ax.annotate(\n",
    "                s = r'$z=' + '{:.02g}'.format( w.redshift.values[ind] ) + '$',\n",
    "                xy = ( 0.0, 1.0 ),\n",
    "                xytext = ( 0., 25., ),\n",
    "                xycoords = 'axes fraction',\n",
    "                textcoords = 'offset points',\n",
    "                horizontalalignment = 'center',\n",
    "                verticalalignment = 'bottom',\n",
    "                fontsize = 24,\n",
    "            )\n",
    "            \n",
    "        # Adjust tick parameters\n",
    "        ax.tick_params( direction='in', which='both', top=True, right=True )\n",
    "        \n",
    "        # Plot a power law\n",
    "        if classification == 'is_in_CGM':\n",
    "            gammas = {\n",
    "                465: [ -2, ],\n",
    "                172: [ -2, -3, ],\n",
    "            }\n",
    "            linestyles = [ '--', '-.', ':' ] \n",
    "            for k, gamma in enumerate( gammas[snum] ):\n",
    "                r_analytic = np.linspace( 0., 1., 256 )\n",
    "                n_power = med[-1] * r_analytic ** gamma\n",
    "                \n",
    "                if gamma == -1:\n",
    "                    continue\n",
    "\n",
    "                ax.plot(\n",
    "                    r_analytic,\n",
    "                    n_power,\n",
    "                    linewidth = 3,\n",
    "                    color = 'k',\n",
    "                    linestyle = linestyles[k],\n",
    "                    label = ( r'$n_{\\rm H} \\propto R^{' + str(gamma) +r'}$'),\n",
    "                )\n",
    "        \n",
    "        # Legend, including tweaking\n",
    "        if classification == 'is_CGM_EP':\n",
    "            # Reorder labels and preserve to slap them on the last plot\n",
    "            handles, labels = ax.get_legend_handles_labels()\n",
    "            for i, gamma in enumerate( gammas ):\n",
    "                handles.append( handles[1] )\n",
    "                labels.append( labels[1] )\n",
    "                handles.remove( handles[1] )\n",
    "                labels.remove( labels[1] )\n",
    "        if ax.is_last_row():\n",
    "            loc = {\n",
    "                465: None,\n",
    "                172: 'upper left',\n",
    "            }\n",
    "            ax.legend(\n",
    "                handles,\n",
    "                labels,\n",
    "                prop = { 'size': 18 },\n",
    "#                 loc = loc[snum],\n",
    "#                 ncol = ncol[snum],\n",
    "                framealpha = 1.,\n",
    "            )\n",
    "            \n",
    "# Save the File\n",
    "save_file = 'CGM_den_profile_snum{}.pdf'.format( snum )\n",
    "plotting.save_fig(\n",
    "    out_dir = file_manager.get_project_figure_dir(),\n",
    "    save_file = save_file,\n",
    "    fig = fig,\n",
    ")"
   ]
  },
  {
   "cell_type": "markdown",
   "metadata": {},
   "source": [
    "### Individual Sims"
   ]
  },
  {
   "cell_type": "code",
   "execution_count": 24,
   "metadata": {},
   "outputs": [
    {
     "name": "stderr",
     "output_type": "stream",
     "text": [
      "/opt/apps/intel17/python/2.7.13/lib/python2.7/site-packages/ipykernel_launcher.py:117: RuntimeWarning: divide by zero encountered in power\n",
      "/home1/03057/zhafen/repos/galaxy-dive/galaxy_dive/plot_data/generic_plotter.py:722: RuntimeWarning: invalid value encountered in divide\n",
      "  stat = weighted_sum / weights_sum\n"
     ]
    },
    {
     "name": "stdout",
     "output_type": "stream",
     "text": [
      "File saved at /home1/03057/zhafen/papers/CGM_origin/figures/CGM_den_profile_indiv_snum465.pdf\n"
     ]
    },
    {
     "data": {
      "image/png": "[encoded data removed]",
      "text/plain": [
       "<matplotlib.figure.Figure at 0x2b88cc228890>"
      ]
     },
     "metadata": {},
     "output_type": "display_data"
    }
   ],
   "source": [
    "n_rows = len( mass_bins )\n",
    "\n",
    "sim_names = [ 'm12i', 'm11q', 'm10y', ]\n",
    "\n",
    "fig = plt.figure( figsize=(10,n_rows*5), facecolor='white' ) \n",
    "main_ax = plt.gca()\n",
    "\n",
    "gs = gridspec.GridSpec( n_rows, 1 )\n",
    "\n",
    "gs.update(wspace=0.025, hspace=0.0001)\n",
    "\n",
    "handles, labels = [], []\n",
    "for j, sim_name in enumerate( sim_names ):\n",
    "\n",
    "    for i, classification in enumerate( classification_list ):    \n",
    "        \n",
    "        ax = plt.subplot(gs[j,0])\n",
    "\n",
    "        radii_bin = radii[classification][sim_name]\n",
    "        densities_bin = densities[classification][sim_name]\n",
    "        volumes_bin = volumes[classification][sim_name]\n",
    "\n",
    "        # Don't plot classifications when there are sims that have <100 particles\n",
    "        # with that classification\n",
    "        if radii_bin.size < 100:\n",
    "            continue\n",
    "            \n",
    "        # Get an individual w_plotter out for easier labels\n",
    "        w_plotter = w_set[sim_name]\n",
    "        \n",
    "        # Choose a different redshift for m12i to avoid a major merger\n",
    "        if ( sim_name == 'm12i' ) and ( snum == 172 ):\n",
    "            used_ind = 600 - 214 # Redshift 1.5\n",
    "        else:\n",
    "            used_ind = ind\n",
    "\n",
    "        med, low_p, high_p, bin_edges = w_plotter.statistic_and_interval(\n",
    "            'R',\n",
    "            'HDen',\n",
    "            statistic = 'weighted_mean',\n",
    "            x_data = radii_bin,\n",
    "            y_data = densities_bin,\n",
    "            weights = volumes_bin,\n",
    "            slices = used_ind,\n",
    "            ax = ax,\n",
    "            x_data_args = {\n",
    "                'scale_key': 'Rvir',\n",
    "                'scale_a_power': 1.,\n",
    "                'scale_h_power': -1.,\n",
    "            },\n",
    "            plot_interval = classification != 'is_in_CGM',\n",
    "            fix_invalid = True,\n",
    "            zorder = 1000,\n",
    "            classification = classification,\n",
    "            color = p_constants.CLASSIFICATION_COLORS_B[classification],\n",
    "            label = p_constants.CLASSIFICATION_LABELS[classification],\n",
    "#             plot_label = r'$M_{\\rm h}(z=0) \\sim 10^{' + mass_bin[1:] + r'} M_\\odot$',\n",
    "            add_plot_label = ( i == 0 ),\n",
    "            plot_label_kwargs = {\n",
    "                'fontsize': 22,\n",
    "                'xy': ( 0.025, 0.05, ),\n",
    "#                 'xytext': ( 10., 10., ),\n",
    "                'xycoords': 'axes fraction',\n",
    "#                 'textcoords': 'offset points',\n",
    "                'verticalalignment': 'bottom',\n",
    "                'horizontalalignment': 'left',\n",
    "            },\n",
    "            return_values = True,\n",
    "            alpha = 0.3,\n",
    "            bins = 64,\n",
    "        )\n",
    "\n",
    "        # Limits and scale tweaking\n",
    "        y_lims = {\n",
    "            465: [ 2e-6, 1e-1 ],\n",
    "            172: [ 5e-5, 3e-1 ],\n",
    "        }\n",
    "        ax.set_xlim( 0.1, 1. )\n",
    "        ax.set_ylim( y_lims[snum] )\n",
    "        ax.set_yscale( 'log' )\n",
    "\n",
    "        # Labels\n",
    "        ax.set_xlabel( r'$R$ $(R_{\\rm vir})$', fontsize=22 )\n",
    "        ax.set_ylabel( r'$n_{\\rm H}$ (cm$^{-3}$)', fontsize=22, )\n",
    "        \n",
    "        # Hide some axis labels\n",
    "        if not ax.is_last_row():\n",
    "            ax.tick_params( labelbottom = False )\n",
    "        if ax.is_first_row():\n",
    "            ax.tick_params( labeltop = True )\n",
    "            \n",
    "        # Plot label\n",
    "        if ax.is_first_row() and classification == 'is_in_CGM':\n",
    "            ax.annotate(\n",
    "                s = r'$z=' + '{:.02g}'.format( w.redshift.values[ind] ) + '$',\n",
    "                xy = ( 0.0, 1.0 ),\n",
    "                xytext = ( 0., 25., ),\n",
    "                xycoords = 'axes fraction',\n",
    "                textcoords = 'offset points',\n",
    "                horizontalalignment = 'center',\n",
    "                verticalalignment = 'bottom',\n",
    "                fontsize = 24,\n",
    "            )\n",
    "            \n",
    "        # Adjust tick parameters\n",
    "        ax.tick_params( direction='in', which='both', top=True, right=True )\n",
    "        \n",
    "        # Plot a power law\n",
    "        if classification == 'is_in_CGM':\n",
    "            gammas = {\n",
    "                465: [ -2, ],\n",
    "                172: [ -2, -3, ],\n",
    "            }\n",
    "            linestyles = [ '--', '-.', ':' ] \n",
    "            for k, gamma in enumerate( gammas[snum] ):\n",
    "                r_analytic = np.linspace( 0., 1., 256 )\n",
    "                n_power = med[-1] * r_analytic ** gamma\n",
    "                \n",
    "                if gamma == -1:\n",
    "                    continue\n",
    "\n",
    "                ax.plot(\n",
    "                    r_analytic,\n",
    "                    n_power,\n",
    "                    linewidth = 3,\n",
    "                    color = 'k',\n",
    "                    linestyle = linestyles[k],\n",
    "                    label = ( r'$n_{\\rm H} \\propto R^{' + str(gamma) +r'}$'),\n",
    "                )\n",
    "        \n",
    "        # Legend, including tweaking\n",
    "        if classification == 'is_CGM_EP':\n",
    "            # Reorder labels and preserve to slap them on the last plot\n",
    "            handles, labels = ax.get_legend_handles_labels()\n",
    "            for i, gamma in enumerate( gammas ):\n",
    "                handles.append( handles[1] )\n",
    "                labels.append( labels[1] )\n",
    "                handles.remove( handles[1] )\n",
    "                labels.remove( labels[1] )\n",
    "        if ax.is_last_row():\n",
    "            ax.legend(\n",
    "                handles,\n",
    "                labels,\n",
    "                prop = { 'size': 18 },\n",
    "#                 loc = 'upper right',\n",
    "            )\n",
    "            \n",
    "# Save the File\n",
    "save_file = 'CGM_den_profile_indiv_snum{}.pdf'.format( snum )\n",
    "plotting.save_fig(\n",
    "    out_dir = file_manager.get_project_figure_dir(),\n",
    "    save_file = save_file,\n",
    "    fig = fig,\n",
    ")"
   ]
  },
  {
   "cell_type": "markdown",
   "metadata": {},
   "source": [
    "# Plot Mass Fraction at Given Radii"
   ]
  },
  {
   "cell_type": "code",
   "execution_count": 25,
   "metadata": {},
   "outputs": [],
   "source": [
    "# Get the masses per radii\n",
    "masses_per_radii = {}\n",
    "radii_bins = {}\n",
    "for i, classification in enumerate( classification_list ):\n",
    "    masses_per_radii[classification] = {}\n",
    "    for sim_name, sim_radii in radii[classification].items():\n",
    "        \n",
    "        # Choose the bins (and store them for later use)\n",
    "        mass_bin = linefinder_config.MASS_BINS[sim_name]\n",
    "        used_radii_bins = np.linspace( min_radii[mass_bin], 1., 50 )\n",
    "        radii_bins[mass_bin] = used_radii_bins\n",
    "        \n",
    "        masses_per_radii[classification][sim_name] = np.histogram(\n",
    "            sim_radii,\n",
    "            bins = used_radii_bins,\n",
    "            weights = masses[classification][sim_name],\n",
    "            density = False,\n",
    "        )[0]    \n",
    "masses_per_radii = verdict.Dict( masses_per_radii )"
   ]
  },
  {
   "cell_type": "code",
   "execution_count": 26,
   "metadata": {},
   "outputs": [],
   "source": [
    "# Split the masses per radii in all CGM for easier handling later\n",
    "mass_per_radii_all_CGM = masses_per_radii['is_in_CGM'].split_by_dict( linefinder_config.MASS_BINS )"
   ]
  },
  {
   "cell_type": "code",
   "execution_count": 27,
   "metadata": {},
   "outputs": [
    {
     "name": "stderr",
     "output_type": "stream",
     "text": [
      "/home1/03057/zhafen/repos/verdict/verdict.py:267: RuntimeWarning: invalid value encountered in divide\n",
      "  results[key] = self._storage[key]/other[key]\n"
     ]
    },
    {
     "ename": "AssertionError",
     "evalue": "More than 1% of mass not classified!",
     "output_type": "error",
     "traceback": [
      "\u001b[0;31m---------------------------------------------------------------------------\u001b[0m",
      "\u001b[0;31mAssertionError\u001b[0m                            Traceback (most recent call last)",
      "\u001b[0;32m<ipython-input-27-1f91fbc549ea>\u001b[0m in \u001b[0;36m<module>\u001b[0;34m()\u001b[0m\n\u001b[1;32m      6\u001b[0m \u001b[0mmin_sim\u001b[0m\u001b[0;34m,\u001b[0m \u001b[0mmin_value\u001b[0m \u001b[0;34m=\u001b[0m \u001b[0mmin_values_per_bin\u001b[0m\u001b[0;34m.\u001b[0m\u001b[0mkeymin\u001b[0m\u001b[0;34m(\u001b[0m\u001b[0;34m)\u001b[0m\u001b[0;34m\u001b[0m\u001b[0m\n\u001b[1;32m      7\u001b[0m \u001b[0;34m\u001b[0m\u001b[0m\n\u001b[0;32m----> 8\u001b[0;31m \u001b[0;32massert\u001b[0m \u001b[0mmin_value\u001b[0m \u001b[0;34m>\u001b[0m \u001b[0;36m0.99\u001b[0m\u001b[0;34m,\u001b[0m \u001b[0;34m\"More than 1% of mass not classified!\"\u001b[0m\u001b[0;34m\u001b[0m\u001b[0m\n\u001b[0m",
      "\u001b[0;31mAssertionError\u001b[0m: More than 1% of mass not classified!"
     ]
    }
   ],
   "source": [
    "min_values_per_bin = (\n",
    "    ( masses_per_radii.sum_contents() - masses_per_radii['is_in_CGM'] ) /\n",
    "    masses_per_radii['is_in_CGM']\n",
    ").apply( np.nanmin )\n",
    "\n",
    "min_sim, min_value = min_values_per_bin.keymin()\n",
    "\n",
    "assert min_value > 0.99, \"More than 1% of mass not classified!\""
   ]
  },
  {
   "cell_type": "code",
   "execution_count": null,
   "metadata": {},
   "outputs": [],
   "source": [
    "n_rows = len( mass_bins )\n",
    "\n",
    "fig = plt.figure( figsize=(10,n_rows*5), facecolor='white' ) \n",
    "main_ax = plt.gca()\n",
    "\n",
    "gs = gridspec.GridSpec( n_rows, 1 )\n",
    "\n",
    "gs.update(wspace=0.025, hspace=0.0001)\n",
    "\n",
    "handles, labels = [], []\n",
    "for j, mass_bin in enumerate( mass_bins ):\n",
    "\n",
    "    for i, classification in enumerate( classification_list ):\n",
    "        \n",
    "        # No sense plotting this, because it should be all at 1\n",
    "        if classification == 'is_in_CGM':\n",
    "            continue\n",
    "        \n",
    "        ax = plt.subplot(gs[j,0])\n",
    "        \n",
    "        # Don't plot classifications when there are sims that have <100 particles\n",
    "        # with that classification\n",
    "        radii_bin = radii[classification].split_by_dict( linefinder_config.MASS_BINS )[mass_bin]\n",
    "        if radii_bin.size.array().min() < 1000:\n",
    "            continue\n",
    "\n",
    "        # Get raw data\n",
    "        mass_per_radii_bin = masses_per_radii[classification].split_by_dict( linefinder_config.MASS_BINS )[mass_bin]\n",
    "        tot_mass_per_radii_bin = mass_per_radii_all_CGM[mass_bin]\n",
    "        mass_frac_per_radii_bin = mass_per_radii_bin / tot_mass_per_radii_bin\n",
    "                \n",
    "        # Get median and percentiles\n",
    "        med_mass_frac_per_radii_bin = np.nanmedian( mass_frac_per_radii_bin.array(), axis=0 )\n",
    "        plow_mass_frac_per_radii_bin = np.nanpercentile( \n",
    "            mass_frac_per_radii_bin.array(), \n",
    "            axis = 0,\n",
    "            q = 16,\n",
    "        )\n",
    "        phigh_mass_frac_per_radii_bin = np.nanpercentile( \n",
    "            mass_frac_per_radii_bin.array(), \n",
    "            axis = 0,\n",
    "            q = 84,\n",
    "        )\n",
    "        \n",
    "        # Set up x values\n",
    "        radii_bin = radii_bins[mass_bin]\n",
    "        radii_bin_centers = ( radii_bin + 0.5 * ( radii_bin[1] - radii_bin[0] ) )[:-1]\n",
    "        \n",
    "        # Plot median\n",
    "        ax.plot(\n",
    "            radii_bin_centers,\n",
    "            med_mass_frac_per_radii_bin,\n",
    "            linewidth = 4,\n",
    "            color = p_constants.CLASSIFICATION_COLORS_B[classification],\n",
    "            label = p_constants.CLASSIFICATION_LABELS[classification],\n",
    "        )\n",
    "        \n",
    "        # Plot intervals\n",
    "        ax.fill_between(\n",
    "            radii_bin_centers,\n",
    "            plow_mass_frac_per_radii_bin,\n",
    "            phigh_mass_frac_per_radii_bin,\n",
    "            alpha = 0.5,\n",
    "            color = p_constants.CLASSIFICATION_COLORS_B[classification],\n",
    "        )\n",
    "\n",
    "        # Limits and scale tweaking\n",
    "        ax.set_xlim( 0.1, 1. )\n",
    "        ax.set_ylim( 0.0, 1. )\n",
    "\n",
    "        # Labels\n",
    "        ax.set_xlabel( r'$R$ $(R_{\\rm vir})$', fontsize=22 )\n",
    "        ax.set_ylabel( r'$f(M_{\\rm CGM}$ $\\mid$ $R / R_{\\rm vir})$', fontsize=22, )\n",
    "        \n",
    "        # Hide some axis labels\n",
    "        if not ax.is_last_row():\n",
    "            ax.tick_params( labelbottom = False )\n",
    "        if ax.is_first_row():\n",
    "            ax.tick_params( labeltop = True )\n",
    "            \n",
    "    # Plot label\n",
    "    if ax.is_first_row():\n",
    "        ax.annotate(\n",
    "            s = r'$z=' + '{:.02g}'.format( w.redshift.values[ind] ) + '$',\n",
    "            xy = ( 0.0, 1.0 ),\n",
    "            xytext = ( 0., 25., ),\n",
    "            xycoords = 'axes fraction',\n",
    "            textcoords = 'offset points',\n",
    "            horizontalalignment = 'center',\n",
    "            verticalalignment = 'bottom',\n",
    "            fontsize = 24,\n",
    "        )\n",
    "    # Bin labels\n",
    "    ax.annotate(\n",
    "        s = r'$M_{\\rm h}(z=0) \\sim 10^{' + mass_bin[1:] + r'} M_\\odot$',\n",
    "        xy = ( 0.025, 0.95 ),\n",
    "        xycoords = 'axes fraction',\n",
    "        horizontalalignment = 'left',\n",
    "        verticalalignment = 'top',\n",
    "        fontsize = 22, \n",
    "    )\n",
    "\n",
    "    # Avoid overlapping ticks\n",
    "    ax.get_yticklabels()[0].set_verticalalignment( 'bottom' )\n",
    "    ax.get_yticklabels()[-1].set_verticalalignment( 'top' )\n",
    "\n",
    "    # Adjust tick parameters\n",
    "    ax.tick_params( direction='in', which='both', top=True, right=True )\n",
    "\n",
    "    if ax.is_first_row():\n",
    "        ax.legend(\n",
    "            prop = { 'size': 18 },\n",
    "            loc = 'lower right',\n",
    "            bbox_to_anchor = ( 1.0, 1.07 ),\n",
    "            ncol = 3,\n",
    "        )\n",
    "            \n",
    "# Save the File\n",
    "save_file = 'CGM_fraction_profile_snum{}.pdf'.format( snum )\n",
    "plotting.save_fig(\n",
    "    out_dir = file_manager.get_project_figure_dir(),\n",
    "    save_file = save_file,\n",
    "    fig = fig,\n",
    ")"
   ]
  },
  {
   "cell_type": "markdown",
   "metadata": {},
   "source": [
    "# Plot Radial Distributions"
   ]
  },
  {
   "cell_type": "code",
   "execution_count": null,
   "metadata": {},
   "outputs": [],
   "source": [
    "classification_list = copy.copy( p_constants.CLASSIFICATIONS_CGM_ORIGIN )\n",
    "classification_list.remove( 'is_CGM_satellite' )\n",
    "classification_list.insert( 0, 'is_in_CGM' )"
   ]
  },
  {
   "cell_type": "code",
   "execution_count": null,
   "metadata": {},
   "outputs": [],
   "source": [
    "w_set.data_object.retrieve_halo_data()\n",
    "halo_masses = w_set.data_object.m_vir.inner_item( snum )"
   ]
  },
  {
   "cell_type": "code",
   "execution_count": null,
   "metadata": {},
   "outputs": [],
   "source": [
    "cooling_flow_data = np.load( './coolingflow_Mhalo_12.0.npz' )"
   ]
  },
  {
   "cell_type": "code",
   "execution_count": null,
   "metadata": {},
   "outputs": [],
   "source": [
    "hists = {}\n",
    "\n",
    "base_bins = np.linspace( 0.1, 1.0, 256 )\n",
    "for version in [ 2 ]:\n",
    "    \n",
    "    fig = plt.figure( figsize=(10,16), facecolor='white' )\n",
    "    main_ax = plt.gca()\n",
    "\n",
    "    z_min = halo_masses.array().min()/1.5\n",
    "    z_max = halo_masses.array().max()*1.5\n",
    "\n",
    "    gs = matplotlib.gridspec.GridSpec( len( classification_list ), 1, )\n",
    "\n",
    "    gs.update(wspace=0.025, hspace=0.0001)\n",
    "\n",
    "    # Start from a fresh slate\n",
    "    w_set.data_object.data_masker.clear_masks( True )\n",
    "    # Choose only gas\n",
    "    w_set.data_object.data_masker.mask_data( 'PType', data_value=linefinder_config.PTYPE_GAS )\n",
    "\n",
    "    for i, classification in enumerate( classification_list ):\n",
    "\n",
    "        hists[classification] = utilities.SmartDict( {} )\n",
    "\n",
    "        ax = plt.subplot( gs[i,0] )\n",
    "\n",
    "        y_max = 0\n",
    "        for sim_name, w_plotter in w_set.items():\n",
    "            \n",
    "            print( sim_name )\n",
    "\n",
    "            # Plot only some simulations\n",
    "            if version == 1:\n",
    "                if sim_name not in [ 'm10y', 'm11v', 'm12i', ]:\n",
    "                    continue\n",
    "            elif version == 2:\n",
    "                # Skip the outlier\n",
    "                if sim_name == 'm10z':\n",
    "                    continue\n",
    "\n",
    "            # Get the data\n",
    "            w = w_plotter.data_object\n",
    "            w.retrieve_halo_data()\n",
    "            m_vir = w.m_vir.values[ind]\n",
    "            r_vir = w.r_vir.values[ind]\n",
    "\n",
    "            # Only plot when there's enough data\n",
    "            n_class = w.get_selected_data( classification, sl=(slice(None),ind), ).sum()\n",
    "            if n_class < 1000:\n",
    "                print( 'Insufficient {} for sim {}'.format( classification, sim_name ) )\n",
    "                continue\n",
    "\n",
    "            # Get length scales\n",
    "            length_scale = w.halo_data.get_mt_data(\n",
    "                w.galids.parameters['length_scale'],\n",
    "                a_power=1.,\n",
    "                snums=[ snum, ]\n",
    "            )[0]/w.hubble_param\n",
    "            r_gal = length_scale * w.galids.parameters['galaxy_cut']\n",
    "            r_cgm_inner = r_gal * ( 1. + linefinder_config.F_GAP )\n",
    "\n",
    "            # Color\n",
    "            z_width = np.log10( z_max ) - np.log10( z_min )\n",
    "            color_value = ( np.log10( m_vir ) - np.log10( z_min ) )/z_width\n",
    "            color = cm.viridis( color_value )\n",
    "\n",
    "            # Set up consistent bins across simulations\n",
    "            used_bins = base_bins[r_cgm_inner/r_vir < base_bins]\n",
    "#             used_bins = base_bins[min_radii[linefinder_config.MASS_BINS[sim_name]] < base_bins]\n",
    "            \n",
    "            hist, edges = w_plotter.histogram(\n",
    "                'R',\n",
    "                weight_key = 'M',\n",
    "                ax = ax,\n",
    "                mask_zeros = True,\n",
    "    #             norm_type = 'bin_width',\n",
    "                norm_type = 'probability',\n",
    "    #             scaling = w.conversion_factor,\n",
    "                smooth = True,\n",
    "                smoothing_window_length = 31,\n",
    "                histogram_style = 'line',\n",
    "                x_label = r'$R/R_{\\rm vir}$',\n",
    "                y_label = p_constants.CLASSIFICATION_LABELS[classification],\n",
    "                bins = used_bins,\n",
    "                slices = ind,\n",
    "                plot_label = None,\n",
    "                color = color,\n",
    "                assert_contains_all_data = False,\n",
    "                classification = classification,\n",
    "                data_kwargs = {\n",
    "                    'scale_key' : 'Rvir',\n",
    "                    'scale_a_power' : 1.,\n",
    "                    'scale_h_power' : -1.,\n",
    "                },\n",
    "                return_dist = True,\n",
    "            )\n",
    "            \n",
    "            # Plot the Cooling flow model\n",
    "            ax.plot(\n",
    "                cooling_flow_data['R2Rvir'],\n",
    "                cooling_flow_data['dMdR'],\n",
    "            )\n",
    "\n",
    "            # Track the maxes so we can set plot limits\n",
    "            if hist.max() > y_max:\n",
    "                y_max = hist.max()\n",
    "                \n",
    "            # Store the data\n",
    "            if version == 2:\n",
    "                hist_to_store = np.ones( base_bins.shape ) * np.nan\n",
    "                hist_to_store[-hist.size:] = hist\n",
    "                hists[classification][sim_name] = hist_to_store\n",
    "\n",
    "        if snum == 172:\n",
    "            x_min = 0.24\n",
    "        elif snum == 465:\n",
    "            x_min = 0.1\n",
    "        ax.set_xlim( x_min, 1. )\n",
    "        ax.set_ylim( 0., y_max, )\n",
    "        ax.set_yscale( 'linear' )\n",
    "\n",
    "        # Adjust tick parameters\n",
    "        ax.tick_params( direction='inout', which='both', top=True, )\n",
    "\n",
    "        # Rotate labels\n",
    "    #     ax.yaxis.label.set_rotation( 'horizontal' )\n",
    "    #     ax.yaxis.label.set_color(\n",
    "    #         p_constants.CLASSIFICATION_COLORS_B[classification]\n",
    "    #     )\n",
    "\n",
    "        if classification != 'is_in_CGM':\n",
    "            ax.yaxis.label.set_path_effects(\n",
    "                [\n",
    "                    path_effects.Stroke(\n",
    "                        linewidth=2,\n",
    "                        foreground=p_constants.CLASSIFICATION_COLORS_B[classification]\n",
    "        #                 foreground='k',\n",
    "                    ),\n",
    "                    path_effects.Normal() \n",
    "                ]\n",
    "            )\n",
    "\n",
    "        # Add another x-axis label\n",
    "        if i == 0:\n",
    "\n",
    "            ax.annotate(\n",
    "                s = r'$R/R_{\\rm vir}$',\n",
    "                xy = ( 0.5, 1.17, ),\n",
    "                xycoords = 'axes fraction',\n",
    "                fontsize = 22,\n",
    "                ha = 'center',\n",
    "            )\n",
    "\n",
    "        # Add a label to the y axes\n",
    "        if i == 0:\n",
    "\n",
    "            formatted_redshift = '{:.02g}'.format( w.redshift.values[ind] )\n",
    "\n",
    "            ax.annotate(\n",
    "                s = r'$\\frac{d(M/M_{\\rm tot})}{d(r/r_{\\rm vir})}' + r'(z={})$'.format( formatted_redshift ),\n",
    "                xy = ( 0, 1.2, ),\n",
    "                xycoords = 'axes fraction',\n",
    "                fontsize = 28,\n",
    "                ha = 'center',\n",
    "            )\n",
    "\n",
    "        # Hide labels\n",
    "        if i != len( classification_list ) - 1:\n",
    "            ax.tick_params( labelbottom = False )\n",
    "        if i == 0:\n",
    "            ax.tick_params( labeltop = True )\n",
    "\n",
    "        # Avoid overlapping ticks\n",
    "        ax.get_yticklabels()[0].set_verticalalignment( 'bottom' )\n",
    "        ax.get_yticklabels()[-1].set_verticalalignment( 'top' )\n",
    "    #     ax.set_yticklabels([0., 0.5, 1. ], va='top' )\n",
    "\n",
    "    # Add a colorbar\n",
    "    sm = cm.ScalarMappable(\n",
    "        cmap = cm.viridis,\n",
    "        norm=colors.LogNorm( z_min, z_max ),\n",
    "    )\n",
    "    sm._A = []\n",
    "    plotting.add_colorbar(\n",
    "        fig,\n",
    "        sm,\n",
    "        method = 'fig',\n",
    "        ax_location = [ 0.905, 0.125, 0.03, 0.76 ]\n",
    "    )\n",
    "    plt.subplot( gs[0,0] ).annotate(\n",
    "        s = r'$M_{\\rm h}$ $(M_{\\odot})$',\n",
    "        xy = (1., 1.2),\n",
    "    #     xy = (1.15, 0.5),\n",
    "        xycoords = 'axes fraction',\n",
    "        fontsize = 22,\n",
    "        ha = 'center',\n",
    "    )\n",
    "\n",
    "    if version == 1:\n",
    "        save_file = 'CGM_profile_snum{}.pdf'.format( snum )\n",
    "\n",
    "        plotting.save_fig(\n",
    "            out_dir = file_manager.get_project_figure_dir(),\n",
    "            save_file = save_file,\n",
    "            fig = fig,\n",
    "        )"
   ]
  },
  {
   "cell_type": "markdown",
   "metadata": {},
   "source": [
    "## Plot Aggregate"
   ]
  },
  {
   "cell_type": "code",
   "execution_count": null,
   "metadata": {},
   "outputs": [],
   "source": [
    "medians = {}\n",
    "\n",
    "fig = plt.figure( figsize=(10,16), facecolor='white' )\n",
    "main_ax = plt.gca()\n",
    "\n",
    "gs = matplotlib.gridspec.GridSpec( len( classification_list ), 1, )\n",
    "\n",
    "gs.update(wspace=0.025, hspace=0.0001)\n",
    "\n",
    "for i, classification in enumerate( classification_list ):\n",
    "    \n",
    "    medians[classification] = utilities.SmartDict( {} )\n",
    "    \n",
    "    y_max = 0\n",
    "    \n",
    "    class_hists = hists[classification]\n",
    "    \n",
    "#     plotted_colors = [ '#36a936', '#3636a9', '#a93636' ]\n",
    "    plotted_colors = [ '#2820c6', '#0aa929', '#dfb707' ]\n",
    "#     plotted_colors = [ qual_colormaps.DARK2[j] for j in range(3) ]\n",
    "                \n",
    "    valid_regime = np.invert( np.isnan( class_hists.array() ) ).sum( axis=0 ) >= 2\n",
    "\n",
    "    used_bins = base_bins[valid_regime]\n",
    "    sub_arr = class_hists.array()[slice(None),valid_regime]\n",
    "\n",
    "    ax = plt.subplot( gs[i,0] )\n",
    "\n",
    "    median = np.nanmedian( sub_arr, axis=0 )\n",
    "    ax.plot(\n",
    "        used_bins,\n",
    "        median,\n",
    "        color = 'k',\n",
    "        linewidth = 3,\n",
    "    )\n",
    "\n",
    "    ax.fill_between(\n",
    "        used_bins,\n",
    "        np.nanmin( sub_arr, axis=0 ),\n",
    "        np.nanmax( sub_arr, axis=0 ),\n",
    "        color = 'k',\n",
    "        alpha = 0.4,\n",
    "    )\n",
    "\n",
    "    ax.fill_between(\n",
    "        used_bins,\n",
    "        np.nanpercentile( sub_arr, 25, axis=0 ),\n",
    "        np.nanpercentile( sub_arr, 75, axis=0 ),\n",
    "#         np.nanpercentile( sub_arr, 50 - 68/2, axis=0 ),\n",
    "#         np.nanpercentile( sub_arr, 50 + 68/2, axis=0 ),        \n",
    "        color = 'k',\n",
    "        alpha = 0.4,\n",
    "    )\n",
    "\n",
    "    # Track the maxes so we can set plot limits\n",
    "    hist_max = np.nanmax( class_hists.array() )\n",
    "\n",
    "    if hist_max > y_max:\n",
    "        y_max = hist_max\n",
    "      \n",
    "    ax.set_xlabel(\n",
    "        r'$R/R_{\\rm vir}$',\n",
    "        fontsize = 22,\n",
    "    )\n",
    "    ax.set_ylabel(\n",
    "        p_constants.CLASSIFICATION_LABELS[classification],\n",
    "        fontsize = 22,\n",
    "    )\n",
    "     \n",
    "    if snum == 172:\n",
    "        x_min = 0.24\n",
    "    elif snum == 465:\n",
    "        x_min = 0.1\n",
    "    ax.set_xlim( x_min, 1. )\n",
    "    ax.set_ylim( 0., y_max, )\n",
    "    ax.set_yscale( 'linear' )\n",
    "\n",
    "    # Adjust tick parameters\n",
    "    ax.tick_params( direction='inout', which='both', top=True, )\n",
    "\n",
    "    # Rotate labels\n",
    "#     ax.yaxis.label.set_rotation( 'horizontal' )\n",
    "#     ax.yaxis.label.set_color(\n",
    "#         p_constants.CLASSIFICATION_COLORS_B[classification]\n",
    "#     )\n",
    "\n",
    "    if classification != 'is_in_CGM':\n",
    "        ax.yaxis.label.set_path_effects(\n",
    "            [\n",
    "                path_effects.Stroke(\n",
    "                    linewidth=2,\n",
    "                    foreground=p_constants.CLASSIFICATION_COLORS_B[classification]\n",
    "    #                 foreground='k',\n",
    "                ),\n",
    "                path_effects.Normal() \n",
    "            ]\n",
    "        )\n",
    "\n",
    "    # Add another x-axis label\n",
    "    if i == 0:\n",
    "\n",
    "        ax.annotate(\n",
    "            s = r'$R/R_{\\rm vir}$',\n",
    "            xy = ( 0.5, 1.17, ),\n",
    "            xycoords = 'axes fraction',\n",
    "            fontsize = 22,\n",
    "            ha = 'center',\n",
    "        )\n",
    "        \n",
    "    if i == 2:\n",
    "        ax.legend(\n",
    "            prop={'size': 18},\n",
    "            loc = 'upper right',\n",
    "        )\n",
    "\n",
    "    # Add a label to the y axes\n",
    "    if i == 0:\n",
    "\n",
    "        formatted_redshift = '{:.02g}'.format( w.redshift.values[ind] )\n",
    "\n",
    "        ax.annotate(\n",
    "            s = r'$\\frac{d(M/M_{\\rm origin})}{d(R/R_{\\rm vir})}' + r'(z={})$'.format( formatted_redshift ),\n",
    "            xy = ( 0, 1.2, ),\n",
    "            xycoords = 'axes fraction',\n",
    "            fontsize = 28,\n",
    "            ha = 'center',\n",
    "        )\n",
    "\n",
    "    # Hide labels\n",
    "    if i != len( classification_list ) - 1:\n",
    "        ax.tick_params( labelbottom = False )\n",
    "    if i == 0:\n",
    "        ax.tick_params( labeltop = True )\n",
    "\n",
    "    # Avoid overlapping ticks\n",
    "    ax.get_yticklabels()[0].set_verticalalignment( 'bottom' )\n",
    "    ax.get_yticklabels()[-1].set_verticalalignment( 'top' )\n",
    "#     ax.set_yticklabels([0., 0.5, 1. ], va='top' )\n",
    "\n",
    "save_file = 'CGM_aggregate_profile_snum{}.pdf'.format( snum )\n",
    "plotting.save_fig(\n",
    "    out_dir = file_manager.get_project_figure_dir(),\n",
    "    save_file = save_file,\n",
    "    fig = fig,\n",
    ")"
   ]
  },
  {
   "cell_type": "markdown",
   "metadata": {},
   "source": [
    "### Plot only m12s in order to compare to the cooling flow model"
   ]
  },
  {
   "cell_type": "code",
   "execution_count": null,
   "metadata": {},
   "outputs": [],
   "source": [
    "len( hists[classification].split_by_dict( linefinder_config.MASS_BINS )['m12'].keys() )"
   ]
  },
  {
   "cell_type": "code",
   "execution_count": null,
   "metadata": {},
   "outputs": [],
   "source": [
    "medians = {}\n",
    "\n",
    "fig = plt.figure( figsize=(10,16), facecolor='white' )\n",
    "main_ax = plt.gca()\n",
    "\n",
    "gs = matplotlib.gridspec.GridSpec( len( classification_list ), 1, )\n",
    "\n",
    "gs.update(wspace=0.025, hspace=0.0001)\n",
    "\n",
    "for i, classification in enumerate( classification_list ):\n",
    "    \n",
    "    medians[classification] = utilities.SmartDict( {} )\n",
    "    \n",
    "    y_max = 0\n",
    "    \n",
    "    class_hists = hists[classification].split_by_dict( linefinder_config.MASS_BINS )['m12']\n",
    "    \n",
    "#     plotted_colors = [ '#36a936', '#3636a9', '#a93636' ]\n",
    "    plotted_colors = [ '#2820c6', '#0aa929', '#dfb707' ]\n",
    "#     plotted_colors = [ qual_colormaps.DARK2[j] for j in range(3) ]\n",
    "                \n",
    "    valid_regime = np.invert( np.isnan( class_hists.array() ) ).sum( axis=0 ) >= 2\n",
    "\n",
    "    used_bins = base_bins[valid_regime]\n",
    "    sub_arr = class_hists.array()[slice(None),valid_regime]\n",
    "\n",
    "    ax = plt.subplot( gs[i,0] )\n",
    "\n",
    "    median = np.nanmedian( sub_arr, axis=0 )\n",
    "    ax.plot(\n",
    "        used_bins,\n",
    "        median,\n",
    "        color = 'k',\n",
    "        linewidth = 3,\n",
    "    )\n",
    "\n",
    "    ax.fill_between(\n",
    "        used_bins,\n",
    "        np.nanmin( sub_arr, axis=0 ),\n",
    "        np.nanmax( sub_arr, axis=0 ),\n",
    "        color = 'k',\n",
    "        alpha = 0.2,\n",
    "    )\n",
    "\n",
    "    ax.fill_between(\n",
    "        used_bins,\n",
    "        np.nanpercentile( sub_arr, 25, axis=0 ),\n",
    "        np.nanpercentile( sub_arr, 75, axis=0 ),\n",
    "#         np.nanpercentile( sub_arr, 50 - 68/2, axis=0 ),\n",
    "#         np.nanpercentile( sub_arr, 50 + 68/2, axis=0 ),        \n",
    "        color = 'k',\n",
    "        alpha = 0.3,\n",
    "    )\n",
    "    \n",
    "    # Plot the cooling flow model\n",
    "    ax.plot(\n",
    "        cooling_flow_data['R2Rvir'],\n",
    "        cooling_flow_data['dMdR'],\n",
    "        linewidth = 3,\n",
    "        color = 'k',\n",
    "        linestyle = '--',\n",
    "    )\n",
    "\n",
    "    # Track the maxes so we can set plot limits\n",
    "    hist_max = np.nanmax( class_hists.array() )\n",
    "\n",
    "    if hist_max > y_max:\n",
    "        y_max = hist_max\n",
    "      \n",
    "    ax.set_xlabel(\n",
    "        r'$R/R_{\\rm vir}$',\n",
    "        fontsize = 22,\n",
    "    )\n",
    "    ax.set_ylabel(\n",
    "        p_constants.CLASSIFICATION_LABELS[classification],\n",
    "        fontsize = 22,\n",
    "    )\n",
    "     \n",
    "    if snum == 172:\n",
    "        x_min = 0.24\n",
    "    elif snum == 465:\n",
    "        x_min = 0.1\n",
    "    ax.set_xlim( x_min, 1. )\n",
    "    ax.set_ylim( 0., 2.5, )\n",
    "    ax.set_yscale( 'linear' )\n",
    "\n",
    "    # Adjust tick parameters\n",
    "    ax.tick_params( direction='inout', which='both', top=True, )\n",
    "\n",
    "    # Rotate labels\n",
    "#     ax.yaxis.label.set_rotation( 'horizontal' )\n",
    "#     ax.yaxis.label.set_color(\n",
    "#         p_constants.CLASSIFICATION_COLORS_B[classification]\n",
    "#     )\n",
    "\n",
    "    if classification != 'is_in_CGM':\n",
    "        ax.yaxis.label.set_path_effects(\n",
    "            [\n",
    "                path_effects.Stroke(\n",
    "                    linewidth=2,\n",
    "                    foreground=p_constants.CLASSIFICATION_COLORS_B[classification]\n",
    "    #                 foreground='k',\n",
    "                ),\n",
    "                path_effects.Normal() \n",
    "            ]\n",
    "        )\n",
    "\n",
    "    # Add another x-axis label\n",
    "    if i == 0:\n",
    "\n",
    "        ax.annotate(\n",
    "            s = r'$R/R_{\\rm vir}$',\n",
    "            xy = ( 0.5, 1.17, ),\n",
    "            xycoords = 'axes fraction',\n",
    "            fontsize = 22,\n",
    "            ha = 'center',\n",
    "        )\n",
    "        \n",
    "    if i == 2:\n",
    "        ax.legend(\n",
    "            prop={'size': 18},\n",
    "            loc = 'upper right',\n",
    "        )\n",
    "\n",
    "    # Add a label to the y axes\n",
    "    if i == 0:\n",
    "\n",
    "        formatted_redshift = '{:.02g}'.format( w.redshift.values[ind] )\n",
    "\n",
    "        ax.annotate(\n",
    "            s = r'$\\frac{d(M/M_{\\rm origin})}{d(R/R_{\\rm vir})}' + r'(z={})$'.format( formatted_redshift ),\n",
    "            xy = ( 0, 1.2, ),\n",
    "            xycoords = 'axes fraction',\n",
    "            fontsize = 28,\n",
    "            ha = 'center',\n",
    "        )\n",
    "\n",
    "    # Hide labels\n",
    "    if i != len( classification_list ) - 1:\n",
    "        ax.tick_params( labelbottom = False )\n",
    "    if i == 0:\n",
    "        ax.tick_params( labeltop = True )\n",
    "\n",
    "    # Avoid overlapping ticks\n",
    "    ax.get_yticklabels()[0].set_verticalalignment( 'bottom' )\n",
    "    ax.get_yticklabels()[-1].set_verticalalignment( 'top' )\n",
    "#     ax.set_yticklabels([0., 0.5, 1. ], va='top' )\n",
    "\n",
    "save_file = 'CGM_aggregate_profile_m12s_snum{}.pdf'.format( snum )\n",
    "plotting.save_fig(\n",
    "    out_dir = file_manager.get_project_figure_dir(),\n",
    "    save_file = save_file,\n",
    "    fig = fig,\n",
    ")"
   ]
  },
  {
   "cell_type": "markdown",
   "metadata": {},
   "source": [
    "## Plot all"
   ]
  },
  {
   "cell_type": "code",
   "execution_count": null,
   "metadata": {},
   "outputs": [],
   "source": [
    "medians = {}\n",
    "\n",
    "fig = plt.figure( figsize=(10,16), facecolor='white' )\n",
    "main_ax = plt.gca()\n",
    "\n",
    "gs = matplotlib.gridspec.GridSpec( len( classification_list ), 1, )\n",
    "\n",
    "gs.update(wspace=0.025, hspace=0.0001)\n",
    "\n",
    "for i, classification in enumerate( classification_list ):\n",
    "    \n",
    "    medians[classification] = utilities.SmartDict( {} )\n",
    "    \n",
    "    y_max = 0\n",
    "    \n",
    "    sub_hists = hists[classification].split_by_dict( linefinder_config.MASS_BINS )\n",
    "    \n",
    "#     plotted_colors = [ '#36a936', '#3636a9', '#a93636' ]\n",
    "#     plotted_colors = [ '#2820c6', '#0aa929', '#dfb707' ]\n",
    "#     plotted_colors = [ qual_colormaps.DARK2[j] for j in range(3) ]\n",
    "    plotted_colors = palettable.matplotlib.Viridis_3.mpl_colors\n",
    "#     plotted_colors = palettable.cartocolors.qualitative.Safe_3.mpl_colors\n",
    "    for mass_bin, color in zip( [ 'm10', 'm11', 'm12' ], plotted_colors ):\n",
    "        \n",
    "        if ( classification == 'is_CGM_EP' ) and ( mass_bin == 'm10' ):\n",
    "            continue\n",
    "        \n",
    "        sub_hist = sub_hists[mass_bin]\n",
    "        \n",
    "#         valid_regime = np.invert( np.isnan( sub_hist.array() ) ).sum( axis=0 ) >= 2\n",
    "        valid_regime = base_bins > min_radii[mass_bin]\n",
    "        \n",
    "        used_bins = base_bins[valid_regime]\n",
    "        sub_arr = sub_hist.array()[slice(None),valid_regime]\n",
    "\n",
    "        ax = plt.subplot( gs[i,0] )\n",
    "        \n",
    "        median = np.nanmedian( sub_arr, axis=0 )\n",
    "        ax.plot(\n",
    "            used_bins,\n",
    "            median,\n",
    "            color = color,\n",
    "            linewidth = 5,\n",
    "            label = r'$M_{\\rm h}(z=0) \\sim 10^{' + mass_bin[1:] + r'} M_\\odot$',\n",
    "        )\n",
    "        medians[classification][mass_bin] = median\n",
    "\n",
    "#         ax.fill_between(\n",
    "#             used_bins,\n",
    "#             np.nanmin( sub_arr, axis=0 ),\n",
    "#             np.nanmax( sub_arr, axis=0 ),\n",
    "#             color = color,\n",
    "#             alpha = 0.25,\n",
    "#         )\n",
    "        \n",
    "        ax.fill_between(\n",
    "            used_bins,\n",
    "            np.nanpercentile( sub_arr, 16, axis=0 ),\n",
    "            np.nanpercentile( sub_arr, 84, axis=0 ),\n",
    "            color = color,\n",
    "            alpha = 0.3,\n",
    "        )\n",
    "\n",
    "#         # Plot the Cooling flow model\n",
    "#         ax.plot(\n",
    "#             cooling_flow_data['R2Rvir'],\n",
    "#             cooling_flow_data['dMdR'],\n",
    "#             linewidth = 3,\n",
    "#             color = 'k',\n",
    "#             linestyle = '--',\n",
    "#         )\n",
    "                \n",
    "        # Track the maxes so we can set plot limits\n",
    "        hist_max = np.nanmax( sub_hist.array() )\n",
    "        \n",
    "        if hist_max > y_max:\n",
    "            y_max = hist_max\n",
    "      \n",
    "    ax.set_xlabel(\n",
    "        r'$R/R_{\\rm vir}$',\n",
    "        fontsize = 24,\n",
    "    )\n",
    "    ax.set_ylabel(\n",
    "        p_constants.CLASSIFICATION_LABELS[classification],\n",
    "        fontsize = 24,\n",
    "    )\n",
    "     \n",
    "    if snum == 172:\n",
    "        x_min = 0.1\n",
    "    elif snum == 465:\n",
    "        x_min = 0.1\n",
    "    ax.set_xlim( x_min, 1. )\n",
    "    ax.set_ylim( 0., 3, )\n",
    "    ax.set_yscale( 'linear' )\n",
    "\n",
    "    # Adjust tick parameters\n",
    "    ax.tick_params( direction='inout', which='both', top=True, )\n",
    "\n",
    "    # Rotate labels\n",
    "#     ax.yaxis.label.set_rotation( 'horizontal' )\n",
    "#     ax.yaxis.label.set_color(\n",
    "#         p_constants.CLASSIFICATION_COLORS_B[classification]\n",
    "#     )\n",
    "\n",
    "#     if classification != 'is_in_CGM':\n",
    "#         ax.yaxis.label.set_path_effects(\n",
    "#             [\n",
    "#                 path_effects.Stroke(\n",
    "#                     linewidth=2,\n",
    "#                     foreground=p_constants.CLASSIFICATION_COLORS_B[classification]\n",
    "#     #                 foreground='k',\n",
    "#                 ),\n",
    "#                 path_effects.Normal() \n",
    "#             ]\n",
    "#         )\n",
    "\n",
    "    # Add another x-axis label\n",
    "    if i == 0:\n",
    "\n",
    "        ax.annotate(\n",
    "            s = r'$R/R_{\\rm vir}$',\n",
    "            xy = ( 0.5, 1.17, ),\n",
    "            xycoords = 'axes fraction',\n",
    "            fontsize = 24,\n",
    "            ha = 'left',\n",
    "        )\n",
    "        \n",
    "    if i == 2:\n",
    "        ax.legend(\n",
    "            prop={'size': 18},\n",
    "            loc = 'upper right',\n",
    "        )\n",
    "\n",
    "    # Add a label to the y axes\n",
    "    if i == 0:\n",
    "\n",
    "        formatted_redshift = '{:.02g}'.format( w.redshift.values[ind] )\n",
    "\n",
    "        ax.annotate(\n",
    "            s = r'PDF$(R \\mid$origin, $ ' + r'z={})$'.format( formatted_redshift ),\n",
    "            xy = ( -0.1, 1.2, ),\n",
    "            xycoords = 'axes fraction',\n",
    "            fontsize = 28,\n",
    "            ha = 'left',\n",
    "        )\n",
    "\n",
    "    # Hide labels\n",
    "    if i != len( classification_list ) - 1:\n",
    "        ax.tick_params( labelbottom = False )\n",
    "    if i == 0:\n",
    "        ax.tick_params( labeltop = True )\n",
    "\n",
    "    # Avoid overlapping ticks\n",
    "    ax.get_yticklabels()[0].set_verticalalignment( 'bottom' )\n",
    "    ax.get_yticklabels()[-1].set_verticalalignment( 'top' )\n",
    "#     ax.set_yticklabels([0., 0.5, 1. ], va='top' )\n",
    "\n",
    "save_file = 'CGM_aggregate_profile_snum{}.pdf'.format( snum )\n",
    "plotting.save_fig(\n",
    "    out_dir = file_manager.get_project_figure_dir(),\n",
    "    save_file = save_file,\n",
    "    fig = fig,\n",
    ")"
   ]
  },
  {
   "cell_type": "markdown",
   "metadata": {},
   "source": [
    "# Analysis of the Plot"
   ]
  },
  {
   "cell_type": "code",
   "execution_count": null,
   "metadata": {},
   "outputs": [],
   "source": [
    "import py2tex.py2tex as py2tex"
   ]
  },
  {
   "cell_type": "code",
   "execution_count": null,
   "metadata": {},
   "outputs": [],
   "source": [
    "tex_filepath = os.path.join( file_manager.project_parameters['project_dir'], 'variables.tex' )"
   ]
  },
  {
   "cell_type": "code",
   "execution_count": null,
   "metadata": {},
   "outputs": [],
   "source": [
    "tex_file = py2tex.TeXVariableFile( tex_filepath )"
   ]
  },
  {
   "cell_type": "code",
   "execution_count": null,
   "metadata": {},
   "outputs": [],
   "source": [
    "# Used for variable names\n",
    "if snum == 465:\n",
    "    regime = 'low'\n",
    "if snum == 172:\n",
    "    regime = 'high'"
   ]
  },
  {
   "cell_type": "code",
   "execution_count": null,
   "metadata": {},
   "outputs": [],
   "source": [
    "def get_radii_percentile( pdf, q ):\n",
    "\n",
    "    cdf = np.nancumsum( pdf )*( base_bins[1] - base_bins[0] )\n",
    "\n",
    "    k = np.argmax( cdf > q )\n",
    "\n",
    "    return base_bins[k]"
   ]
  },
  {
   "cell_type": "code",
   "execution_count": null,
   "metadata": {},
   "outputs": [],
   "source": [
    "def get_mass_within( pdf, r ):\n",
    "\n",
    "    cdf = np.nancumsum( pdf )*( base_bins[1] - base_bins[0] )\n",
    "\n",
    "    k = np.argmax( base_bins > r )\n",
    "\n",
    "    return cdf[k]"
   ]
  },
  {
   "cell_type": "markdown",
   "metadata": {},
   "source": [
    "## All CGM"
   ]
  },
  {
   "cell_type": "code",
   "execution_count": null,
   "metadata": {},
   "outputs": [],
   "source": [
    "class_hists = hists['is_in_CGM']"
   ]
  },
  {
   "cell_type": "code",
   "execution_count": null,
   "metadata": {},
   "outputs": [],
   "source": [
    "sub_hists = class_hists.split_by_dict( linefinder_config.MASS_BINS )"
   ]
  },
  {
   "cell_type": "code",
   "execution_count": null,
   "metadata": {},
   "outputs": [],
   "source": [
    "sub_hists['m12'].apply( get_radii_percentile, 0.5 ).array().mean()"
   ]
  },
  {
   "cell_type": "code",
   "execution_count": null,
   "metadata": {},
   "outputs": [],
   "source": [
    "class_meds = medians['is_in_CGM']"
   ]
  },
  {
   "cell_type": "code",
   "execution_count": null,
   "metadata": {},
   "outputs": [],
   "source": [
    "all_variation = class_meds.max()/class_meds.min()"
   ]
  },
  {
   "cell_type": "code",
   "execution_count": null,
   "metadata": {},
   "outputs": [],
   "source": [
    "for mass_bin, mass_name in zip( [ 'm10', 'm11', 'm12', ], [ 'dwarf', 'subMW', 'MW', ] ):\n",
    "    tex_file.save_variable(\n",
    "        'profilevary{}{}'.format( mass_name, regime ),\n",
    "        '{:.02g}'.format( all_variation[mass_bin] )\n",
    "    )"
   ]
  },
  {
   "cell_type": "markdown",
   "metadata": {},
   "source": [
    "## IGM Accretion"
   ]
  },
  {
   "cell_type": "code",
   "execution_count": null,
   "metadata": {},
   "outputs": [],
   "source": [
    "class_hists = hists['is_CGM_NEP']"
   ]
  },
  {
   "cell_type": "code",
   "execution_count": null,
   "metadata": {},
   "outputs": [],
   "source": [
    "class_meds = medians['is_CGM_NEP']"
   ]
  },
  {
   "cell_type": "code",
   "execution_count": null,
   "metadata": {},
   "outputs": [],
   "source": [
    "sub_hists = class_hists.split_by_dict( linefinder_config.MASS_BINS )"
   ]
  },
  {
   "cell_type": "code",
   "execution_count": null,
   "metadata": {},
   "outputs": [],
   "source": [
    "sub_hists['m12'].apply( get_radii_percentile, 0.5 ).array().mean()"
   ]
  },
  {
   "cell_type": "markdown",
   "metadata": {},
   "source": [
    "### m12s"
   ]
  },
  {
   "cell_type": "code",
   "execution_count": null,
   "metadata": {},
   "outputs": [],
   "source": [
    "steep_sl = slice( np.argmax( edges < .4 - .01 ), edges.size )"
   ]
  },
  {
   "cell_type": "code",
   "execution_count": null,
   "metadata": {},
   "outputs": [],
   "source": [
    "smooth_sl = slice( np.argmax( edges > .4 - .01 ), edges.size )"
   ]
  },
  {
   "cell_type": "code",
   "execution_count": null,
   "metadata": {},
   "outputs": [],
   "source": [
    "smooth_max = sub_hists['m12'].inner_item( smooth_sl ).log10().max()\n",
    "smooth_min = sub_hists['m12'].inner_item( smooth_sl ).log10().min()"
   ]
  },
  {
   "cell_type": "code",
   "execution_count": null,
   "metadata": {},
   "outputs": [],
   "source": [
    "smooth_max - smooth_min"
   ]
  },
  {
   "cell_type": "code",
   "execution_count": null,
   "metadata": {},
   "outputs": [],
   "source": [
    "delta_smooth = np.array( ( smooth_max - smooth_min ).values() ).mean()\n",
    "delta_smooth"
   ]
  },
  {
   "cell_type": "code",
   "execution_count": null,
   "metadata": {},
   "outputs": [],
   "source": [
    "tex_file.save_variable(\n",
    "    'deltaMWsmooth{}'.format( regime ),\n",
    "    '{:.02g}'.format( 10.**delta_smooth )\n",
    ")"
   ]
  },
  {
   "cell_type": "code",
   "execution_count": null,
   "metadata": {},
   "outputs": [],
   "source": [
    "steep_max = sub_hists['m12'].inner_item( steep_sl ).log10().apply( np.nanmax )\n",
    "steep_min = sub_hists['m12'].inner_item( steep_sl ).log10().apply( np.nanmin )"
   ]
  },
  {
   "cell_type": "code",
   "execution_count": null,
   "metadata": {},
   "outputs": [],
   "source": [
    "steep_max - steep_min"
   ]
  },
  {
   "cell_type": "code",
   "execution_count": null,
   "metadata": {},
   "outputs": [],
   "source": [
    "delta_steep = np.array( ( steep_max - steep_min ).values() ).mean()\n",
    "delta_steep"
   ]
  },
  {
   "cell_type": "code",
   "execution_count": null,
   "metadata": {},
   "outputs": [],
   "source": [
    "tex_file.save_variable(\n",
    "    'deltaMWsteep{}'.format( regime ),\n",
    "    '{:.02g}'.format( 10.**delta_steep )\n",
    ")"
   ]
  },
  {
   "cell_type": "code",
   "execution_count": null,
   "metadata": {},
   "outputs": [],
   "source": [
    "min_steep = ( steep_max - steep_min ).array().min()"
   ]
  },
  {
   "cell_type": "code",
   "execution_count": null,
   "metadata": {},
   "outputs": [],
   "source": [
    "max_steep = ( steep_max - steep_min ).array().max()"
   ]
  },
  {
   "cell_type": "code",
   "execution_count": null,
   "metadata": {},
   "outputs": [],
   "source": [
    "tex_file.save_variable(\n",
    "    'deltaMWsteepmin{}'.format( regime ),\n",
    "    '{:.02g}'.format( 10.**min_steep )\n",
    ")"
   ]
  },
  {
   "cell_type": "code",
   "execution_count": null,
   "metadata": {},
   "outputs": [],
   "source": [
    "tex_file.save_variable(\n",
    "    'deltaMWsteepmax{}'.format( regime ),\n",
    "    '{:.02g}'.format( 10.**max_steep )\n",
    ")"
   ]
  },
  {
   "cell_type": "markdown",
   "metadata": {},
   "source": [
    "### m11s"
   ]
  },
  {
   "cell_type": "code",
   "execution_count": null,
   "metadata": {},
   "outputs": [],
   "source": [
    "delta_max = ( sub_hists['m11'].log10().apply( np.nanmax ) - sub_hists['m11'].log10().apply( np.nanmin ) ).array().max()"
   ]
  },
  {
   "cell_type": "code",
   "execution_count": null,
   "metadata": {},
   "outputs": [],
   "source": [
    "tex_file.save_variable(\n",
    "    'deltaelevenmax{}'.format( regime ),\n",
    "    '{:.01f}'.format( delta_max )\n",
    ")"
   ]
  },
  {
   "cell_type": "code",
   "execution_count": null,
   "metadata": {},
   "outputs": [],
   "source": [
    "m11_increase = class_meds['m11'][-1]/class_meds['m11'][0]"
   ]
  },
  {
   "cell_type": "markdown",
   "metadata": {},
   "source": [
    "### m10s"
   ]
  },
  {
   "cell_type": "code",
   "execution_count": null,
   "metadata": {},
   "outputs": [],
   "source": [
    "delta_max = ( sub_hists['m10'].log10().apply( np.nanmax ) - sub_hists['m10'].log10().apply( np.nanmin ) ).array().max()"
   ]
  },
  {
   "cell_type": "code",
   "execution_count": null,
   "metadata": {},
   "outputs": [],
   "source": [
    "tex_file.save_variable(\n",
    "    'deltatenmax{}'.format( regime ),\n",
    "    '{:.01f}'.format( delta_max )\n",
    ")"
   ]
  },
  {
   "cell_type": "code",
   "execution_count": null,
   "metadata": {},
   "outputs": [],
   "source": [
    "m10_increase = class_meds['m10'][-1]/class_meds['m10'][0]"
   ]
  },
  {
   "cell_type": "markdown",
   "metadata": {},
   "source": [
    "### Both m10s and m11s"
   ]
  },
  {
   "cell_type": "code",
   "execution_count": null,
   "metadata": {},
   "outputs": [],
   "source": [
    "tex_file.save_variable(\n",
    "    'profilelowMincreaseIGMAccretion{}'.format( regime ),\n",
    "    '{:.02g}'.format( 0.5*( m10_increase + m11_increase )  ) # I use a ceiling here\n",
    ")"
   ]
  },
  {
   "cell_type": "markdown",
   "metadata": {},
   "source": [
    "# Wind"
   ]
  },
  {
   "cell_type": "code",
   "execution_count": null,
   "metadata": {},
   "outputs": [],
   "source": [
    "class_hists = hists['is_CGM_IP']"
   ]
  },
  {
   "cell_type": "code",
   "execution_count": null,
   "metadata": {},
   "outputs": [],
   "source": [
    "sub_hists = class_hists.split_by_dict( linefinder_config.MASS_BINS )"
   ]
  },
  {
   "cell_type": "code",
   "execution_count": null,
   "metadata": {},
   "outputs": [],
   "source": [
    "if snum == 465:\n",
    "    core_cuts = [ 0.4, ]*3\n",
    "elif snum == 172:\n",
    "    core_cuts = [ 0.6, 0.8, 0.6 ]"
   ]
  },
  {
   "cell_type": "code",
   "execution_count": null,
   "metadata": {},
   "outputs": [],
   "source": [
    "for mass_bin, mass_name, core_cut in zip( [ 'm10', 'm11', 'm12', ], [ 'dwarf', 'subMW', 'MW', ], core_cuts ):\n",
    "\n",
    "    mean_core_mass = sub_hists[mass_bin].apply( get_mass_within, core_cut ).array().mean()\n",
    "\n",
    "    tex_file.save_variable(\n",
    "        'mean{}windcoremass{}'.format( mass_name, regime ),\n",
    "         py2tex.to_tex_percentage( mean_core_mass, 0, False ),\n",
    "    )"
   ]
  },
  {
   "cell_type": "markdown",
   "metadata": {},
   "source": [
    "# Satellite Wind"
   ]
  },
  {
   "cell_type": "code",
   "execution_count": null,
   "metadata": {},
   "outputs": [],
   "source": [
    "class_hists = hists['is_CGM_EP']"
   ]
  },
  {
   "cell_type": "code",
   "execution_count": null,
   "metadata": {},
   "outputs": [],
   "source": [
    "sub_hists = class_hists.split_by_dict( linefinder_config.MASS_BINS )"
   ]
  },
  {
   "cell_type": "code",
   "execution_count": null,
   "metadata": {},
   "outputs": [],
   "source": [
    "def get_mass_above_percentile( pdf, q ):\n",
    "\n",
    "    percentile = np.nanpercentile( pdf, q )\n",
    "\n",
    "    return pdf[pdf > percentile].sum()*( base_bins[1] - base_bins[0] )"
   ]
  },
  {
   "cell_type": "code",
   "execution_count": null,
   "metadata": {},
   "outputs": [],
   "source": [
    "def get_mass_above_n_sigma( pdf, n ):\n",
    "\n",
    "    median = np.nanmedian( pdf, )\n",
    "    sigma = np.nanstd( pdf, )\n",
    "\n",
    "    return pdf[pdf > median + n*sigma ].sum()*( base_bins[1] - base_bins[0] )"
   ]
  },
  {
   "cell_type": "code",
   "execution_count": null,
   "metadata": {},
   "outputs": [],
   "source": [
    "for mass_bin, mass_name in zip( [ 'm11', 'm12' ], [ 'subMW', 'MW' ] ):\n",
    "    \n",
    "    mass_in_peaks = sub_hists[mass_bin].apply( get_mass_above_n_sigma, n=1 ).array().mean()\n",
    "    \n",
    "    tex_file.save_variable(\n",
    "        'mean{}satellitewindpeakmass{}'.format( mass_name, regime ),\n",
    "        py2tex.to_tex_percentage( mass_in_peaks, 0, False ),\n",
    "    )"
   ]
  }
 ],
 "metadata": {
  "kernelspec": {
   "display_name": "Python 2",
   "language": "python",
   "name": "python2"
  },
  "language_info": {
   "codemirror_mode": {
    "name": "ipython",
    "version": 2
   },
   "file_extension": ".py",
   "mimetype": "text/x-python",
   "name": "python",
   "nbconvert_exporter": "python",
   "pygments_lexer": "ipython2",
   "version": "2.7.13"
  }
 },
 "nbformat": 4,
 "nbformat_minor": 2
}
