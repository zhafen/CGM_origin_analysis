{
 "cells": [
  {
   "cell_type": "code",
   "execution_count": 31,
   "metadata": {},
   "outputs": [],
   "source": [
    "import copy\n",
    "import numpy as np\n",
    "import os"
   ]
  },
  {
   "cell_type": "code",
   "execution_count": 32,
   "metadata": {},
   "outputs": [],
   "source": [
    "import analysis_config"
   ]
  },
  {
   "cell_type": "code",
   "execution_count": 33,
   "metadata": {},
   "outputs": [],
   "source": [
    "import verdict\n",
    "import galaxy_dive.analyze_data.particle_data as particle_data\n",
    "import galaxy_dive.read_data.metafile as read_metafile\n",
    "import galaxy_dive.utils.executable_helpers as exec_helpers\n",
    "import galaxy_dive.plot_data.plotting as generic_plotting\n",
    "import galaxy_dive.trends.galaxy as galaxy_trends"
   ]
  },
  {
   "cell_type": "code",
   "execution_count": 34,
   "metadata": {},
   "outputs": [],
   "source": [
    "import linefinder.config as linefinder_config\n",
    "import linefinder.utils.file_management as file_management"
   ]
  },
  {
   "cell_type": "code",
   "execution_count": 35,
   "metadata": {},
   "outputs": [],
   "source": [
    "import colossus.cosmology.cosmology as co_cosmology"
   ]
  },
  {
   "cell_type": "code",
   "execution_count": 36,
   "metadata": {},
   "outputs": [],
   "source": [
    "import matplotlib\n",
    "import matplotlib.pyplot as plt\n",
    "import matplotlib.colors as colors\n",
    "import matplotlib.cm as cm\n",
    "import matplotlib.patheffects as path_effects\n",
    "import matplotlib.transforms as transforms"
   ]
  },
  {
   "cell_type": "markdown",
   "metadata": {},
   "source": [
    "# Load Data"
   ]
  },
  {
   "cell_type": "code",
   "execution_count": 37,
   "metadata": {},
   "outputs": [],
   "source": [
    "do_calculation = True"
   ]
  },
  {
   "cell_type": "code",
   "execution_count": 38,
   "metadata": {
    "collapsed": true
   },
   "outputs": [
    {
     "name": "stdout",
     "output_type": "stream",
     "text": [
      "Using snum 390, galdef _galdefv3\n"
     ]
    }
   ],
   "source": [
    "snum, galdef_name = exec_helpers.choose_config_or_commandline(\n",
    "    [ analysis_config.SNUM, analysis_config.GALDEF ]\n",
    ")\n",
    "print( 'Using snum {}, galdef {}'.format( snum, galdef_name ) )"
   ]
  },
  {
   "cell_type": "code",
   "execution_count": 39,
   "metadata": {},
   "outputs": [],
   "source": [
    "galdef = linefinder_config.GALAXY_DEFINITIONS[galdef_name]"
   ]
  },
  {
   "cell_type": "code",
   "execution_count": 40,
   "metadata": {},
   "outputs": [],
   "source": [
    "file_manager = file_management.FileManager( project='CGM_origin' )"
   ]
  },
  {
   "cell_type": "code",
   "execution_count": 41,
   "metadata": {},
   "outputs": [],
   "source": [
    "# Change sim dir for FIRE-1\n",
    "file_manager.system_parameters['simulation_data_dir'] = '/scratch/03057/zhafen'"
   ]
  },
  {
   "cell_type": "code",
   "execution_count": 42,
   "metadata": {},
   "outputs": [],
   "source": [
    "cp_file_manager = file_management.FileManager( project='code_paper' )"
   ]
  },
  {
   "cell_type": "code",
   "execution_count": 43,
   "metadata": {},
   "outputs": [],
   "source": [
    "sim_names = [\n",
    "    'm12iF1',\n",
    "]"
   ]
  },
  {
   "cell_type": "code",
   "execution_count": 44,
   "metadata": {},
   "outputs": [],
   "source": [
    "all_results = verdict.Dict( {\n",
    "    'M' : {\n",
    "        'gas' : {},\n",
    "        'stars' : {},\n",
    "        'total' : {},\n",
    "    },\n",
    "    'enriched_metal_mass' : {\n",
    "        'gas' : {},\n",
    "        'stars' : {},\n",
    "        'total' : {},\n",
    "    },\n",
    "    'R' : {},\n",
    "} )"
   ]
  },
  {
   "cell_type": "code",
   "execution_count": 46,
   "metadata": {},
   "outputs": [
    {
     "name": "stdout",
     "output_type": "stream",
     "text": [
      "Getting data for m12iF1\n",
      "No FIRE-2 data found, so trying FIRE-1 sim format.\n",
      "No FIRE-2 data found, so trying FIRE-1 sim format.\n",
      "No FIRE-2 data found, so trying FIRE-1 sim format.\n",
      "No FIRE-2 data found, so trying FIRE-1 sim format.\n",
      "No FIRE-2 data found, so trying FIRE-1 sim format.\n"
     ]
    }
   ],
   "source": [
    "if do_calculation:\n",
    "    for sim_name in sim_names:\n",
    "\n",
    "        print( 'Getting data for {}'.format( sim_name ) )\n",
    "\n",
    "        g_data = particle_data.ParticleData(\n",
    "            sdir = file_manager.get_sim_dir( sim_name ),\n",
    "            halo_data_dir = file_manager.get_halo_dir( sim_name ),\n",
    "            snum = snum,\n",
    "            ptype = 0,\n",
    "            main_halo_id = linefinder_config.MAIN_MT_HALO_ID[sim_name],\n",
    "        )\n",
    "\n",
    "        s_data = particle_data.ParticleData(\n",
    "            sdir = file_manager.get_sim_dir( sim_name ),\n",
    "            halo_data_dir = file_manager.get_halo_dir( sim_name ),\n",
    "            snum = snum,\n",
    "            ptype = 4,\n",
    "            main_halo_id = linefinder_config.MAIN_MT_HALO_ID[sim_name],\n",
    "        )\n",
    "\n",
    "        # For more convenient access\n",
    "        datas = verdict.Dict( {\n",
    "            'gas' : g_data,\n",
    "            'stars' : s_data,\n",
    "        })\n",
    "\n",
    "        metafile_reader = read_metafile.MetafileReader(\n",
    "            file_manager.get_metafile_dir( sim_name )\n",
    "        )\n",
    "\n",
    "        def store_or_create( results_dict, value, name ):\n",
    "            try:\n",
    "                results_dict[name][sim_name] = value\n",
    "            except KeyError:\n",
    "                results_dict[name] = verdict.Dict( {} )\n",
    "                results_dict[name][sim_name] = value\n",
    "\n",
    "        def store_results( results, data_to_store, name ):\n",
    "\n",
    "            total = 0.\n",
    "            for key, item in data_to_store.items():\n",
    "                store_or_create( results[key], item, name)\n",
    "                total += item\n",
    "\n",
    "            store_or_create( results['total'], total, name )\n",
    "\n",
    "        # Mask Data\n",
    "\n",
    "        datas.data_masker.clear_masks( True )\n",
    "\n",
    "        # Mask all data outside the halo\n",
    "        datas.data_masker.mask_data(\n",
    "            'R',\n",
    "            -np.inf,\n",
    "            g_data.r_vir,\n",
    "            optional_mask = True,\n",
    "            mask_name = 'is_in_halo',\n",
    "        )\n",
    "\n",
    "        length_scale = g_data.halo_data.get_mt_data(\n",
    "            galdef['mt_length_scale'], \n",
    "            mt_halo_id = linefinder_config.MAIN_MT_HALO_ID[sim_name], \n",
    "            snums = [ snum ],\n",
    "            a_power = 1.,\n",
    "        )[0] / g_data.data_attrs['hubble']\n",
    "\n",
    "        r_gal = length_scale * galdef['galaxy_cut']\n",
    "\n",
    "        # Mask all data outside the galaxy\n",
    "        datas.data_masker.mask_data(\n",
    "            'R',\n",
    "            -np.inf,\n",
    "            r_gal,\n",
    "            optional_mask = True,\n",
    "            mask_name = 'is_in_gal_radius',\n",
    "        )\n",
    "\n",
    "        # Different masks for multiples of the length scale\n",
    "        for cut in np.arange( 1., 7., 1.):\n",
    "            datas.data_masker.mask_data(\n",
    "                'R',\n",
    "                -np.inf,\n",
    "                length_scale * cut,\n",
    "                optional_mask = True,\n",
    "                mask_name = cut,\n",
    "            )\n",
    "\n",
    "        # Mask all data outside the galaxy density cut\n",
    "        g_data.data_masker.mask_data(\n",
    "            'NumDen',\n",
    "            0.1,\n",
    "            np.inf,\n",
    "            optional_mask = True,\n",
    "            mask_name = 'is_in_gal_density',\n",
    "        )\n",
    "\n",
    "        r_inner_cgm_rgal = r_gal * ( 1. + linefinder_config.F_GAP )\n",
    "\n",
    "        # Mask all data outside the CGM (outside galaxy scale)\n",
    "        datas.data_masker.mask_data(\n",
    "            'R',\n",
    "            r_inner_cgm_rgal,\n",
    "            linefinder_config.OUTER_CGM_BOUNDARY * g_data.r_vir,\n",
    "            optional_mask = True,\n",
    "            mask_name = 'is_in_CGM_outside_gal',\n",
    "        )\n",
    "\n",
    "        # Mask all data outside the CGM (Rvir scale)\n",
    "        datas.data_masker.mask_data(\n",
    "            'R',\n",
    "            linefinder_config.INNER_CGM_BOUNDARY * g_data.r_vir,\n",
    "            linefinder_config.OUTER_CGM_BOUNDARY * g_data.r_vir,\n",
    "            optional_mask = True,\n",
    "            mask_name = 'is_in_CGM_virial_scale',\n",
    "        )\n",
    "        \n",
    "        # Select outer CGM data\n",
    "        datas.data_masker.mask_data(\n",
    "            'R',\n",
    "            0.5 * g_data.r_vir,\n",
    "            linefinder_config.OUTER_CGM_BOUNDARY * g_data.r_vir,\n",
    "            optional_mask = True,\n",
    "            mask_name = 'is_in_outer_CGM',\n",
    "        )\n",
    "\n",
    "        # Select for data that's not in either the galaxy or the CGM\n",
    "\n",
    "        is_not_in_gals = verdict.Dict( {} )\n",
    "        is_not_in_gals['gas'] = np.ma.mask_or(\n",
    "            datas['gas'].data_masker.optional_masks['is_in_gal_radius']['mask'],\n",
    "            datas['gas'].data_masker.optional_masks['is_in_gal_density']['mask'],\n",
    "        )\n",
    "        is_not_in_gals['stars'] = datas['stars'].data_masker.optional_masks['is_in_gal_radius']['mask']\n",
    "\n",
    "        is_not_in_CGMs = verdict.Dict( {} )\n",
    "        for key, data in datas.items():\n",
    "            is_not_in_CGMs[key] = np.ma.mask_or(\n",
    "                data.data_masker.optional_masks['is_in_CGM_outside_gal']['mask'],\n",
    "                data.data_masker.optional_masks['is_in_CGM_virial_scale']['mask'],\n",
    "            )\n",
    "\n",
    "        # Choose different temperature cuts\n",
    "        g_data.data_masker.mask_data(\n",
    "            'T',\n",
    "            -np.inf,\n",
    "            1e4,\n",
    "            optional_mask = True,\n",
    "            mask_name = 'cold',\n",
    "        )\n",
    "        g_data.data_masker.mask_data(\n",
    "            'T',\n",
    "            1e4,\n",
    "            10.**4.7,\n",
    "            optional_mask = True,\n",
    "            mask_name = 'cool',\n",
    "        )\n",
    "        g_data.data_masker.mask_data(\n",
    "            'T',\n",
    "            10.**4.7,\n",
    "            10.**5.3,\n",
    "            optional_mask = True,\n",
    "            mask_name = 'warm',\n",
    "        )\n",
    "        g_data.data_masker.mask_data(\n",
    "            'T',\n",
    "            10.**5.3,\n",
    "            np.inf,\n",
    "            optional_mask = True,\n",
    "            mask_name = 'hot',\n",
    "        )\n",
    "\n",
    "        for key, data in datas.items():\n",
    "\n",
    "            is_not_in_gal_or_in_CGM = is_not_in_gals[key] & is_not_in_CGMs[key]\n",
    "\n",
    "            data.data_masker.mask_data(\n",
    "                'is_not_in_gal_or_in_CGM',\n",
    "                custom_mask = np.invert( is_not_in_gal_or_in_CGM ),\n",
    "                optional_mask = True,\n",
    "            )\n",
    "\n",
    "        ## Get the total baryonic halo mass\n",
    "\n",
    "        for mass_type in [ 'M', 'enriched_metal_mass' ]:\n",
    "\n",
    "            results = all_results[mass_type]\n",
    "\n",
    "            m_halos = datas.get_selected_data( \n",
    "                mass_type, \n",
    "                optional_masks=[ 'is_in_halo' ],\n",
    "            ).sum() * 1e10\n",
    "\n",
    "            store_results( results, m_halos, 'm_halo' )\n",
    "\n",
    "            ### Get the mass in the galaxy\n",
    "\n",
    "            # Get the total baryonic mass in the halo\n",
    "            m_gas_gal = g_data.get_selected_data( \n",
    "                mass_type, \n",
    "                optional_masks=[ 'is_in_gal_radius', 'is_in_gal_density' ] \n",
    "            ).sum() * 1e10 # To convert to the right units\n",
    "            m_star_gal = s_data.get_selected_data( \n",
    "                mass_type, \n",
    "                optional_masks=[ 'is_in_gal_radius', ]\n",
    "            ).sum() * 1e10 # To convert to the right units \n",
    "\n",
    "            m_gals = {\n",
    "                'gas' : m_gas_gal,\n",
    "                'stars' : m_star_gal,\n",
    "            }\n",
    "\n",
    "            store_results( results, m_gals, 'm_gal' )\n",
    "\n",
    "            ### Get mass in the CGM\n",
    "\n",
    "            m_cgms = datas.get_selected_data( \n",
    "                mass_type, \n",
    "                optional_masks=[ 'is_in_CGM_virial_scale', 'is_in_CGM_outside_gal' ]\n",
    "            ).sum() * 1e10\n",
    "\n",
    "            store_results( results, m_cgms, 'm_cgm' )\n",
    "            \n",
    "            ### Get mass in the outer CGM\n",
    "\n",
    "            m_cgms = datas.get_selected_data( \n",
    "                mass_type, \n",
    "                optional_masks=[ 'is_in_outer_CGM', ]\n",
    "            ).sum() * 1e10\n",
    "\n",
    "            store_results( results, m_cgms, 'm_cgm_outer' )\n",
    "\n",
    "            ### Find material that's in the halo, but is not part of any other category\n",
    "\n",
    "            m_interface = datas.get_selected_data( \n",
    "                mass_type, \n",
    "                optional_masks=[ 'is_not_in_gal_or_in_CGM', 'is_in_halo' ],\n",
    "            ).sum() * 1e10\n",
    "\n",
    "            store_results( results, m_interface, 'm_interface' )\n",
    "\n",
    "            ### Find the  mass of dense gas that's interfaceegorized (i.e. dense gas from R_gal to R_CGM )\n",
    "\n",
    "            m_dense_interface = g_data.get_selected_data(\n",
    "                mass_type, \n",
    "                optional_masks=[ 'is_not_in_gal_or_in_CGM', 'is_in_halo', 'is_in_gal_density' ],\n",
    "            ).sum() * 1e10\n",
    "\n",
    "            store_or_create( results['gas'], m_dense_interface, 'm_dense_interface' )\n",
    "\n",
    "            ### Get total mass in the simulation\n",
    "\n",
    "            m_box = datas.get_selected_data( \n",
    "                mass_type, \n",
    "            ).sum() * 1e10\n",
    "\n",
    "            store_results( results, m_box, 'm_box' )\n",
    "\n",
    "            ### Get mass in different cuts\n",
    "            for cut in np.arange( 1., 7., 1. ):\n",
    "                m_cut = datas.get_selected_data( \n",
    "                    mass_type, \n",
    "                    optional_masks=[ cut ],\n",
    "                ).sum() * 1e10\n",
    "\n",
    "                store_results( results, m_cut, cut )\n",
    "                \n",
    "                m_cut = g_data.get_selected_data(\n",
    "                    mass_type,\n",
    "                    optional_masks=[ cut, 'is_in_gal_density' ],\n",
    "                ).sum() * 1e10\n",
    "\n",
    "                store_or_create( results['gas'], m_cut, 'dense_{}'.format( cut ) )\n",
    "\n",
    "            ### Get mass in different temperature regimes\n",
    "            for phase in [ 'cold', 'cool', 'warm', 'hot' ]:\n",
    "                m_phase = g_data.get_selected_data( \n",
    "                    mass_type, \n",
    "                    optional_masks=[ phase, 'is_in_CGM_virial_scale', 'is_in_CGM_outside_gal' ],\n",
    "                ).sum() * 1e10\n",
    "\n",
    "                store_or_create( results['gas'], m_phase, 'm_{}'.format( phase ) )\n",
    "\n",
    "            ### Calculate the amount of dense CGM gas\n",
    "            m_dense_cgm = g_data.get_selected_data(\n",
    "                mass_type, \n",
    "                optional_masks=[ 'is_in_gal_density', 'is_in_CGM_virial_scale', 'is_in_CGM_outside_gal' ],\n",
    "            ).sum() * 1e10\n",
    "\n",
    "            store_or_create( results['gas'], m_dense_cgm, 'm_dense_cgm' )\n",
    "\n",
    "        ### Get the baryonic halo budget\n",
    "\n",
    "        metafile_reader.get_used_parameters()\n",
    "\n",
    "        # Setup the cosmology used by the simulations                                   \n",
    "        sim_cosmo = {                                                                   \n",
    "            'flat': True,                                                                 \n",
    "            'H0' : float( metafile_reader.used_parameters['HubbleParam'] )*100.,          \n",
    "            'Om0' : float( metafile_reader.used_parameters['Omega0'] ),                   \n",
    "            'Ob0' : float( metafile_reader.used_parameters['OmegaBaryon'] ),              \n",
    "            'sigma8' : co_cosmology.cosmologies['WMAP9']['sigma8'], # Use WMAP9 for values we don't store in our simulations explicitly.\n",
    "            'ns' : co_cosmology.cosmologies['WMAP9']['ns'], # Use WMAP9 for values we don't store in our simulations explicitly.\n",
    "        }                                                                               \n",
    "        cosmo = co_cosmology.setCosmology( 'sim_cosmo', sim_cosmo ) \n",
    "\n",
    "        omega_baryon = cosmo.Ob( g_data.redshift )\n",
    "\n",
    "        omega_matter = cosmo.Om( g_data.redshift )\n",
    "\n",
    "        store_or_create( all_results['M']['total'], g_data.m_vir * omega_baryon / omega_matter, 'm_budget_halo' )\n",
    "\n",
    "        # Get metal budget\n",
    "\n",
    "        m_floor = all_results['M']['total']['m_halo'][sim_name] * g_data.get_data( 'Z' ).min()   \n",
    "        store_or_create( all_results['enriched_metal_mass']['total'], m_floor, 'm_floor' )\n",
    "\n",
    "        m_floor_box = all_results['M']['total']['m_box'][sim_name] * g_data.get_data( 'Z' ).min()\n",
    "\n",
    "        metals_produced = all_results['enriched_metal_mass']['total']['m_box'][sim_name]\n",
    "\n",
    "        box_yield = metals_produced / all_results['M']['stars']['m_box'][sim_name]\n",
    "\n",
    "        store_or_create( \n",
    "            all_results['enriched_metal_mass']['total'], \n",
    "            all_results['M']['stars']['m_gal'][sim_name] * box_yield, \n",
    "            'm_budget_halo',\n",
    "        )\n",
    "        store_or_create( \n",
    "            all_results['enriched_metal_mass']['total'], \n",
    "            all_results['M']['stars']['m_halo'][sim_name] * box_yield, \n",
    "            'm_budget_halo_all',\n",
    "        )\n",
    "        \n",
    "        # Store virial mass\n",
    "        store_or_create( all_results['M']['total'], g_data.m_vir,  'm_vir' )\n",
    "\n",
    "        # Store radii\n",
    "        store_or_create( all_results['R'], g_data.r_vir, 'r_vir' )\n",
    "        store_or_create( all_results['R'], r_gal, 'r_gal' )\n",
    "        \n",
    "        #  Get the number of particles (and non-split particles) in the CGM\n",
    "        cgm_ids = datas.get_selected_data( \n",
    "            'ID', \n",
    "            optional_masks=[ 'is_in_CGM_virial_scale', 'is_in_CGM_outside_gal' ]\n",
    "        )\n",
    "        n_particles_cgm = cgm_ids.size \n",
    "        n_unique_particles_cgm = cgm_ids.apply( np.unique ).size\n",
    "        store_results( all_results['M'], n_particles_cgm, 'n_particles_cgm' )\n",
    "        store_results( all_results['M'], n_unique_particles_cgm, 'n_unique_particles_cgm' )\n",
    "\n",
    "        #  Get the number of particles (and non-split particles) in the galaxy\n",
    "        gal_ids = verdict.Dict( { \n",
    "            'gas' : g_data.get_selected_data( \n",
    "                'ID', \n",
    "                optional_masks=[ 'is_in_gal_density', 'is_in_gal_radius' ]\n",
    "            ),\n",
    "            'stars' : s_data.get_selected_data( \n",
    "                'ID', \n",
    "                optional_masks=[ 'is_in_gal_radius' ]\n",
    "            ),\n",
    "        } )\n",
    "        n_particles_gal = gal_ids.size \n",
    "        n_unique_particles_gal = gal_ids.apply( np.unique ).size\n",
    "        store_results( all_results['M'], n_particles_gal, 'n_particles_gal' )\n",
    "        store_results( all_results['M'], n_unique_particles_gal, 'n_unique_particles_gal' )"
   ]
  },
  {
   "cell_type": "code",
   "execution_count": 47,
   "metadata": {},
   "outputs": [
    {
     "data": {
      "text/plain": [
       "0.25"
      ]
     },
     "execution_count": 47,
     "metadata": {},
     "output_type": "execute_result"
    }
   ],
   "source": [
    "g_data.redshift"
   ]
  },
  {
   "cell_type": "code",
   "execution_count": 48,
   "metadata": {},
   "outputs": [
    {
     "name": "stdout",
     "output_type": "stream",
     "text": [
      "Done!\n"
     ]
    }
   ],
   "source": [
    "print 'Done!'"
   ]
  },
  {
   "cell_type": "markdown",
   "metadata": {},
   "source": [
    "## Store and Load Data"
   ]
  },
  {
   "cell_type": "code",
   "execution_count": null,
   "metadata": {},
   "outputs": [],
   "source": [
    "savefile = os.path.join(\n",
    "    file_manager.project_parameters['output_data_dir'],\n",
    "    'halo_mass_content_FIRE1_snum{}.hdf5'.format( snum ),\n",
    ")"
   ]
  },
  {
   "cell_type": "code",
   "execution_count": null,
   "metadata": {},
   "outputs": [],
   "source": [
    "if do_calculation:\n",
    "    all_results.to_hdf5(\n",
    "        savefile, \n",
    "        condensed = True, \n",
    "        attributes = { 'redshift': g_data.redshift },\n",
    "    )\n",
    "    \n",
    "    redshift = g_data.redshift"
   ]
  },
  {
   "cell_type": "code",
   "execution_count": null,
   "metadata": {},
   "outputs": [],
   "source": [
    "if not do_calculation:\n",
    "    all_results, attributes = verdict.Dict.from_hdf5( savefile, unpack=True )\n",
    "    \n",
    "    redshift = attributes['redshift']"
   ]
  },
  {
   "cell_type": "markdown",
   "metadata": {},
   "source": [
    "# Plots!"
   ]
  },
  {
   "cell_type": "code",
   "execution_count": null,
   "metadata": {},
   "outputs": [],
   "source": [
    "import palettable\n",
    "import galaxy_dive.plot_data.qual_colormaps as qual_colormaps"
   ]
  },
  {
   "cell_type": "code",
   "execution_count": null,
   "metadata": {},
   "outputs": [],
   "source": [
    "colormap = palettable.cartocolors.qualitative.Vivid_3.mpl_colors"
   ]
  },
  {
   "cell_type": "code",
   "execution_count": null,
   "metadata": {},
   "outputs": [],
   "source": [
    "markers = {\n",
    "    'm_halo' : 's',\n",
    "    'm_cgm' : 'o',\n",
    "    'm_interface' : 'p',\n",
    "    'm_gal' : 'D',\n",
    "}\n",
    "colors = {\n",
    "    'm_halo' : 'k',\n",
    "    'm_cgm' : colormap[0],\n",
    "    'm_interface' : colormap[2],\n",
    "    'm_gal' : colormap[1],\n",
    "}\n",
    "labels = {\n",
    "    'm_halo' : 'total',\n",
    "    'm_cgm' : 'CGM',\n",
    "    'm_interface' : 'galaxy-halo interface',\n",
    "    'm_gal' : 'galaxy',\n",
    "}\n",
    "x_adjustment = {\n",
    "    'm_halo' : 1.,\n",
    "    'm_cgm' : 1.,\n",
    "    'm_interface' : 1.025,\n",
    "    'm_gal' : 0.95,\n",
    "}\n",
    "linewidths = {\n",
    "    'm_halo' : 6,\n",
    "    'm_cgm' : 5.,\n",
    "    'm_interface' : 3.,\n",
    "    'm_gal' : 4., \n",
    "}\n",
    "category_ptypes = {\n",
    "    'm_halo' : 'total',\n",
    "    'm_cgm' : 'gas',\n",
    "    'm_gal' : 'total',\n",
    "    'm_interface' : 'gas',\n",
    "}\n",
    "met_budget_stellar_mass_keys = {\n",
    "    'm_halo' : 'm_budget_halo_all',\n",
    "    'm_cgm' : 'm_budget_halo_all',\n",
    "    'm_gal' : 'm_budget_halo',\n",
    "    'm_interface' : 'm_budget_halo',\n",
    "}"
   ]
  },
  {
   "cell_type": "code",
   "execution_count": null,
   "metadata": {},
   "outputs": [],
   "source": [
    "def mass_budget_plot(\n",
    "    x_data_type = 'm_vir',\n",
    "    y_data_type = 'mass',\n",
    "    fig_and_ax = None,\n",
    "    enforce_lower_limit = False,\n",
    "    lower_limit = 0.01,\n",
    "    log_y = True,\n",
    "    include_legend = False,\n",
    "    categories = [ 'm_halo', 'm_cgm', 'm_gal', 'm_interface', ],\n",
    "    md_split_categories = [],\n",
    "    hline = None,\n",
    "    x_label = ( snum == 172),\n",
    "    y_range = [ 3e-2, 1 ],\n",
    "    redshift_coords = ( 0.5, 0.1 ),\n",
    "    redshift_ha = 'center',\n",
    "    redshift_va = 'top',\n",
    "    box_plot = True,\n",
    "    plot_box_lines_only = False,\n",
    "    save_plot = True,\n",
    "    point_alpha = None,\n",
    "    halo_point_size = 150,\n",
    "    custom_legend_kwargs = None,\n",
    "    overriding_label = None,\n",
    "    use_minor_tick_formatter = False,\n",
    "    save_file_tag = '',\n",
    "    save_in_figure_dir = False,\n",
    "):\n",
    "\n",
    "    if fig_and_ax is None:\n",
    "        fig = plt.figure( figsize=(11,6) )\n",
    "        ax = plt.gca()\n",
    "    else:\n",
    "        fig, ax = fig_and_ax\n",
    "        \n",
    "    if x_data_type == 'm_star':\n",
    "        x_data_d = all_results['M']['stars']['m_gal']\n",
    "    elif x_data_type == 'm_vir':\n",
    "        x_data_d = all_results['M']['total']['m_vir']\n",
    "\n",
    "    x_data = x_data_d.array()\n",
    "\n",
    "    for k, category in enumerate( categories ):\n",
    "\n",
    "        category_ptype = category_ptypes[category]\n",
    "        \n",
    "        if y_data_type == 'mass':\n",
    "            y_data_cat = all_results['M'][category_ptype][category] / verdict.Dict( all_results['M']['total']['m_budget_halo'] )\n",
    "        elif y_data_type == 'metal_mass':\n",
    "            \n",
    "            stellar_mass_key = met_budget_stellar_mass_keys[category]\n",
    "            \n",
    "            y_data_cat = (\n",
    "                all_results['enriched_metal_mass'][category_ptype][category] /\n",
    "                verdict.Dict( all_results['enriched_metal_mass']['total'][stellar_mass_key] )\n",
    "            )\n",
    "        \n",
    "        # Allow splitting into metal-diffusion vs not\n",
    "        if category not in md_split_categories:\n",
    "            y_datas = { False: y_data_cat }\n",
    "            x_datas = { False: x_data_d }\n",
    "        else:\n",
    "            y_datas = y_data_cat.split_by_key_slice( slice(4,10), '_md' )\n",
    "            x_datas = x_data_d.split_by_key_slice( slice(4,10), '_md' )\n",
    "            \n",
    "        for open_marker, y_data in y_datas.items():\n",
    "            \n",
    "            used_x_data = x_datas[open_marker].array()\n",
    "            \n",
    "            plotted_y_data = copy.copy( y_data.array() )\n",
    "\n",
    "            if point_alpha is None:\n",
    "                if category == 'm_interface':\n",
    "                    alpha = 0.7\n",
    "                else:\n",
    "                    alpha = 0.75\n",
    "            else:\n",
    "                alpha = point_alpha\n",
    "\n",
    "            if category == 'm_gal':\n",
    "                zorder = 90\n",
    "            else:\n",
    "                zorder = 100.\n",
    "\n",
    "            if include_legend:\n",
    "                label = labels[category]\n",
    "                if open_marker:\n",
    "                    label += ' MD'\n",
    "            else:\n",
    "                label = None\n",
    "\n",
    "            if overriding_label is not None:\n",
    "                label = overriding_label\n",
    "\n",
    "            if category == 'm_halo':\n",
    "                point_size = halo_point_size\n",
    "            else:\n",
    "                point_size = 100\n",
    "                \n",
    "            if open_marker:\n",
    "                facecolor = 'none'\n",
    "                color = colors[category]\n",
    "                linewidth = 3.5\n",
    "            else:\n",
    "                facecolor = colors[category]\n",
    "                color = colors[category]\n",
    "                linewidth = 0\n",
    "\n",
    "            # Plot main points\n",
    "            ax.scatter(\n",
    "                used_x_data,\n",
    "                plotted_y_data,\n",
    "                s = point_size,\n",
    "                color = colors[category],\n",
    "                marker = markers[category],\n",
    "                label = label,\n",
    "                alpha = alpha,\n",
    "                zorder = zorder,\n",
    "                linewidth = linewidth,\n",
    "                facecolor = facecolor,\n",
    "            )\n",
    "            \n",
    "            if enforce_lower_limit:\n",
    "\n",
    "                lower_than_lim = plotted_y_data<lower_limit\n",
    "                plotted_y_data[lower_than_lim] = lower_limit\n",
    "                lower_limit_xs = used_x_data[lower_than_lim]\n",
    "                lower_limit_ys = plotted_y_data[lower_than_lim]\n",
    "\n",
    "                # Plot downward arrows\n",
    "                for x, y in zip( lower_limit_xs, lower_limit_ys ):\n",
    "\n",
    "                    ax.text(\n",
    "                        x*x_adjustment[category],\n",
    "                        y,\n",
    "                        u'\\u2193', \n",
    "                #                 fontname='STIXGeneral', \n",
    "                        size=30,\n",
    "                        va='top', \n",
    "                        ha='center', \n",
    "                        clip_on = True,\n",
    "                        color = colors[category],\n",
    "                    )\n",
    "\n",
    "        # Plot a box\n",
    "        if box_plot:\n",
    "\n",
    "            if plot_box_lines_only:\n",
    "                line_x_min = x_data.min()\n",
    "                line_x_max = x_data.max()\n",
    "            else:\n",
    "                line_x_min = None\n",
    "                line_x_max = None\n",
    "\n",
    "            generic_plotting.box_plot(\n",
    "                x_data_d.split_by_dict( linefinder_config.MASS_BINS, return_list=True ),\n",
    "                y_data_cat.split_by_dict( linefinder_config.MASS_BINS, return_list=True ),\n",
    "                ax = ax,\n",
    "                color = colors[category],\n",
    "                linewidth = 4,\n",
    "                zorder_offset = -k,\n",
    "                plot_boxes = not plot_box_lines_only,\n",
    "                line_x_min = line_x_min,\n",
    "                line_x_max = line_x_max,\n",
    "            )\n",
    "\n",
    "    ax.annotate(\n",
    "        s = r'$z=' + '{:.2g}'.format( redshift ) + '$',\n",
    "        xy = redshift_coords,\n",
    "        xycoords = 'axes fraction', \n",
    "        fontsize = 24,\n",
    "        ha = redshift_ha,\n",
    "        va = redshift_va,\n",
    "        zorder = 250,\n",
    "    )\n",
    "    \n",
    "    if x_label:\n",
    "        if x_data_type == 'm_vir':\n",
    "            ax.set_xlabel( r'$M_{\\rm h}$ ($M_{\\odot}$)', fontsize=24 )\n",
    "        elif x_data_type == 'm_star':\n",
    "            ax.set_xlabel( r'$M_{\\star}$ ($M_{\\odot}$)', fontsize=24 )\n",
    "\n",
    "    if y_data_type == 'mass':\n",
    "        ax.set_ylabel( r'$M$ / $f_{\\rm b} M_{\\rm h}$', fontsize=24 )\n",
    "    elif y_data_type == 'metal_mass':\n",
    "        ax.set_ylabel( r'$M_{\\rm Z}$ / $y_{\\rm box} M_{\\star}$', fontsize=24 )\n",
    "\n",
    "    if include_legend:\n",
    "        if not log_y:\n",
    "            l = ax.legend(\n",
    "                prop={'size': 18},\n",
    "            )\n",
    "        else:\n",
    "            \n",
    "            # Remove Peeples legend\n",
    "            handles, leg_labels = ax.get_legend_handles_labels()\n",
    "            used_handles = []\n",
    "            used_leg_labels = []\n",
    "            for handle, leg_label in zip( handles, leg_labels ):\n",
    "                if leg_label == 'Peeples et al., 2014':\n",
    "                    continue\n",
    "                used_handles.append( handle )\n",
    "                used_leg_labels.append( leg_label )\n",
    "            \n",
    "            if custom_legend_kwargs is None:\n",
    "                l = ax.legend(\n",
    "                    handles = used_handles,\n",
    "                    labels = used_leg_labels,\n",
    "                    bbox_to_anchor = ( 0.5, 1. ),\n",
    "                    ncol = 4,\n",
    "                    prop={'size': 18},\n",
    "        #                 va = 'top',\n",
    "                    loc = 'lower center',\n",
    "                )\n",
    "            else:\n",
    "                l = ax.legend( **custom_legend_kwargs )\n",
    "        l.set_zorder( 300 )\n",
    "    \n",
    "    # Draw a horizontal line at 1\n",
    "    if hline is not None:\n",
    "        trans = transforms.blended_transform_factory( ax.transAxes, ax.transData )\n",
    "        ax.plot(\n",
    "            [ 0, 1 ],\n",
    "            [ 1, 1, ],\n",
    "            linewidth = 5,\n",
    "            linestyle = '--',\n",
    "            transform = trans,\n",
    "            color = 'grey',\n",
    "            zorder = 75,\n",
    "        )\n",
    "\n",
    "    ax.set_xscale( 'log' )\n",
    "    if not log_y:\n",
    "        ax.set_yscale( 'linear' )\n",
    "    else:\n",
    "        ax.set_yscale( 'log' )\n",
    "        \n",
    "        # Use better log formatter\n",
    "        log_ticker = matplotlib.ticker.FuncFormatter( generic_plotting.custom_log_formatter )\n",
    "        ax.yaxis.set_major_formatter( log_ticker )\n",
    "        if use_minor_tick_formatter:\n",
    "            ax.yaxis.set_minor_formatter( log_ticker )\n",
    "\n",
    "\n",
    "    # Ranges\n",
    "    ax.set_ylim( y_range)\n",
    "    if x_data_type == 'm_vir':\n",
    "        ax.set_xlim( 2e9, 2e12 )\n",
    "        \n",
    "        \n",
    "    # Fidget with parameters\n",
    "    ax.tick_params( right=True, top=True, which='both', direction='in', zorder=1000, pad=15 )\n",
    "\n",
    "    if save_plot:\n",
    "        save_file = '{}_budget_snum{}{}.pdf'.format( y_data_type, snum, save_file_tag )\n",
    "        \n",
    "        if save_file_tag == '' or save_in_figure_dir:\n",
    "            out_dir = file_manager.get_project_figure_dir()\n",
    "        else:\n",
    "            out_dir = file_manager.project_parameters['extras_dir']\n",
    "        \n",
    "        generic_plotting.save_fig(\n",
    "            out_dir = out_dir,\n",
    "            save_file = save_file,\n",
    "            fig = fig,\n",
    "        #         resolution = 100,\n",
    "        )"
   ]
  },
  {
   "cell_type": "markdown",
   "metadata": {},
   "source": [
    "## Mass Budget Plot"
   ]
  },
  {
   "cell_type": "code",
   "execution_count": null,
   "metadata": {},
   "outputs": [],
   "source": [
    "mass_budget_kwargs = {\n",
    "    465: {\n",
    "        'redshift_coords' : ( 0.05, 0.95 ),\n",
    "        'redshift_ha' : 'left',\n",
    "    },\n",
    "    172 : {\n",
    "        'redshift_coords' : ( 0.95, 0.05 ),\n",
    "        'redshift_ha' : 'right',\n",
    "        'redshift_va' : 'bottom',\n",
    "    },\n",
    "    600: {},\n",
    "}"
   ]
  },
  {
   "cell_type": "code",
   "execution_count": null,
   "metadata": {},
   "outputs": [],
   "source": [
    "mass_budget_plot(\n",
    "    include_legend = snum == 465,\n",
    "    y_range = [ 1e-2, 1 ], \n",
    "    save_file_tag = '_v2',\n",
    "    **mass_budget_kwargs[snum]\n",
    ")"
   ]
  },
  {
   "cell_type": "code",
   "execution_count": null,
   "metadata": {},
   "outputs": [],
   "source": [
    "mass_budget_plot(\n",
    "    include_legend = snum == 465,\n",
    "    y_range = [ 1e-2, 1 ], \n",
    "    plot_box_lines_only = True,\n",
    "    **mass_budget_kwargs[snum]\n",
    ")"
   ]
  },
  {
   "cell_type": "code",
   "execution_count": null,
   "metadata": {},
   "outputs": [],
   "source": [
    "# Appendix metal diffusion plot\n",
    "mass_budget_plot(\n",
    "    include_legend = snum == 465,\n",
    "    y_range = [ 5e-2, 1 ],\n",
    "    box_plot = False,\n",
    "    plot_box_lines_only = True,\n",
    "    categories = [ 'm_halo', 'm_cgm' ],\n",
    "    md_split_categories = [ 'm_halo', 'm_cgm' ],\n",
    "    save_file_tag = '_md_comp',\n",
    "    save_in_figure_dir = True,\n",
    "    use_minor_tick_formatter = False,\n",
    "    **mass_budget_kwargs[snum]\n",
    ")"
   ]
  },
  {
   "cell_type": "markdown",
   "metadata": {},
   "source": [
    "## Yields Plot"
   ]
  },
  {
   "cell_type": "code",
   "execution_count": null,
   "metadata": {},
   "outputs": [],
   "source": [
    "y_boxes = all_results['enriched_metal_mass']['total']['m_budget_halo'] / all_results['M']['stars']['m_gal']"
   ]
  },
  {
   "cell_type": "code",
   "execution_count": null,
   "metadata": {},
   "outputs": [],
   "source": [
    "fig = plt.figure( figsize=(11,6) )\n",
    "ax = plt.gca()\n",
    "\n",
    "# Total\n",
    "ax.scatter(\n",
    "    all_results['M']['stars']['m_gal'].array(),\n",
    "    y_boxes.array(),\n",
    "    s = 100,\n",
    "    color = 'k',\n",
    "    marker = 's',\n",
    "    label = 'total',\n",
    ")\n",
    "\n",
    "ax.set_xlabel( r'$M_{\\star}$ ($M_{\\odot}$)', fontsize=22 )\n",
    "ax.set_ylabel( r'$y_{\\rm box}$', fontsize=22 )\n",
    "\n",
    "ax.set_xscale( 'log' )"
   ]
  },
  {
   "cell_type": "markdown",
   "metadata": {},
   "source": [
    "## Metal Budget Plot"
   ]
  },
  {
   "cell_type": "code",
   "execution_count": null,
   "metadata": {},
   "outputs": [],
   "source": [
    "# Get Peeples+14 data\n",
    "m_star = np.logspace( 9., 11.4, 256 )\n",
    "m_halo = 10.**galaxy_trends.smhm_m_halo( np.log10( m_star ), z=redshift )\n",
    "\n",
    "m_z = galaxy_trends.galaxy_metal_mass( \n",
    "    m_star, \n",
    "    z_sun = 0.0153,\n",
    "#     apply_stellar_z_correction = False,\n",
    "    mass_sources = [ 'stars', 'ISM', 'dust' ],\n",
    "    use_powerlaw_median_for_cold_gas = True,\n",
    "    cold_gas_correction_factor = 2.,\n",
    ")\n",
    "m_budget = galaxy_trends.galaxy_available_metals(\n",
    "    m_star,\n",
    "    alpha = 1.,\n",
    "    y = y_boxes.array().mean(),\n",
    ")\n",
    "m_budget_peeples = galaxy_trends.galaxy_available_metals(\n",
    "    m_star,\n",
    ")"
   ]
  },
  {
   "cell_type": "code",
   "execution_count": null,
   "metadata": {},
   "outputs": [],
   "source": [
    "metal_budget_kwargs = {\n",
    "    465: {\n",
    "        'redshift_coords' : ( 0.05, 0.95 ),\n",
    "        'redshift_ha' : 'left',\n",
    "    },\n",
    "    172 : {\n",
    "        'redshift_coords' : ( 0.95, 0.05 ),\n",
    "        'redshift_ha' : 'right',\n",
    "        'redshift_va' : 'bottom',\n",
    "    },\n",
    "    600: {},\n",
    "}"
   ]
  },
  {
   "cell_type": "code",
   "execution_count": null,
   "metadata": {},
   "outputs": [],
   "source": [
    "fig = plt.figure( figsize=(11,6) )\n",
    "ax = plt.gca()\n",
    "\n",
    "if snum == 465:\n",
    "    ax.plot(\n",
    "        m_halo,\n",
    "        m_z['total'][50] / m_budget,\n",
    "        linewidth = 5,\n",
    "        color = colors['m_gal'],\n",
    "        linestyle = '--',\n",
    "        zorder = 300,\n",
    "        label = 'Peeples et al., 2014',\n",
    "    )\n",
    "    \n",
    "    \n",
    "if snum == 465:\n",
    "    l = ax.legend(\n",
    "        prop={'size': 18},\n",
    "        loc = 'upper center',\n",
    "    )\n",
    "    \n",
    "    ax.add_artist( l )    \n",
    "\n",
    "mass_budget_plot(\n",
    "    y_data_type = 'metal_mass',\n",
    "    fig_and_ax = ( fig, ax ),\n",
    "    include_legend = snum == 465,\n",
    "    y_range = [ 3e-2, 2 ],\n",
    "#     enforce_lower_limit = True,\n",
    "#     lower_limit = 6e-2,\n",
    "    hline = 1,\n",
    "#     box_plot = False,\n",
    "    save_file_tag = '_v2',\n",
    "    **metal_budget_kwargs[snum]\n",
    ")"
   ]
  },
  {
   "cell_type": "code",
   "execution_count": null,
   "metadata": {},
   "outputs": [],
   "source": [
    "fig = plt.figure( figsize=(11,6) )\n",
    "ax = plt.gca()\n",
    "\n",
    "if snum == 465:\n",
    "    ax.plot(\n",
    "        m_halo,\n",
    "        m_z['total'][50] / m_budget_peeples,\n",
    "        linewidth = 4,\n",
    "        color = colors['m_gal'],\n",
    "        linestyle = '--',\n",
    "        zorder = 300,\n",
    "        label = 'Peeples et al., 2014',\n",
    "    )\n",
    "    \n",
    "    \n",
    "if snum == 465:\n",
    "    l = ax.legend(\n",
    "        prop={'size': 18},\n",
    "        loc='upper center',\n",
    "    )\n",
    "    \n",
    "    ax.add_artist( l )    \n",
    "\n",
    "mass_budget_plot(\n",
    "    y_data_type = 'metal_mass',\n",
    "    fig_and_ax = ( fig, ax ),\n",
    "    include_legend = snum == 465,\n",
    "    y_range = [ 3e-2, 2 ],\n",
    "    hline = 1,\n",
    "    plot_box_lines_only = True,\n",
    "    **metal_budget_kwargs[snum]\n",
    ")"
   ]
  },
  {
   "cell_type": "code",
   "execution_count": null,
   "metadata": {},
   "outputs": [],
   "source": [
    "# Appendix metal diffusion difference plot\n",
    "mass_budget_plot(\n",
    "    y_data_type = 'metal_mass',\n",
    "    include_legend = snum == 465,\n",
    "    y_range = [ 4e-2, 1.1 ],\n",
    "    box_plot = False,\n",
    "    categories = [ 'm_halo', 'm_cgm' ],\n",
    "    md_split_categories = [ 'm_halo', 'm_cgm' ],\n",
    "    save_file_tag = '_md_comp',\n",
    "    save_in_figure_dir = True,\n",
    "    use_minor_tick_formatter = False,\n",
    "    **metal_budget_kwargs[snum]\n",
    ")"
   ]
  },
  {
   "cell_type": "markdown",
   "metadata": {},
   "source": [
    "#### Appendix Plot"
   ]
  },
  {
   "cell_type": "code",
   "execution_count": null,
   "metadata": {},
   "outputs": [],
   "source": [
    "if snum == 600:\n",
    "\n",
    "    fig = plt.figure( figsize=(11,6) )\n",
    "    ax = plt.gca()   \n",
    "\n",
    "    m_star_f1, m_halo_f1 = galaxy_trends.halo_metal_budget()\n",
    "    ax.scatter(\n",
    "        m_star_f1,\n",
    "        m_halo_f1,\n",
    "        color = palettable.cartocolors.qualitative.Antique_3.mpl_colors[-1],\n",
    "        s = 100,\n",
    "        label = 'FIRE-1 (Ma et al., 2016)',\n",
    "    )\n",
    "\n",
    "    mass_budget_plot(\n",
    "        x_data_type = 'm_star',\n",
    "        y_data_type = 'metal_mass',\n",
    "        fig_and_ax = ( fig, ax ),\n",
    "        include_legend = True,\n",
    "        categories = [ 'm_halo' ],\n",
    "        redshift_coords = (0.5, 0.1 ),\n",
    "        hline = 1,\n",
    "        box_plot = False,\n",
    "        y_range = [ 0.2, 1.2 ],\n",
    "        point_alpha = 1.,\n",
    "        x_label = True,\n",
    "        custom_legend_kwargs = {\n",
    "            'prop' : {'size': 18},\n",
    "            'loc' : 'lower right',\n",
    "            'bbox_to_anchor' : ( 0.98, 0.02 ),\n",
    "        },\n",
    "        overriding_label = 'FIRE-2 (This work)',\n",
    "        save_file_tag = '_comp',\n",
    "        save_in_figure_dir = True,\n",
    "        use_minor_tick_formatter = True,\n",
    "    )"
   ]
  },
  {
   "cell_type": "code",
   "execution_count": null,
   "metadata": {},
   "outputs": [],
   "source": [
    "fig = plt.figure( figsize=(11,6) )\n",
    "ax = plt.gca()\n",
    "\n",
    "# Total\n",
    "# ax.scatter(\n",
    "#     all_results['M']['stars']['m_gal'].array(),\n",
    "#     all_results['M']['gas']['m_halo'].array()/all_results['M']['total']['m_budget_halo'].array(),\n",
    "#     s = 200,\n",
    "#     color = 'k',\n",
    "#     marker = 's',\n",
    "#     label = 'total',\n",
    "# )\n",
    "\n",
    "x_data = all_results['M']['total']['m_vir'].array()\n",
    "\n",
    "# Cold\n",
    "ax.scatter(\n",
    "    x_data,\n",
    "    all_results['M']['gas']['m_cold'].array()/all_results['M']['gas']['m_cgm'].array(),\n",
    "    s = 200,\n",
    "    color = (209./360, 120./360, 106./360),\n",
    "    marker = 'p',\n",
    "    label = r'$T < 10^4$ K',\n",
    ")\n",
    "\n",
    "# Cool\n",
    "ax.scatter(\n",
    "    x_data,\n",
    "    all_results['M']['gas']['m_cool'].array()/all_results['M']['gas']['m_cgm'].array(),\n",
    "    s = 200,\n",
    "    color = (123./360, 73./360, 139./360),\n",
    "    marker = 'D',\n",
    "    label = r'$10^4 < T < 10^{4.7}$ K',\n",
    ")\n",
    "\n",
    "# Warm\n",
    "ax.scatter(\n",
    "    x_data,\n",
    "    all_results['M']['gas']['m_warm'].array()/all_results['M']['gas']['m_cgm'].array(),\n",
    "    s = 200,\n",
    "    color = (109./360, 166./360, 74./360),\n",
    "    marker = 'o',\n",
    "    label = r'$10^{4.7} < T < 10^{5.3}$ K',\n",
    ")\n",
    "\n",
    "# Hot\n",
    "ax.scatter(\n",
    "    x_data,\n",
    "    all_results['M']['gas']['m_hot'].array()/all_results['M']['gas']['m_cgm'].array(),\n",
    "    s = 200,\n",
    "    color = (245./360, 226./360, 82./360),\n",
    "    marker = 's',\n",
    "    label = r'$T > 10^{5.3}$ K',\n",
    ")\n",
    "\n",
    "# # Stars\n",
    "# ax.scatter(\n",
    "#     all_results['M']['stars']['m_gal'].array(),\n",
    "#     all_results['M']['stars']['m_halo'].array()/all_results['M']['total']['m_budget_halo'].array(),\n",
    "#     s = 200,\n",
    "#     color = 'k',\n",
    "#     marker = '*',\n",
    "#     label = 'stars',\n",
    "# )\n",
    "\n",
    "# # Other gas\n",
    "# ax.scatter(\n",
    "#     all_results['M']['stars']['m_gal'].array(),\n",
    "#     ( all_results['M']['gas']['m_gal'] + all_results['M']['gas']['m_interface']).array()/all_results['M']['total']['m_budget_halo'].array(),\n",
    "#     s = 200,\n",
    "#     color = 'k',\n",
    "#     marker = '*',\n",
    "#     label = 'ISM or interface',\n",
    "# )\n",
    "\n",
    "ax.annotate(\n",
    "    s = r'$z=' + '{:.2g}'.format( redshift ) + '$',\n",
    "    xy = (0.5, 0.95),\n",
    "    xycoords = 'axes fraction', \n",
    "    fontsize = 22,\n",
    "    ha = 'center',\n",
    "    va = 'top',\n",
    ")\n",
    "\n",
    "ax.tick_params( which='both', direction='in', right=True, top=True )\n",
    "\n",
    "if snum == 172:\n",
    "    ax.set_xlabel( r'$M_{\\rm h}$ ($M_{\\odot}$)', fontsize=22 )\n",
    "ax.set_ylabel( r'$M_{\\rm phase}$ / $M_{\\rm CGM\\ gas}$', fontsize=22 )\n",
    "\n",
    "if snum == 465:\n",
    "    l = ax.legend(\n",
    "#         bbox_to_anchor = ( 0.5, 1. ),\n",
    "#         ncol = 4,\n",
    "        prop={'size': 18},\n",
    "#         loc = 'lower center',\n",
    "    )\n",
    "\n",
    "ax.set_xlim( 2e9, 2e12 )\n",
    "y_max_mass = 1.0\n",
    "ax.set_ylim( 0.0, y_max_mass )\n",
    "\n",
    "ax.set_xscale( 'log' )\n",
    "# ax.set_yscale( 'log' )\n",
    "\n",
    "save_file = 'phase_cgm_mass_budget_snum{}.pdf'.format( snum )\n",
    "generic_plotting.save_fig(\n",
    "    out_dir = file_manager.get_project_figure_dir(),\n",
    "    save_file = save_file,\n",
    "    fig = fig,\n",
    "#         resolution = 100,\n",
    ")"
   ]
  },
  {
   "cell_type": "code",
   "execution_count": null,
   "metadata": {},
   "outputs": [],
   "source": [
    "total = np.zeros( all_results['M']['gas']['m_cgm'].array().shape )\n",
    "for phase_key in ['cold', 'cool', 'warm', 'hot' ]:\n",
    "    total += all_results['M']['gas']['m_{}'.format( phase_key )].array()/all_results['M']['gas']['m_cgm'].array()"
   ]
  },
  {
   "cell_type": "markdown",
   "metadata": {},
   "source": [
    "### Gas Fractions"
   ]
  },
  {
   "cell_type": "code",
   "execution_count": null,
   "metadata": {},
   "outputs": [],
   "source": [
    "fig = plt.figure(  figsize=(11,6) )\n",
    "ax = plt.gca()\n",
    "\n",
    "x_data = all_results['M']['stars']['m_gal'].array()\n",
    "\n",
    "# Different choices of R_gal\n",
    "for i, cut in enumerate( [ 1.0, 2.0, 3.0, 4.0, 5.0, 6.0 ] ):\n",
    "    \n",
    "    try:\n",
    "        gas_fractions = (\n",
    "            all_results['M']['gas']['dense_{}'.format(cut)] /\n",
    "            all_results['M']['stars']['{}'.format(cut)]\n",
    "        )\n",
    "    except KeyError:\n",
    "        gas_fractions = (\n",
    "            all_results['M']['gas']['dense_{}'.format(cut)] /\n",
    "            all_results['M']['stars'][cut]\n",
    "        )\n",
    "    \n",
    "    ax.scatter(        \n",
    "    x_data,\n",
    "    gas_fractions.array(),\n",
    "    s = 100,\n",
    "    marker = 's',\n",
    "    color = palettable.matplotlib.Plasma_6.mpl_colors[i],\n",
    "    label = r'{}'.format( cut ) + r'$R_{\\star,0.5}$',\n",
    ")\n",
    "\n",
    "# Fiducial\n",
    "gas_fractions = all_results['M']['gas']['m_gal'] / all_results['M']['stars']['m_gal']\n",
    "ax.scatter(\n",
    "    x_data,\n",
    "    gas_fractions.array(),\n",
    "    s = 100,\n",
    "    marker = 's',\n",
    "    color = 'k',\n",
    "    label = r'Fiducial',\n",
    ")\n",
    "\n",
    "m_star_trend, obs_gas_fraction = galaxy_trends.cold_gas_fraction( None, False )    \n",
    "ax.plot(\n",
    "    m_star_trend,\n",
    "    obs_gas_fraction[50],\n",
    "    linewidth = 3\n",
    ")\n",
    "ax.fill_between(\n",
    "    m_star_trend,\n",
    "    obs_gas_fraction[16],\n",
    "    obs_gas_fraction[84],\n",
    "    linewidth = 3,\n",
    "    alpha = 0.25,\n",
    ")\n",
    "\n",
    "\n",
    "ax.set_xscale( 'log' )\n",
    "ax.set_yscale( 'log' )\n",
    "\n",
    "ax.set_xlabel( r'$M_{\\star}$ ($M_{\\odot}$)', fontsize=22 )\n",
    "ax.set_ylabel( r'$M_{\\rm cold\\ gas}$/ $M_{\\star}$', fontsize=22 )\n",
    "\n",
    "ax.set_xlim( 10.**6.4, 10.**11.6 )\n",
    "\n",
    "ax.tick_params( right=True, which='both' )\n",
    "\n",
    "l = ax.legend(\n",
    "#         bbox_to_anchor = ( 0.5, 1. ),\n",
    "        ncol = 4,\n",
    "    prop={'size': 18},\n",
    "#         loc = 'lower center',\n",
    ")\n"
   ]
  },
  {
   "cell_type": "code",
   "execution_count": null,
   "metadata": {},
   "outputs": [],
   "source": [
    "gas_fractions = all_results['M']['gas']['m_gal'] / all_results['M']['stars']['m_gal']"
   ]
  },
  {
   "cell_type": "code",
   "execution_count": null,
   "metadata": {},
   "outputs": [],
   "source": [
    "gas_fraction_m12 = np.median( gas_fractions.split_by_dict( linefinder_config.MASS_BINS )['m12'].array() )\n",
    "gas_fraction_m12"
   ]
  },
  {
   "cell_type": "code",
   "execution_count": null,
   "metadata": {},
   "outputs": [],
   "source": [
    "obs_gas_fraction[50][-3]"
   ]
  },
  {
   "cell_type": "code",
   "execution_count": null,
   "metadata": {},
   "outputs": [],
   "source": [
    "gas_fraction_m12 / obs_gas_fraction[50][-3]"
   ]
  },
  {
   "cell_type": "markdown",
   "metadata": {},
   "source": [
    "## Mass-Metallicity Relation"
   ]
  },
  {
   "cell_type": "markdown",
   "metadata": {},
   "source": [
    "### Stars"
   ]
  },
  {
   "cell_type": "code",
   "execution_count": null,
   "metadata": {},
   "outputs": [],
   "source": [
    "fig = plt.figure( figsize=(10,8), facecolor='white' )\n",
    "ax = plt.gca()\n",
    "\n",
    "x_data = all_results['M']['stars']['m_gal']\n",
    "z_sun = 0.0153\n",
    "y_data = ( all_results['enriched_metal_mass']['stars']['m_gal'] / all_results['M']['stars']['m_gal'] ) / z_sun\n",
    "ax.scatter(\n",
    "    x_data.array(),\n",
    "    y_data.array(),\n",
    "    s = 100,\n",
    "    marker = 's',\n",
    "    color = 'k',\n",
    "    label = r'Fiducial',\n",
    ")\n",
    "\n",
    "m_star = np.logspace( 9., 11.5, 256 )\n",
    "z_star = galaxy_trends.stellar_mass_metallicity_relation( m_star, True )\n",
    "\n",
    "ax.plot(\n",
    "    m_star,\n",
    "    z_star[50],\n",
    "    color = 'k',\n",
    "    linewidth = 3,\n",
    ")\n",
    "\n",
    "for p in [ 16, 84 ]:\n",
    "    ax.plot(\n",
    "        m_star,\n",
    "        z_star[p],\n",
    "        color = 'k',\n",
    "        linewidth = 3,\n",
    "        linestyle = '--',\n",
    "    )\n",
    "\n",
    "ax.set_xscale( 'log' )\n",
    "ax.set_yscale( 'log' )\n",
    "\n",
    "\n",
    "ax.set_xlabel( r'$M_{\\star}$ ($M_{\\odot}$)', fontsize=22 )\n",
    "ax.set_ylabel( r'$Z / Z_\\odot$', fontsize=22 )"
   ]
  },
  {
   "cell_type": "markdown",
   "metadata": {},
   "source": [
    "### Gas"
   ]
  },
  {
   "cell_type": "code",
   "execution_count": null,
   "metadata": {},
   "outputs": [],
   "source": [
    "fig = plt.figure( figsize=(10,8), facecolor='white' )\n",
    "ax = plt.gca()\n",
    "\n",
    "x_data = all_results['M']['stars']['m_gal']\n",
    "z_sun = 0.02\n",
    "y_data = ( all_results['enriched_metal_mass']['gas']['m_gal'] / all_results['M']['gas']['m_gal'] ) / z_sun\n",
    "ax.scatter(\n",
    "    x_data.array(),\n",
    "    y_data.array(),\n",
    "    s = 100,\n",
    "    marker = 's',\n",
    "    color = 'k',\n",
    "    label = r'Fiducial',\n",
    ")\n",
    "\n",
    "m_star = np.logspace( 9., 11.5, 256 )\n",
    "z_sun_obs = 0.0153\n",
    "z_ism = galaxy_trends.ism_mass_metallicity_relation( m_star, 0.0153 ) / z_sun_obs\n",
    "\n",
    "ax.plot(\n",
    "    m_star,\n",
    "    z_ism,\n",
    "    color = 'k',\n",
    "    linewidth = 3,\n",
    ")\n",
    "\n",
    "ax.set_xscale( 'log' )\n",
    "ax.set_yscale( 'log' )\n",
    "\n",
    "\n",
    "ax.set_xlabel( r'$M_{\\star}$ ($M_{\\odot}$)', fontsize=22 )\n",
    "ax.set_ylabel( r'$Z / Z_\\odot$', fontsize=22 )"
   ]
  },
  {
   "cell_type": "code",
   "execution_count": null,
   "metadata": {},
   "outputs": [],
   "source": [
    "med_m12_mstar = np.median( x_data.split_by_dict( linefinder_config.MASS_BINS )['m12'].array() )"
   ]
  },
  {
   "cell_type": "code",
   "execution_count": null,
   "metadata": {},
   "outputs": [],
   "source": [
    "mzr_m12 = np.median( y_data.split_by_dict( linefinder_config.MASS_BINS )['m12'].array() )\n",
    "mzr_m12"
   ]
  },
  {
   "cell_type": "code",
   "execution_count": null,
   "metadata": {},
   "outputs": [],
   "source": [
    "obs_mzr_m12 = z_ism[np.abs(np.log10(m_star) - np.log10( med_m12_mstar ) )<0.001]\n",
    "obs_mzr_m12"
   ]
  },
  {
   "cell_type": "code",
   "execution_count": null,
   "metadata": {},
   "outputs": [],
   "source": [
    "mzr_m12 / obs_mzr_m12"
   ]
  },
  {
   "cell_type": "markdown",
   "metadata": {},
   "source": [
    "### More About Metals in the Galaxy"
   ]
  },
  {
   "cell_type": "code",
   "execution_count": null,
   "metadata": {},
   "outputs": [],
   "source": [
    "fig = plt.figure( figsize=(10,10), facecolor='white' )\n",
    "ax = plt.gca()\n",
    "\n",
    "x_data = all_results['M']['stars']['m_gal']\n",
    "\n",
    "m_star = np.logspace( 9., 11.4, 256 )\n",
    "# m_star = 1e10\n",
    "m_z = galaxy_trends.galaxy_metal_mass( \n",
    "    m_star, \n",
    "    z_sun = 0.0153,\n",
    "    apply_stellar_z_correction = True,\n",
    "    mass_sources = [ 'stars', 'ISM', 'dust' ],\n",
    "    use_powerlaw_median_for_cold_gas = True,\n",
    "    cold_gas_correction_factor = 2.,\n",
    ")\n",
    "\n",
    "metal_colors = {\n",
    "    'total' : 'k',\n",
    "    'stars' : [ 250./360, 0, 0 ],\n",
    "    'ISM' : [ 0, 0, 250./360 ],\n",
    "    'dust' : [ 250/360., 250./360, 0. ],\n",
    "}\n",
    "    \n",
    "# Plot Stellar Metals\n",
    "ax.plot(\n",
    "    np.log10( m_star ),\n",
    "    np.log10( m_z['stars'][50] ),\n",
    "    color = metal_colors['stars'],\n",
    "    linewidth = 3,\n",
    ")\n",
    "stellar_metals = all_results['enriched_metal_mass']['stars']['m_gal']\n",
    "ax.scatter(\n",
    "    x_data.log10().array(),\n",
    "    stellar_metals.log10().array(),\n",
    "    s = 100,\n",
    "    marker = 's',\n",
    "    color = metal_colors['stars'],\n",
    "    label = r'Fiducial',\n",
    ")\n",
    "\n",
    "# Plot stellar plus gas metals\n",
    "ax.plot(\n",
    "    np.log10( m_star ),\n",
    "    np.log10( m_z['ISM'][50] + m_z['dust'][50] ),\n",
    "    color = metal_colors['ISM'],\n",
    "    linewidth = 3,\n",
    ")\n",
    "gas_metals = all_results['enriched_metal_mass']['gas']['m_gal']\n",
    "ax.scatter(\n",
    "    x_data.log10().array(),\n",
    "    gas_metals.log10().array(),\n",
    "    s = 100,\n",
    "    marker = 'o',\n",
    "    color = metal_colors['ISM'],\n",
    "    label = r'Fiducial',\n",
    ")\n",
    "\n",
    "#     for p in [ 16, 84 ]:\n",
    "#         ax.plot(\n",
    "#             np.log10( m_star ),\n",
    "#             np.log10( item[p] ),\n",
    "#             color = metal_colors[key],\n",
    "#             linewidth = 3,\n",
    "#             linestyle = ':',\n",
    "#         )\n",
    "\n",
    "#     ax.fill_between(\n",
    "#         np.log10( m_star ),\n",
    "#         np.log10( item[16] ),\n",
    "#         np.log10( item[84] ),\n",
    "#         color = colors[key],\n",
    "#         alpha = 0.2,\n",
    "#     )\n",
    "    \n",
    "\n",
    "# # Metals available according to digitized Peeples+14\n",
    "# ax.plot(\n",
    "#     np.log10( m_star ),\n",
    "#     np.log10( galaxy_trends.galaxy_available_metals( m_star, ) ),\n",
    "#     linewidth  = 3,\n",
    "#     color = 'k',\n",
    "# )\n",
    "\n",
    "# Limits\n",
    "ax.set_xlim(9.2, 11.6)\n",
    "ax.set_ylim(5.5, 11.)\n",
    "\n",
    "# Setup minor ticks\n",
    "ml_x = matplotlib.ticker.MultipleLocator( 0.1 )\n",
    "ax.xaxis.set_minor_locator( ml_x )\n",
    "ml_y = matplotlib.ticker.MultipleLocator( 0.2 )\n",
    "ax.yaxis.set_minor_locator( ml_y )\n",
    "\n",
    "# Labels\n",
    "ax.set_xlabel( r'$\\log_{10} M_\\star/M_\\odot$', fontsize=26)\n",
    "ax.set_ylabel( r'$\\log_{10} M_{\\rm metals}/M_\\odot$', fontsize=26)\n",
    "\n",
    "ax.tick_params( which='both', direction='in', right=True, top=True )"
   ]
  },
  {
   "cell_type": "markdown",
   "metadata": {},
   "source": [
    "# Analysis"
   ]
  },
  {
   "cell_type": "code",
   "execution_count": null,
   "metadata": {},
   "outputs": [],
   "source": [
    "import os\n",
    "\n",
    "import py2tex.py2tex as py2tex"
   ]
  },
  {
   "cell_type": "code",
   "execution_count": null,
   "metadata": {},
   "outputs": [],
   "source": [
    "tex_filepath = os.path.join( file_manager.project_parameters['project_dir'], 'variables.tex' )"
   ]
  },
  {
   "cell_type": "code",
   "execution_count": null,
   "metadata": {},
   "outputs": [],
   "source": [
    "tex_file = py2tex.TeXVariableFile( tex_filepath )"
   ]
  },
  {
   "cell_type": "code",
   "execution_count": null,
   "metadata": {},
   "outputs": [],
   "source": [
    "# Used for variable names\n",
    "if snum == 465:\n",
    "    regime = 'low'\n",
    "if snum == 172:\n",
    "    regime = 'high'"
   ]
  },
  {
   "cell_type": "markdown",
   "metadata": {},
   "source": [
    "### Check that everything adds up"
   ]
  },
  {
   "cell_type": "code",
   "execution_count": null,
   "metadata": {},
   "outputs": [],
   "source": [
    "def check_masses_add_up( mass_key ):\n",
    "    gal_mass_frac = all_results[mass_key]['total']['m_gal']/all_results[mass_key]['total']['m_halo']\n",
    "\n",
    "    cgm_mass_frac = all_results[mass_key]['total']['m_cgm']/all_results[mass_key]['total']['m_halo']\n",
    "\n",
    "    interface_mass_frac = all_results[mass_key]['total']['m_interface']/all_results[mass_key]['total']['m_halo']\n",
    "\n",
    "    total = gal_mass_frac + cgm_mass_frac + interface_mass_frac\n",
    "\n",
    "    np.testing.assert_allclose( total.array(), np.ones( total.array().size ), rtol=1e-2 )"
   ]
  },
  {
   "cell_type": "code",
   "execution_count": null,
   "metadata": {},
   "outputs": [],
   "source": [
    "check_masses_add_up( 'M' )"
   ]
  },
  {
   "cell_type": "code",
   "execution_count": null,
   "metadata": {},
   "outputs": [],
   "source": [
    "check_masses_add_up( 'enriched_metal_mass' )"
   ]
  },
  {
   "cell_type": "markdown",
   "metadata": {},
   "source": [
    "### Outliers"
   ]
  },
  {
   "cell_type": "markdown",
   "metadata": {},
   "source": [
    "#### Low stellar mass outlier"
   ]
  },
  {
   "cell_type": "code",
   "execution_count": null,
   "metadata": {},
   "outputs": [],
   "source": [
    "if 'm10v' in sim_names:\n",
    "    tex_file.save_variable(\n",
    "        'mtenvmstar{}'.format( regime ),\n",
    "        py2tex.to_tex_scientific_notation( all_results['M']['stars']['m_gal']['m10v'], 1 )\n",
    "    )\n",
    "\n",
    "    m10_met = all_results['enriched_metal_mass']['total']['m_halo']['m10v'] / all_results['enriched_metal_mass']['total']['m_budget_halo']['m10v']\n",
    "    tex_file.save_variable(\n",
    "        'mtenvmz{}'.format( regime ),\n",
    "        '{:.1g}'.format( m10_met ),\n",
    "    )"
   ]
  },
  {
   "cell_type": "markdown",
   "metadata": {},
   "source": [
    "### Peek at the box yields"
   ]
  },
  {
   "cell_type": "code",
   "execution_count": null,
   "metadata": {},
   "outputs": [],
   "source": [
    "tex_file.save_variable(\n",
    "    'ybox{}'.format( regime ),\n",
    "    '{:.2g}'.format( y_boxes.array().mean() ),\n",
    ")"
   ]
  },
  {
   "cell_type": "code",
   "execution_count": null,
   "metadata": {},
   "outputs": [],
   "source": [
    "tex_file.save_variable(\n",
    "    'yboxstd{}'.format( regime ),\n",
    "    '{:.1g}'.format( y_boxes.array().std() ),\n",
    ")"
   ]
  },
  {
   "cell_type": "code",
   "execution_count": null,
   "metadata": {},
   "outputs": [],
   "source": [
    "if 'm10v' in sim_names:\n",
    "    tex_file.save_variable(\n",
    "        'yboxmtenv{}'.format( regime ),\n",
    "        '{:.2g}'.format( y_boxes['m10v'] ),\n",
    "    )"
   ]
  },
  {
   "cell_type": "markdown",
   "metadata": {},
   "source": [
    "### How much mass does the metal floor make up?"
   ]
  },
  {
   "cell_type": "code",
   "execution_count": null,
   "metadata": {},
   "outputs": [],
   "source": [
    "m_floor_frac = all_results['enriched_metal_mass']['total']['m_floor'] / ( all_results['enriched_metal_mass']['total']['m_halo'] + all_results['enriched_metal_mass']['total']['m_floor'] )"
   ]
  },
  {
   "cell_type": "code",
   "execution_count": null,
   "metadata": {},
   "outputs": [],
   "source": [
    "m_floor_frac.keymax()"
   ]
  },
  {
   "cell_type": "code",
   "execution_count": null,
   "metadata": {},
   "outputs": [],
   "source": [
    "tex_file.save_variable(\n",
    "    'floormetalmassmax{}'.format( regime ),\n",
    "    py2tex.to_tex_percentage( m_floor_frac.keymax()[1] ),\n",
    ")"
   ]
  },
  {
   "cell_type": "markdown",
   "metadata": {},
   "source": [
    "### How much mass do stars inside the galaxy-halo interface contribute?"
   ]
  },
  {
   "cell_type": "code",
   "execution_count": null,
   "metadata": {},
   "outputs": [],
   "source": [
    "stellar_mass_in_rcgm = all_results['M']['stars']['m_gal'] + all_results['M']['stars']['m_interface']"
   ]
  },
  {
   "cell_type": "code",
   "execution_count": null,
   "metadata": {},
   "outputs": [],
   "source": [
    "mean_stellar_fraction_in_gap = ( all_results['M']['stars']['m_interface'] / stellar_mass_in_rcgm ).array().mean()"
   ]
  },
  {
   "cell_type": "code",
   "execution_count": null,
   "metadata": {},
   "outputs": [],
   "source": [
    "tex_file.save_variable(\n",
    "    'meanstellarpercentingap{}'.format( regime ),\n",
    "    py2tex.to_tex_percentage( mean_stellar_fraction_in_gap ),\n",
    ")"
   ]
  },
  {
   "cell_type": "code",
   "execution_count": null,
   "metadata": {},
   "outputs": [],
   "source": [
    "mean_stellar_mass_frac_in_gap = ( all_results['M']['stars']['m_interface'] /\n",
    "    ( all_results['M']['stars']['m_interface']\n",
    "    + all_results['M']['gas']['m_interface'] ) ).array().mean()"
   ]
  },
  {
   "cell_type": "code",
   "execution_count": null,
   "metadata": {},
   "outputs": [],
   "source": [
    "tex_file.save_variable(\n",
    "    'meanstellarmasspercentingap{}'.format( regime ),\n",
    "    py2tex.to_tex_percentage( mean_stellar_mass_frac_in_gap ),\n",
    ")"
   ]
  },
  {
   "cell_type": "markdown",
   "metadata": {},
   "source": [
    "### How much dense mass is in the CGM?"
   ]
  },
  {
   "cell_type": "code",
   "execution_count": null,
   "metadata": {},
   "outputs": [],
   "source": [
    "med_dense_CGM_mass = np.median( ( all_results['M']['gas']['m_dense_cgm'] / all_results['M']['gas']['m_cgm'] ).array() )"
   ]
  },
  {
   "cell_type": "code",
   "execution_count": null,
   "metadata": {},
   "outputs": [],
   "source": [
    "( all_results['M']['gas']['m_dense_cgm'] / all_results['M']['gas']['m_cgm'] )"
   ]
  },
  {
   "cell_type": "code",
   "execution_count": null,
   "metadata": {},
   "outputs": [],
   "source": [
    "tex_file.save_variable(\n",
    "    'meddenseCGMmass{}'.format( regime ),\n",
    "    py2tex.to_tex_percentage( med_dense_CGM_mass ),\n",
    ")"
   ]
  },
  {
   "cell_type": "markdown",
   "metadata": {},
   "source": [
    "### How much dense mass is in the galaxy-halo interface?"
   ]
  },
  {
   "cell_type": "code",
   "execution_count": null,
   "metadata": {},
   "outputs": [],
   "source": [
    "dense_fraction = all_results['M']['gas']['m_dense_interface'] / all_results['M']['gas']['m_interface']"
   ]
  },
  {
   "cell_type": "code",
   "execution_count": null,
   "metadata": {},
   "outputs": [],
   "source": [
    "tex_file.save_variable(\n",
    "    'meddenseinterfacemass{}'.format( regime ),\n",
    "    py2tex.to_tex_percentage( np.median( dense_fraction.array() ) ),\n",
    ")"
   ]
  },
  {
   "cell_type": "code",
   "execution_count": null,
   "metadata": {},
   "outputs": [],
   "source": [
    "tex_file.save_variable(\n",
    "    'maxdenseinterfacemass{}'.format( regime ),\n",
    "    py2tex.to_tex_percentage( dense_fraction.keymax()[1] ),\n",
    ")"
   ]
  },
  {
   "cell_type": "code",
   "execution_count": null,
   "metadata": {},
   "outputs": [],
   "source": [
    "dense_frac_max_radius_ratio = ( all_results['R']['r_gal'] / ( 0.1 * all_results['R']['r_vir'] ) )[dense_fraction.keymax()[0]]"
   ]
  },
  {
   "cell_type": "code",
   "execution_count": null,
   "metadata": {},
   "outputs": [],
   "source": [
    "tex_file.save_variable(\n",
    "    'maxdenseinterfaceradiusratio{}'.format( regime ),\n",
    "    py2tex.to_tex_percentage( dense_frac_max_radius_ratio ),\n",
    ")"
   ]
  },
  {
   "cell_type": "markdown",
   "metadata": {},
   "source": [
    "### How many split particles are in the CGM?"
   ]
  },
  {
   "cell_type": "code",
   "execution_count": null,
   "metadata": {},
   "outputs": [],
   "source": [
    "n_split_particles = (\n",
    "    all_results['M']['gas']['n_particles_cgm'] -\n",
    "    all_results['M']['gas']['n_unique_particles_cgm']\n",
    ")\n",
    "# To account for the fact that particles split in pairs\n",
    "n_split_particles *= 2.\n",
    "fraction_split = n_split_particles / all_results['M']['gas']['n_particles_cgm']\n",
    "fraction_split"
   ]
  },
  {
   "cell_type": "code",
   "execution_count": null,
   "metadata": {},
   "outputs": [],
   "source": [
    "tex_file.save_variable(\n",
    "    'maxpercentsplitCGM{}'.format( regime ),\n",
    "    '{:.1g}'.format( fraction_split.array().max()*100, ),\n",
    ")"
   ]
  },
  {
   "cell_type": "markdown",
   "metadata": {},
   "source": [
    "### What is the mass and metal mass for simulations with/without metal diffusion?"
   ]
  },
  {
   "cell_type": "code",
   "execution_count": null,
   "metadata": {},
   "outputs": [],
   "source": [
    "def split_md( dict_to_split ):\n",
    "    \n",
    "    results = {\n",
    "        'md' : verdict.Dict( {} ),\n",
    "        'core' : verdict.Dict( {} ),\n",
    "    }\n",
    "    for key, item in dict_to_split.items():\n",
    "        \n",
    "        if key[-3:] == '_md':\n",
    "            results['md'][key] = item\n",
    "        else:\n",
    "            results['core'][key] = item\n",
    "    \n",
    "    return results            "
   ]
  },
  {
   "cell_type": "code",
   "execution_count": null,
   "metadata": {},
   "outputs": [],
   "source": [
    "m12s = all_results['M']['stars']['m_gal'].split_by_dict( \n",
    "    linefinder_config.MASS_BINS\n",
    ")['m12']"
   ]
  },
  {
   "cell_type": "code",
   "execution_count": null,
   "metadata": {},
   "outputs": [],
   "source": [
    "for physics_type in [ 'core', 'md' ]:\n",
    "    tex_file.save_variable(\n",
    "        'meanmstar{}MW{}'.format( physics_type, regime ),\n",
    "        py2tex.to_tex_scientific_notation( split_md( m12s )[physics_type].array().mean(), 1 ),\n",
    "    )"
   ]
  },
  {
   "cell_type": "code",
   "execution_count": null,
   "metadata": {},
   "outputs": [],
   "source": [
    "m12s_halo = all_results['M']['total']['m_vir'].split_by_dict( \n",
    "    linefinder_config.MASS_BINS\n",
    ")['m12']"
   ]
  },
  {
   "cell_type": "code",
   "execution_count": null,
   "metadata": {},
   "outputs": [],
   "source": [
    "for physics_type in [ 'core', 'md' ]:\n",
    "    tex_file.save_variable(\n",
    "        'meanmh{}MW{}'.format( physics_type, regime ),\n",
    "        py2tex.to_tex_scientific_notation( split_md( m12s_halo )[physics_type].array().mean(), 1 ),\n",
    "    )"
   ]
  },
  {
   "cell_type": "markdown",
   "metadata": {},
   "source": [
    "### Look at masses in different bins"
   ]
  },
  {
   "cell_type": "markdown",
   "metadata": {},
   "source": [
    "#### Stellar Masses"
   ]
  },
  {
   "cell_type": "code",
   "execution_count": null,
   "metadata": {},
   "outputs": [],
   "source": [
    "sub_stellar = all_results['M']['stars']['m_gal'].split_by_dict( linefinder_config.MASS_BINS )"
   ]
  },
  {
   "cell_type": "code",
   "execution_count": null,
   "metadata": {},
   "outputs": [],
   "source": [
    "for key, item in sub_stellar.items():\n",
    "    print( item.log10().array().mean() )"
   ]
  },
  {
   "cell_type": "markdown",
   "metadata": {},
   "source": [
    "#### Mass budget"
   ]
  },
  {
   "cell_type": "code",
   "execution_count": null,
   "metadata": {},
   "outputs": [],
   "source": [
    "mass_budget = all_results['M']['total']['m_budget_halo'].split_by_dict( linefinder_config.MASS_BINS )"
   ]
  },
  {
   "cell_type": "markdown",
   "metadata": {},
   "source": [
    "#### Total Mass"
   ]
  },
  {
   "cell_type": "code",
   "execution_count": null,
   "metadata": {},
   "outputs": [],
   "source": [
    "total_mass = all_results['M']['total']['m_halo'].split_by_dict( linefinder_config.MASS_BINS )"
   ]
  },
  {
   "cell_type": "code",
   "execution_count": null,
   "metadata": {},
   "outputs": [],
   "source": [
    "for mass_bin, name in zip( [ 'm10', 'm11', 'm12' ], ['dwarf', 'subMW', 'MW' ] ):\n",
    "    tex_file.save_variable(\n",
    "        'fbaryon{}mean{}'.format( name, regime ),\n",
    "        '{:.1g}'.format( ( total_mass[mass_bin] / mass_budget[mass_bin] ).array().mean() ),\n",
    "    )"
   ]
  },
  {
   "cell_type": "markdown",
   "metadata": {},
   "source": [
    "#### Mass in different categories"
   ]
  },
  {
   "cell_type": "code",
   "execution_count": null,
   "metadata": {},
   "outputs": [],
   "source": [
    "for mass_category, mass_category_name in zip( ['m_cgm', 'm_gal', 'm_interface' ], [ 'CGM', 'galaxy', 'interface'] ):\n",
    "\n",
    "    category_ptype = category_ptypes[mass_category]\n",
    "    \n",
    "    mass = all_results['M'][category_ptype][mass_category].split_by_dict( linefinder_config.MASS_BINS )\n",
    "\n",
    "    for mass_bin, name in zip( [ 'm10', 'm11', 'm12' ], ['dwarf', 'subMW', 'MW' ] ):\n",
    "\n",
    "        value = mass[mass_bin].array().mean()\n",
    "        tex_file.save_variable(\n",
    "            'totmass{}{}mean{}'.format( mass_category_name, name, regime ),\n",
    "            py2tex.to_tex_scientific_notation( value ),\n",
    "        )    \n",
    "\n",
    "        value = ( mass[mass_bin] / total_mass[mass_bin] ).array().mean()\n",
    "        tex_file.save_variable(\n",
    "            'f{}{}mean{}'.format( mass_category_name, name, regime ),\n",
    "            py2tex.to_tex_percentage( value, 5, False, nearest_base=True ),\n",
    "        )"
   ]
  },
  {
   "cell_type": "code",
   "execution_count": null,
   "metadata": {},
   "outputs": [],
   "source": [
    "# What is the median mass contributed by the interface?\n",
    "med_interface = np.median( (\n",
    "        all_results['M']['gas']['m_interface'] / all_results['M']['total']['m_halo']\n",
    "    ).array() )\n",
    "\n",
    "tex_file.save_variable(\n",
    "    'finterfacemedian{}'.format( regime ),\n",
    "    py2tex.to_tex_percentage( value, 5, True, nearest_base=True ),\n",
    ")"
   ]
  },
  {
   "cell_type": "markdown",
   "metadata": {},
   "source": [
    "### Look at metal masses in different bins"
   ]
  },
  {
   "cell_type": "markdown",
   "metadata": {},
   "source": [
    "#### Mass budget"
   ]
  },
  {
   "cell_type": "code",
   "execution_count": null,
   "metadata": {},
   "outputs": [],
   "source": [
    "mass_budget = all_results['enriched_metal_mass']['total']['m_budget_halo'].split_by_dict( linefinder_config.MASS_BINS )"
   ]
  },
  {
   "cell_type": "markdown",
   "metadata": {},
   "source": [
    "#### Total Mass"
   ]
  },
  {
   "cell_type": "code",
   "execution_count": null,
   "metadata": {},
   "outputs": [],
   "source": [
    "total_mass = all_results['enriched_metal_mass']['total']['m_halo'].split_by_dict( linefinder_config.MASS_BINS )"
   ]
  },
  {
   "cell_type": "code",
   "execution_count": null,
   "metadata": {},
   "outputs": [],
   "source": [
    "for mass_bin, name in zip( [ 'm10', 'm11', 'm12' ], ['dwarf', 'subMW', 'MW' ] ):\n",
    "    tex_file.save_variable(\n",
    "        'fmetal{}mean{}'.format( name, regime ),\n",
    "        '{:.1g}'.format( ( total_mass[mass_bin] / mass_budget[mass_bin] ).array().mean() ),\n",
    "    )"
   ]
  },
  {
   "cell_type": "markdown",
   "metadata": {},
   "source": [
    "#### Mass in different categories"
   ]
  },
  {
   "cell_type": "code",
   "execution_count": null,
   "metadata": {},
   "outputs": [],
   "source": [
    "for mass_category, mass_category_name in zip( ['m_cgm', 'm_gal', 'm_interface' ], [ 'CGM', 'galaxy', 'interface'] ):\n",
    "\n",
    "    category_ptype = category_ptypes[mass_category]\n",
    "    \n",
    "    mass = all_results['enriched_metal_mass'][category_ptype][mass_category].split_by_dict( linefinder_config.MASS_BINS )\n",
    "\n",
    "    for mass_bin, name in zip( [ 'm10', 'm11', 'm12' ], ['dwarf', 'subMW', 'MW' ] ):\n",
    "\n",
    "        value = mass[mass_bin].array().mean()\n",
    "        tex_file.save_variable(\n",
    "            'totmetmass{}{}mean{}'.format( mass_category_name, name, regime ),\n",
    "            py2tex.to_tex_scientific_notation( value ),\n",
    "        )    \n",
    "\n",
    "        value = ( mass[mass_bin] / total_mass[mass_bin] ).array().mean()\n",
    "        tex_file.save_variable(\n",
    "            'fmet{}{}mean{}'.format( mass_category_name, name, regime ),\n",
    "            py2tex.to_tex_percentage( value, 5, False, nearest_base=True ),\n",
    "        )"
   ]
  },
  {
   "cell_type": "markdown",
   "metadata": {},
   "source": [
    "## Comparison to Peeples+14 Metal Mass"
   ]
  },
  {
   "cell_type": "code",
   "execution_count": null,
   "metadata": {},
   "outputs": [],
   "source": [
    "med_m12_mstar = np.median( x_data.split_by_dict( linefinder_config.MASS_BINS )['m12'].array() )"
   ]
  },
  {
   "cell_type": "markdown",
   "metadata": {},
   "source": [
    "#### How do our fractions of metals retained compare to Peeples?"
   ]
  },
  {
   "cell_type": "code",
   "execution_count": null,
   "metadata": {},
   "outputs": [],
   "source": [
    "if snum == 465:\n",
    "    met_budget = all_results['enriched_metal_mass']['total']['m_gal'] / all_results['enriched_metal_mass']['total']['m_budget_halo']\n",
    "\n",
    "    met_budget_m12 = np.median( met_budget.split_by_dict( linefinder_config.MASS_BINS )['m12'].array() )\n",
    "    met_budget_m12\n",
    "\n",
    "    met_budget_m12_p14 = (m_z['total'][50] / m_budget_peeples)[np.abs(np.log10(m_halo)-12)<0.005][0]\n",
    "    met_budget_m12_p14\n",
    "\n",
    "    tex_file.save_variable(\n",
    "        'fretdivfretPeeples',\n",
    "        '{:.2g}'.format( met_budget_m12 / met_budget_m12_p14 ),\n",
    "    )"
   ]
  },
  {
   "cell_type": "markdown",
   "metadata": {},
   "source": [
    "### Reasons for Differences with Peeples+14\n",
    "1. Yields + IMF (Kroupa vs Chabrier) (~1.9)\n",
    "3. Feedback\n",
    "4. Stellar light correction factor (~1.2)\n",
    "5. Solar metallicity assumption (~1.3)\n",
    "6. Gas fractions (~negligible: our median gas fraction is higher by ~1.25 but we overestimate the observed metal masses by similar amounts)"
   ]
  },
  {
   "cell_type": "markdown",
   "metadata": {},
   "source": [
    "#### Metal Budget Differences"
   ]
  },
  {
   "cell_type": "code",
   "execution_count": null,
   "metadata": {},
   "outputs": [],
   "source": [
    "budget_difference =  ( 0.36 * 1e11 ) / ( 0.48 * 1e11**1.014 )\n",
    "budget_difference"
   ]
  },
  {
   "cell_type": "code",
   "execution_count": null,
   "metadata": {},
   "outputs": [],
   "source": [
    "if snum == 465:\n",
    "    tex_file.save_variable(\n",
    "        'metbudgdivmetbudgPeeples',\n",
    "        '{:.2g}'.format( budget_difference ),\n",
    "    )"
   ]
  },
  {
   "cell_type": "markdown",
   "metadata": {},
   "source": [
    "#### Metal Mass Differences"
   ]
  },
  {
   "cell_type": "markdown",
   "metadata": {},
   "source": [
    "##### Total Differences"
   ]
  },
  {
   "cell_type": "code",
   "execution_count": null,
   "metadata": {},
   "outputs": [],
   "source": [
    "if snum == 465:\n",
    "\n",
    "    metal_masses = all_results['enriched_metal_mass']['total']['m_gal']\n",
    "\n",
    "    med_met_m12 = np.median( metal_masses.split_by_dict( linefinder_config.MASS_BINS )['m12'].array() )\n",
    "\n",
    "    obs_met_m12 = m_z['total'][50][np.abs(np.log10(m_star) - np.log10(med_m12_mstar) )< 0.001][0]\n",
    "\n",
    "    tex_file.save_variable(\n",
    "        'metmassdivmetmassPeeples',\n",
    "        '{:.2g}'.format( med_met_m12 / obs_met_m12 ),\n",
    "    )"
   ]
  },
  {
   "cell_type": "markdown",
   "metadata": {},
   "source": [
    "##### Individual Categories"
   ]
  },
  {
   "cell_type": "code",
   "execution_count": null,
   "metadata": {},
   "outputs": [],
   "source": [
    "met_star_m12 = np.median( stellar_metals.split_by_dict( linefinder_config.MASS_BINS )['m12'].array() )\n",
    "met_star_m12"
   ]
  },
  {
   "cell_type": "code",
   "execution_count": null,
   "metadata": {},
   "outputs": [],
   "source": [
    "obs_met_star_m12 = m_z['stars'][50][np.abs(np.log10(m_star) - np.log10(med_m12_mstar) )< 0.001]\n",
    "obs_met_star_m12"
   ]
  },
  {
   "cell_type": "code",
   "execution_count": null,
   "metadata": {},
   "outputs": [],
   "source": [
    "met_star_m12 / obs_met_star_m12"
   ]
  },
  {
   "cell_type": "code",
   "execution_count": null,
   "metadata": {},
   "outputs": [],
   "source": [
    "met_gas_m12 = np.median( gas_metals.split_by_dict( linefinder_config.MASS_BINS )['m12'].array() )\n",
    "met_gas_m12"
   ]
  },
  {
   "cell_type": "code",
   "execution_count": null,
   "metadata": {},
   "outputs": [],
   "source": [
    "obs_met_gas_m12 = ( m_z['ISM'][50] + m_z['dust'][50] )[np.abs(np.log10(m_star) - np.log10(med_m12_mstar) )< 0.001]\n",
    "obs_met_gas_m12"
   ]
  },
  {
   "cell_type": "code",
   "execution_count": null,
   "metadata": {},
   "outputs": [],
   "source": [
    "met_gas_m12 / obs_met_gas_m12"
   ]
  },
  {
   "cell_type": "markdown",
   "metadata": {},
   "source": [
    "#### Stellar MZR Differences"
   ]
  },
  {
   "cell_type": "code",
   "execution_count": null,
   "metadata": {},
   "outputs": [],
   "source": [
    "z_star_corrected = galaxy_trends.stellar_mass_metallicity_relation( med_m12_mstar, True )\n",
    "z_star_uncorrected = galaxy_trends.stellar_mass_metallicity_relation( med_m12_mstar, False )"
   ]
  },
  {
   "cell_type": "code",
   "execution_count": null,
   "metadata": {},
   "outputs": [],
   "source": [
    "if snum == 465:\n",
    "    tex_file.save_variable(\n",
    "        'zstardivzstarcorrected',\n",
    "        '{:.2g}'.format( ( z_star_uncorrected/z_star_corrected )[50] ),\n",
    "    )"
   ]
  },
  {
   "cell_type": "code",
   "execution_count": null,
   "metadata": {},
   "outputs": [],
   "source": [
    "0.02/ 0.0153"
   ]
  },
  {
   "cell_type": "code",
   "execution_count": null,
   "metadata": {},
   "outputs": [],
   "source": [
    "mzr_m12 = np.median( y_data.split_by_dict( linefinder_config.MASS_BINS )['m12'].array() )\n",
    "mzr_m12"
   ]
  },
  {
   "cell_type": "code",
   "execution_count": null,
   "metadata": {},
   "outputs": [],
   "source": [
    "obs_mzr_m12 = z_star[50][np.abs(np.log10(m_star) - np.log10( med_m12_mstar ) )<0.001]\n",
    "obs_mzr_m12"
   ]
  },
  {
   "cell_type": "code",
   "execution_count": null,
   "metadata": {},
   "outputs": [],
   "source": [
    "mzr_m12 / obs_mzr_m12"
   ]
  },
  {
   "cell_type": "code",
   "execution_count": null,
   "metadata": {},
   "outputs": [],
   "source": [
    "1.3 * 1.2 / 0.5"
   ]
  },
  {
   "cell_type": "markdown",
   "metadata": {},
   "source": [
    "$M_{Z,F} \\approx 1.6 M_{Z,P14}$\n",
    "\n",
    "$M_{B,F} \\approx 0.5 M_{B,P14}$\n",
    "\n",
    "Therefore, $\\frac{M_{Z,F} }{ M_{B,F} } \\approx 3 \\frac{M_{Z,P14} }{ M_{B,P14} }$"
   ]
  },
  {
   "cell_type": "markdown",
   "metadata": {},
   "source": [
    "Another way of thinking about this is that $M_{\\rm Z} = f_{\\rm retained} M_{\\rm B}$.\n",
    "Therefore $f_{\\rm retained, F} \\approx 3 f_{\\rm retained, P14}$.\n",
    "Even if we have the budget wrong, if metals act as tracer particles you might expect that $f_{\\rm retained}$ should be similar.\n",
    "If so we're retaining or reaccreting ~3 times as many metals as observations imply.\n",
    "Since metals do affect the physics of feedback and recycling this won't necessarily be the case.\n",
    "Higher metal yields could mean that gas cools more easily and stays in the galaxy, increasing $f_{\\rm retained}$.\n",
    "Or cooling could lead to more star formation and more vigorous feedback, decreasing $f_{\\rm retained}$.\n",
    "$f_{\\rm retained, P14}$ is approximately flat with increasing stellar mass, consistent with constant $f_{\\rm retained}$ for different mass budgets.\n",
    "However, we find an increasing $f_{\\rm retained}$ as $M_{\\rm B}$ increases."
   ]
  },
  {
   "cell_type": "markdown",
   "metadata": {},
   "source": [
    "Issues this brings up:\n",
    "1. We claim our metallicities match observations.\n",
    "But in the case of stars that's because we use a different metallicity in comparison, and also because we don't correct for single-band luminosities.\n",
    "2. If we agree with the newer yields used by P14, then why aren't we using them in our simulations?\n",
    "3. Is our (rather vigorous) feedback really too weak?"
   ]
  },
  {
   "cell_type": "markdown",
   "metadata": {},
   "source": [
    "# Look at Different Choices of Galaxy Cut"
   ]
  },
  {
   "cell_type": "code",
   "execution_count": null,
   "metadata": {},
   "outputs": [],
   "source": [
    "fig = plt.figure( figsize=(11,6) )\n",
    "ax = plt.gca()\n",
    "\n",
    "# Galaxy\n",
    "for i, cut in enumerate( np.arange(1., 7., 1. ) ):\n",
    "    \n",
    "    try:\n",
    "        y_values = (\n",
    "            all_results['M']['stars'][str(cut)] /\n",
    "            all_results['M']['stars']['m_halo']\n",
    "        ).array()\n",
    "    except KeyError:\n",
    "        y_values = (\n",
    "            all_results['M']['stars'][cut] /\n",
    "            all_results['M']['stars']['m_halo']\n",
    "        ).array()\n",
    "\n",
    "    \n",
    "    ax.scatter(\n",
    "        all_results['M']['stars']['m_halo'].array(),\n",
    "        y_values,\n",
    "        s = 100,\n",
    "        marker = 's',\n",
    "        color = palettable.matplotlib.Plasma_6.mpl_colors[i],\n",
    "        label = cut,\n",
    "        zorder = -10 - i,\n",
    "    )\n",
    "\n",
    "ax.annotate(\n",
    "    s = r'$z=' + '{:.2g}'.format( redshift ) + '$',\n",
    "    xy = (0., 1.0225),\n",
    "    xycoords = 'axes fraction', \n",
    "    fontsize = 22,\n",
    ")\n",
    "\n",
    "ax.set_xlabel( r'$M_{\\star}$ ($M_{\\odot}$)', fontsize=22 )\n",
    "ax.set_ylabel( r'$M_\\star(< f R_{\\star,0.5})$ / $M_{\\rm \\star,halo}$', fontsize=22 )\n",
    "\n",
    "ax.legend(\n",
    "    prop = {'size': 18},\n",
    "    ncol = 3,\n",
    ")\n",
    "\n",
    "y_max_mass = 1.0\n",
    "# ax.set_ylim( 0.0, y_max_mass )\n",
    "\n",
    "ax.set_xscale( 'log' )\n",
    "# ax.set_yscale( 'log' )\n",
    "\n",
    "# Make sure we plot all data\n",
    "assert ( all_results['M']['total']['m_halo'] / all_results['M']['total']['m_budget_halo'] ).array().max() < y_max_mass\n",
    "\n",
    "save_file = 'rstar_cut_sensitivity_snum{}.pdf'.format( snum )\n",
    "generic_plotting.save_fig(\n",
    "    out_dir = cp_file_manager.get_project_figure_dir(),\n",
    "    save_file = save_file,\n",
    "    fig = fig,\n",
    "#         resolution = 100,\n",
    ")"
   ]
  },
  {
   "cell_type": "markdown",
   "metadata": {},
   "source": [
    "# Check Galaxy Sizes"
   ]
  },
  {
   "cell_type": "code",
   "execution_count": null,
   "metadata": {},
   "outputs": [],
   "source": [
    "fig = plt.figure( figsize=(11,6) )\n",
    "ax = plt.gca()\n",
    "\n",
    "# R_gal\n",
    "ratio = ( all_results['R']['r_gal'] / all_results['R']['r_vir'] ).array()\n",
    "ax.scatter(\n",
    "    all_results['R']['r_vir'].array(),\n",
    "    ratio,\n",
    "    s = 100,\n",
    "    color = qual_colormaps.DARK2[1],\n",
    "    marker = 'D',\n",
    "    label = r'$R_{\\rm gal}$',\n",
    ")\n",
    "\n",
    "# Inner CGM boundary\n",
    "r_cgm_inner = ratio * ( 1. + linefinder_config.F_GAP )\n",
    "less_than = r_cgm_inner < linefinder_config.INNER_CGM_BOUNDARY\n",
    "r_cgm_inner[less_than] = linefinder_config.INNER_CGM_BOUNDARY\n",
    "# R_CGM, inner\n",
    "ax.scatter(\n",
    "    all_results['R']['r_vir'].array(),\n",
    "    r_cgm_inner,\n",
    "    s = 100,\n",
    "    color = qual_colormaps.DARK2[0],\n",
    "    marker = 'o',\n",
    "    label = r'$R_{\\rm CGM,inner}$',\n",
    ")\n",
    "\n",
    "ax.annotate(\n",
    "    s = r'$z=' + '{:.2g}'.format( redshift ) + '$',\n",
    "    xy = (0.5, 0.99),\n",
    "    xycoords = 'axes fraction', \n",
    "    fontsize = 22,\n",
    "    ha = 'center',\n",
    "    va = 'top',\n",
    ")\n",
    "\n",
    "# Draw a horizontal line at 1\n",
    "trans = transforms.blended_transform_factory( ax.transAxes, ax.transData )\n",
    "ax.plot(\n",
    "    [ 0, 1 ],\n",
    "    [ 1, 1, ],\n",
    "    linewidth = 5,\n",
    "    linestyle = '--',\n",
    "    transform = trans,\n",
    "    color = 'grey',\n",
    "    zorder = -100,\n",
    ")\n",
    "\n",
    "# Draw a horizontal line at 0.1\n",
    "trans = transforms.blended_transform_factory( ax.transAxes, ax.transData )\n",
    "ax.plot(\n",
    "    [ 0, 1 ],\n",
    "    [ 0.1, 0.1, ],\n",
    "    linewidth = 5,\n",
    "    linestyle = '--',\n",
    "    transform = trans,\n",
    "    color = 'grey',\n",
    "    zorder = -100,\n",
    ")\n",
    "\n",
    "if snum == 172:\n",
    "    ax.legend(\n",
    "        prop={'size': 18},\n",
    "    )\n",
    "\n",
    "\n",
    "ax.set_xlabel( r'$R_{\\rm vir}$ (pkpc)', fontsize=22 )\n",
    "ax.set_ylabel( r'$R/R_{\\rm vir}$', fontsize=22 )\n",
    "\n",
    "ax.set_xlim(\n",
    "    0,\n",
    "    all_results['R']['r_vir'].array().max() * 1.05,\n",
    ")\n",
    "ax.set_ylim(\n",
    "    0,\n",
    "    r_cgm_inner.max() * 1.05,\n",
    ")\n",
    "\n",
    "save_file = 'rgal_vs_rvir_snum{}.pdf'.format( snum )\n",
    "generic_plotting.save_fig(\n",
    "    out_dir = cp_file_manager.get_project_figure_dir(),\n",
    "    save_file = save_file,\n",
    "    fig = fig,\n",
    "#         resolution = 100,\n",
    ")"
   ]
  },
  {
   "cell_type": "markdown",
   "metadata": {},
   "source": [
    "# Virial Temperature"
   ]
  },
  {
   "cell_type": "code",
   "execution_count": null,
   "metadata": {},
   "outputs": [],
   "source": [
    "import unyt"
   ]
  },
  {
   "cell_type": "code",
   "execution_count": null,
   "metadata": {},
   "outputs": [],
   "source": [
    "m_vir = all_results['M']['total']['m_vir'] * unyt.mass_sun\n",
    "r_vir = all_results['R']['r_vir'] * unyt.kpc"
   ]
  },
  {
   "cell_type": "code",
   "execution_count": null,
   "metadata": {},
   "outputs": [],
   "source": [
    "T_vir = (2./5.) * ( m_vir * unyt.mass_hydrogen * unyt.G ) / ( r_vir * unyt.kb )"
   ]
  },
  {
   "cell_type": "code",
   "execution_count": null,
   "metadata": {},
   "outputs": [],
   "source": [
    "t_vir_split = verdict.Dict( T_vir.to( 'K' ).split_by_dict( linefinder_config.MASS_BINS ) )\n",
    "for key, item in t_vir_split.items():\n",
    "    print( key, np.median( item.mean().log10().array() ) )\n"
   ]
  },
  {
   "cell_type": "code",
   "execution_count": null,
   "metadata": {},
   "outputs": [],
   "source": [
    "all_results['M']['total']['m_vir'].log10()"
   ]
  },
  {
   "cell_type": "code",
   "execution_count": null,
   "metadata": {},
   "outputs": [],
   "source": [
    "T_vir.to( 'K' ).log10()['m10y']"
   ]
  },
  {
   "cell_type": "markdown",
   "metadata": {},
   "source": [
    "#### Outliers"
   ]
  },
  {
   "cell_type": "code",
   "execution_count": null,
   "metadata": {},
   "outputs": [],
   "source": [
    "max_outlier = ( all_results['R']['r_gal'] / all_results['R']['r_vir'] ).keymax()"
   ]
  },
  {
   "cell_type": "code",
   "execution_count": null,
   "metadata": {},
   "outputs": [],
   "source": [
    "tex_file.save_variable(\n",
    "    'rgalrviroutliername{}'.format( regime ),\n",
    "    max_outlier[0],\n",
    ")"
   ]
  },
  {
   "cell_type": "code",
   "execution_count": null,
   "metadata": {},
   "outputs": [],
   "source": [
    "tex_file.save_variable(\n",
    "    'rgalrviroutliervalue{}'.format( regime ),\n",
    "    '{:.2g}'.format( max_outlier[1] ),\n",
    ")"
   ]
  },
  {
   "cell_type": "code",
   "execution_count": null,
   "metadata": {},
   "outputs": [],
   "source": [
    "( all_results['R']['r_gal'] / all_results['R']['r_vir'] ) * 1.2"
   ]
  },
  {
   "cell_type": "markdown",
   "metadata": {},
   "source": [
    "# Print Actual Values\n",
    "Especially useful at $z=0$ so I can read them into my simulation table."
   ]
  },
  {
   "cell_type": "code",
   "execution_count": null,
   "metadata": {},
   "outputs": [],
   "source": [
    "def pretty_print( s_d ):\n",
    "    \n",
    "    for key, item in s_d.items():\n",
    "        \n",
    "#         if key not in [ 'm11i_md', 'm11e_md', 'm11h_md', 'm11d_md' ]:\n",
    "#             continue\n",
    "        \n",
    "        print '{} = {:.2g}'.format( key, item )"
   ]
  },
  {
   "cell_type": "code",
   "execution_count": null,
   "metadata": {},
   "outputs": [],
   "source": [
    "pretty_print( all_results['M']['stars']['m_gal'] )"
   ]
  },
  {
   "cell_type": "code",
   "execution_count": null,
   "metadata": {},
   "outputs": [],
   "source": [
    "pretty_print( all_results['M']['total']['m_vir'] )"
   ]
  },
  {
   "cell_type": "code",
   "execution_count": null,
   "metadata": {},
   "outputs": [],
   "source": [
    "pretty_print( all_results['R']['r_vir'] )"
   ]
  },
  {
   "cell_type": "markdown",
   "metadata": {},
   "source": [
    "# Misc"
   ]
  },
  {
   "cell_type": "code",
   "execution_count": 49,
   "metadata": {},
   "outputs": [],
   "source": [
    "import galaxy_dive.plot_data.generic_plotter as generic_plotter"
   ]
  },
  {
   "cell_type": "code",
   "execution_count": 50,
   "metadata": {},
   "outputs": [],
   "source": [
    "s_plotter = generic_plotter.GenericPlotter( s_data )"
   ]
  },
  {
   "cell_type": "code",
   "execution_count": 52,
   "metadata": {},
   "outputs": [
    {
     "data": {
      "image/png": "[encoded data removed]",
      "text/plain": [
       "<matplotlib.figure.Figure at 0x2b11a10914d0>"
      ]
     },
     "metadata": {},
     "output_type": "display_data"
    }
   ],
   "source": [
    "s_plotter.histogram2d(\n",
    "    'Rx',\n",
    "    'Ry',\n",
    "    x_range = [ -30, 30 ],\n",
    "    y_range = [ -30, 30 ],\n",
    ")"
   ]
  },
  {
   "cell_type": "code",
   "execution_count": 57,
   "metadata": {},
   "outputs": [
    {
     "data": {
      "text/plain": [
       "Dict, {\n",
       "'m12iF1' : 0.0457962350760051,\n",
       "}"
      ]
     },
     "execution_count": 57,
     "metadata": {},
     "output_type": "execute_result"
    }
   ],
   "source": [
    "(\n",
    "    all_results['enriched_metal_mass']['gas']['m_cgm']\n",
    "    / all_results['M']['gas']['m_cgm']\n",
    ").split_by_dict( linefinder_config.MASS_BINS )['m12'] / 0.0134"
   ]
  },
  {
   "cell_type": "code",
   "execution_count": 61,
   "metadata": {},
   "outputs": [
    {
     "data": {
      "text/plain": [
       "Dict, {\n",
       "'m12iF1' : 0.01520156482853249,\n",
       "}"
      ]
     },
     "execution_count": 61,
     "metadata": {},
     "output_type": "execute_result"
    }
   ],
   "source": [
    "all_results['enriched_metal_mass']['total']['m_budget_halo'] / all_results['M']['stars']['m_box']"
   ]
  },
  {
   "cell_type": "code",
   "execution_count": 65,
   "metadata": {},
   "outputs": [
    {
     "data": {
      "text/plain": [
       "Dict, {\n",
       "'m12iF1' : 67236582405.072395,\n",
       "}"
      ]
     },
     "execution_count": 65,
     "metadata": {},
     "output_type": "execute_result"
    }
   ],
   "source": [
    "all_results['M']['gas']['m_cgm']"
   ]
  },
  {
   "cell_type": "code",
   "execution_count": 64,
   "metadata": {},
   "outputs": [
    {
     "data": {
      "text/plain": [
       "Dict, {\n",
       "'m12iF1' : 0.41749417166675235,\n",
       "}"
      ]
     },
     "execution_count": 64,
     "metadata": {},
     "output_type": "execute_result"
    }
   ],
   "source": [
    "metal_masses = (\n",
    "    all_results['enriched_metal_mass']['gas']['m_halo']\n",
    "    / all_results['enriched_metal_mass']['total'][u'm_budget_halo']\n",
    ")\n",
    "metal_masses"
   ]
  },
  {
   "cell_type": "code",
   "execution_count": 59,
   "metadata": {},
   "outputs": [
    {
     "data": {
      "text/plain": [
       "Dict, {\n",
       "'m12iF1' : 0.43198004143493296,\n",
       "}"
      ]
     },
     "execution_count": 59,
     "metadata": {},
     "output_type": "execute_result"
    }
   ],
   "source": [
    "(\n",
    "    all_results['M']['total']['m_cgm']\n",
    "    / all_results['M']['total']['m_budget_halo']\n",
    ")"
   ]
  },
  {
   "cell_type": "code",
   "execution_count": 56,
   "metadata": {},
   "outputs": [
    {
     "data": {
      "text/plain": [
       "Dict, {\n",
       "'m12iF1' : 0.0457962350760051,\n",
       "}"
      ]
     },
     "execution_count": 56,
     "metadata": {},
     "output_type": "execute_result"
    }
   ],
   "source": [
    "(\n",
    "    all_results['enriched_metal_mass']['gas']['m_cgm']\n",
    "    / all_results['M']['gas']['m_cgm']\n",
    ").split_by_dict( linefinder_config.MASS_BINS )['m12'] / 0.0134"
   ]
  },
  {
   "cell_type": "code",
   "execution_count": null,
   "metadata": {},
   "outputs": [],
   "source": [
    "metal_masses = (\n",
    "    all_results['enriched_metal_mass']['gas']['m_halo']\n",
    "    / all_results['enriched_metal_mass']['total'][u'm_budget_halo']\n",
    ")"
   ]
  },
  {
   "cell_type": "code",
   "execution_count": null,
   "metadata": {},
   "outputs": [],
   "source": [
    "metal_masses.split_by_dict( linefinder_config.MASS_BINS )['m10']"
   ]
  },
  {
   "cell_type": "code",
   "execution_count": null,
   "metadata": {},
   "outputs": [],
   "source": [
    "all_results['M']['total']['m_vir'].log10().split_by_dict( linefinder_config.MASS_BINS )['m10']"
   ]
  },
  {
   "cell_type": "code",
   "execution_count": null,
   "metadata": {},
   "outputs": [],
   "source": [
    "all_results['R']['r_vir'].split_by_dict( linefinder_config.MASS_BINS )['m10']"
   ]
  },
  {
   "cell_type": "code",
   "execution_count": null,
   "metadata": {},
   "outputs": [],
   "source": [
    "all_results['enriched_metal_mass']['gas']['m_halo'].log10().split_by_dict( linefinder_config.MASS_BINS )['m10']"
   ]
  },
  {
   "cell_type": "code",
   "execution_count": null,
   "metadata": {},
   "outputs": [],
   "source": []
  }
 ],
 "metadata": {
  "kernelspec": {
   "display_name": "Python 2",
   "language": "python",
   "name": "python2"
  },
  "language_info": {
   "codemirror_mode": {
    "name": "ipython",
    "version": 2
   },
   "file_extension": ".py",
   "mimetype": "text/x-python",
   "name": "python",
   "nbconvert_exporter": "python",
   "pygments_lexer": "ipython2",
   "version": "2.7.13"
  }
 },
 "nbformat": 4,
 "nbformat_minor": 2
}
