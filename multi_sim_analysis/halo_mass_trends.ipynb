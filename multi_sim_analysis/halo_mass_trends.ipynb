{
 "cells": [
  {
   "cell_type": "code",
   "execution_count": 1,
   "metadata": {},
   "outputs": [
    {
     "name": "stderr",
     "output_type": "stream",
     "text": [
      "/home1/03057/zhafen/.local/lib/python2.7/site-packages/h5py/__init__.py:34: FutureWarning: Conversion of the second argument of issubdtype from `float` to `np.floating` is deprecated. In future, it will be treated as `np.float64 == np.dtype(float).type`.\n",
      "  from ._conv import register_converters as _register_converters\n"
     ]
    }
   ],
   "source": [
    "import copy\n",
    "import numpy as np\n",
    "import os\n",
    "import verdict"
   ]
  },
  {
   "cell_type": "code",
   "execution_count": 2,
   "metadata": {},
   "outputs": [],
   "source": [
    "import matplotlib\n",
    "import matplotlib.pyplot as plt"
   ]
  },
  {
   "cell_type": "code",
   "execution_count": 3,
   "metadata": {},
   "outputs": [],
   "source": [
    "import galaxy_dive.read_data.metafile as read_metafile\n",
    "import galaxy_dive.plot_data.plotting as plotting\n",
    "import galaxy_dive.utils.utilities as utilities\n",
    "import galaxy_dive.utils.executable_helpers as exec_helpers"
   ]
  },
  {
   "cell_type": "code",
   "execution_count": 4,
   "metadata": {},
   "outputs": [],
   "source": [
    "import linefinder.utils.file_management as file_management\n",
    "import linefinder.analyze_data.worldline_set as worldline_set\n",
    "import linefinder.analyze_data.worldlines as worldlines\n",
    "import linefinder.utils.presentation_constants as p_constants\n",
    "import linefinder.config as l_config"
   ]
  },
  {
   "cell_type": "code",
   "execution_count": 5,
   "metadata": {},
   "outputs": [],
   "source": [
    "import analysis_config"
   ]
  },
  {
   "cell_type": "markdown",
   "metadata": {},
   "source": [
    "# Load Data"
   ]
  },
  {
   "cell_type": "code",
   "execution_count": 6,
   "metadata": {},
   "outputs": [],
   "source": [
    "do_calculation = True"
   ]
  },
  {
   "cell_type": "code",
   "execution_count": 7,
   "metadata": {},
   "outputs": [
    {
     "name": "stdout",
     "output_type": "stream",
     "text": [
      "Using snum 172, galdef _galdefv3\n"
     ]
    }
   ],
   "source": [
    "snum, galdef = exec_helpers.choose_config_or_commandline(\n",
    "    [ analysis_config.SNUM, analysis_config.GALDEF ]\n",
    ")\n",
    "print( 'Using snum {}, galdef {}'.format( snum, galdef ) )"
   ]
  },
  {
   "cell_type": "code",
   "execution_count": 8,
   "metadata": {},
   "outputs": [],
   "source": [
    "presentation_figure = False"
   ]
  },
  {
   "cell_type": "code",
   "execution_count": 49,
   "metadata": {},
   "outputs": [],
   "source": [
    "mass_key = 'enriched_metal_mass'"
   ]
  },
  {
   "cell_type": "code",
   "execution_count": 10,
   "metadata": {},
   "outputs": [],
   "source": [
    "save_file_tags = {\n",
    "    'M' : 'mass',\n",
    "    'metal_mass' : 'metalmass',\n",
    "    'enriched_metal_mass' : 'enrichedmetalmass',\n",
    "}"
   ]
  },
  {
   "cell_type": "code",
   "execution_count": 11,
   "metadata": {},
   "outputs": [],
   "source": [
    "axes_labels = {\n",
    "    'M' : 'Mass',\n",
    "    'metal_mass' : 'Metal Mass',\n",
    "    'enriched_metal_mass' : 'Metal Mass',\n",
    "}"
   ]
  },
  {
   "cell_type": "code",
   "execution_count": 12,
   "metadata": {},
   "outputs": [],
   "source": [
    "file_manager = file_management.FileManager( project='CGM_origin' )"
   ]
  },
  {
   "cell_type": "code",
   "execution_count": 13,
   "metadata": {},
   "outputs": [],
   "source": [
    "ind = 600 - snum"
   ]
  },
  {
   "cell_type": "code",
   "execution_count": 14,
   "metadata": {},
   "outputs": [],
   "source": [
    "tag_tail = '_CGM_snum{}'.format( snum )"
   ]
  },
  {
   "cell_type": "code",
   "execution_count": 15,
   "metadata": {},
   "outputs": [
    {
     "data": {
      "text/plain": [
       "({'ahf_index': 600,\n",
       "  'data_dir': '/scratch/03057/zhafen/linefinder_data/core/m12i_res7100/data',\n",
       "  'halo_data_dir': '/scratch/03057/zhafen/core/m12i_res7100/halo',\n",
       "  'ids_tag': 'm12i_CGM_snum172',\n",
       "  'main_halo_id': 0,\n",
       "  'ptracks_tag': 'm12i_CGM_snum172',\n",
       "  'tag': 'm12i_CGM_snum172_galdefv3'},\n",
       " {'m10q': {'ahf_index': 600,\n",
       "   'data_dir': '/scratch/03057/zhafen/linefinder_data/core/m10q_res250/data',\n",
       "   'halo_data_dir': '/scratch/03057/zhafen/core/m10q_res250/halo',\n",
       "   'ids_tag': 'm10q_CGM_snum172',\n",
       "   'main_halo_id': 0,\n",
       "   'ptracks_tag': 'm10q_CGM_snum172',\n",
       "   'tag': 'm10q_CGM_snum172_galdefv3'},\n",
       "  'm10y': {'ahf_index': 600,\n",
       "   'data_dir': '/scratch/03057/zhafen/linefinder_data/core/m10y_res250/data',\n",
       "   'halo_data_dir': '/scratch/03057/zhafen/core/m10y_res250/halo',\n",
       "   'ids_tag': 'm10y_CGM_snum172',\n",
       "   'main_halo_id': 0,\n",
       "   'ptracks_tag': 'm10y_CGM_snum172',\n",
       "   'tag': 'm10y_CGM_snum172_galdefv3'},\n",
       "  'm10z': {'ahf_index': 600,\n",
       "   'data_dir': '/scratch/03057/zhafen/linefinder_data/core/m10z_res250/data',\n",
       "   'halo_data_dir': '/scratch/03057/zhafen/core/m10z_res250/halo',\n",
       "   'ids_tag': 'm10z_CGM_snum172',\n",
       "   'main_halo_id': 0,\n",
       "   'ptracks_tag': 'm10z_CGM_snum172',\n",
       "   'tag': 'm10z_CGM_snum172_galdefv3'},\n",
       "  'm11a': {'ahf_index': 600,\n",
       "   'data_dir': '/scratch/03057/zhafen/linefinder_data/core/m11a_res2100/data',\n",
       "   'halo_data_dir': '/scratch/03057/zhafen/core/m11a_res2100/halo',\n",
       "   'ids_tag': 'm11a_CGM_snum172',\n",
       "   'main_halo_id': 0,\n",
       "   'ptracks_tag': 'm11a_CGM_snum172',\n",
       "   'tag': 'm11a_CGM_snum172_galdefv3'},\n",
       "  'm11b': {'ahf_index': 600,\n",
       "   'data_dir': '/scratch/03057/zhafen/linefinder_data/core/m11b_res2100/data',\n",
       "   'halo_data_dir': '/scratch/03057/zhafen/core/m11b_res2100/halo',\n",
       "   'ids_tag': 'm11b_CGM_snum172',\n",
       "   'main_halo_id': 0,\n",
       "   'ptracks_tag': 'm11b_CGM_snum172',\n",
       "   'tag': 'm11b_CGM_snum172_galdefv3'},\n",
       "  'm11c': {'ahf_index': 600,\n",
       "   'data_dir': '/scratch/03057/zhafen/linefinder_data/core/m11c_res2100/data',\n",
       "   'halo_data_dir': '/scratch/03057/zhafen/core/m11c_res2100/halo',\n",
       "   'ids_tag': 'm11c_CGM_snum172',\n",
       "   'main_halo_id': 0,\n",
       "   'ptracks_tag': 'm11c_CGM_snum172',\n",
       "   'tag': 'm11c_CGM_snum172_galdefv3'},\n",
       "  'm11d_md': {'ahf_index': 600,\n",
       "   'data_dir': '/scratch/03057/zhafen/linefinder_data/metal_diffusion/m11d_res7100/data',\n",
       "   'halo_data_dir': '/scratch/03057/zhafen/metal_diffusion/m11d_res7100/halo',\n",
       "   'ids_tag': 'm11d_md_CGM_snum172',\n",
       "   'main_halo_id': 0,\n",
       "   'ptracks_tag': 'm11d_md_CGM_snum172',\n",
       "   'tag': 'm11d_md_CGM_snum172_galdefv3'},\n",
       "  'm11e_md': {'ahf_index': 600,\n",
       "   'data_dir': '/scratch/03057/zhafen/linefinder_data/metal_diffusion/m11e_res7100/data',\n",
       "   'halo_data_dir': '/scratch/03057/zhafen/metal_diffusion/m11e_res7100/halo',\n",
       "   'ids_tag': 'm11e_md_CGM_snum172',\n",
       "   'main_halo_id': 0,\n",
       "   'ptracks_tag': 'm11e_md_CGM_snum172',\n",
       "   'tag': 'm11e_md_CGM_snum172_galdefv3'},\n",
       "  'm11h_md': {'ahf_index': 600,\n",
       "   'data_dir': '/scratch/03057/zhafen/linefinder_data/metal_diffusion/m11h_res7100/data',\n",
       "   'halo_data_dir': '/scratch/03057/zhafen/metal_diffusion/m11h_res7100/halo',\n",
       "   'ids_tag': 'm11h_md_CGM_snum172',\n",
       "   'main_halo_id': 0,\n",
       "   'ptracks_tag': 'm11h_md_CGM_snum172',\n",
       "   'tag': 'm11h_md_CGM_snum172_galdefv3'},\n",
       "  'm11i_md': {'ahf_index': 600,\n",
       "   'data_dir': '/scratch/03057/zhafen/linefinder_data/metal_diffusion/m11i_res7100/data',\n",
       "   'halo_data_dir': '/scratch/03057/zhafen/metal_diffusion/m11i_res7100/halo',\n",
       "   'ids_tag': 'm11i_md_CGM_snum172',\n",
       "   'main_halo_id': 0,\n",
       "   'ptracks_tag': 'm11i_md_CGM_snum172',\n",
       "   'tag': 'm11i_md_CGM_snum172_galdefv3'},\n",
       "  'm11q': {'ahf_index': 600,\n",
       "   'data_dir': '/scratch/03057/zhafen/linefinder_data/core/m11q_res7100/data',\n",
       "   'halo_data_dir': '/scratch/03057/zhafen/core/m11q_res7100/halo',\n",
       "   'ids_tag': 'm11q_CGM_snum172',\n",
       "   'main_halo_id': 0,\n",
       "   'ptracks_tag': 'm11q_CGM_snum172',\n",
       "   'tag': 'm11q_CGM_snum172_galdefv3'},\n",
       "  'm11v': {'ahf_index': 600,\n",
       "   'data_dir': '/scratch/03057/zhafen/linefinder_data/core/m11v_res7100/data',\n",
       "   'halo_data_dir': '/scratch/03057/zhafen/core/m11v_res7100/halo',\n",
       "   'ids_tag': 'm11v_CGM_snum172',\n",
       "   'main_halo_id': 0,\n",
       "   'ptracks_tag': 'm11v_CGM_snum172',\n",
       "   'tag': 'm11v_CGM_snum172_galdefv3'},\n",
       "  'm12b_md': {'ahf_index': 600,\n",
       "   'data_dir': '/scratch/03057/zhafen/linefinder_data/metal_diffusion/m12b_res7100/data',\n",
       "   'halo_data_dir': '/scratch/03057/zhafen/metal_diffusion/m12b_res7100/halo',\n",
       "   'ids_tag': 'm12b_md_CGM_snum172',\n",
       "   'main_halo_id': 0,\n",
       "   'ptracks_tag': 'm12b_md_CGM_snum172',\n",
       "   'tag': 'm12b_md_CGM_snum172_galdefv3'},\n",
       "  'm12c_md': {'ahf_index': 600,\n",
       "   'data_dir': '/scratch/03057/zhafen/linefinder_data/metal_diffusion/m12c_res7100/data',\n",
       "   'halo_data_dir': '/scratch/03057/zhafen/metal_diffusion/m12c_res7100/halo',\n",
       "   'ids_tag': 'm12c_md_CGM_snum172',\n",
       "   'main_halo_id': 0,\n",
       "   'ptracks_tag': 'm12c_md_CGM_snum172',\n",
       "   'tag': 'm12c_md_CGM_snum172_galdefv3'},\n",
       "  'm12f': {'ahf_index': 600,\n",
       "   'data_dir': '/scratch/03057/zhafen/linefinder_data/core/m12f_res7100/data',\n",
       "   'halo_data_dir': '/scratch/03057/zhafen/core/m12f_res7100/halo',\n",
       "   'ids_tag': 'm12f_CGM_snum172',\n",
       "   'main_halo_id': 0,\n",
       "   'ptracks_tag': 'm12f_CGM_snum172',\n",
       "   'tag': 'm12f_CGM_snum172_galdefv3'},\n",
       "  'm12i': {},\n",
       "  'm12m': {'ahf_index': 600,\n",
       "   'data_dir': '/scratch/03057/zhafen/linefinder_data/core/m12m_res7100/data',\n",
       "   'halo_data_dir': '/scratch/03057/zhafen/core/m12m_res7100/halo',\n",
       "   'ids_tag': 'm12m_CGM_snum172',\n",
       "   'main_halo_id': 0,\n",
       "   'ptracks_tag': 'm12m_CGM_snum172',\n",
       "   'tag': 'm12m_CGM_snum172_galdefv3'},\n",
       "  'm12r_md': {'ahf_index': 600,\n",
       "   'data_dir': '/scratch/03057/zhafen/linefinder_data/metal_diffusion/m12r_res7100/data',\n",
       "   'halo_data_dir': '/scratch/03057/zhafen/metal_diffusion/m12r_res7100/halo',\n",
       "   'ids_tag': 'm12r_md_CGM_snum172',\n",
       "   'main_halo_id': 0,\n",
       "   'ptracks_tag': 'm12r_md_CGM_snum172',\n",
       "   'tag': 'm12r_md_CGM_snum172_galdefv3'},\n",
       "  'm12w_md': {'ahf_index': 600,\n",
       "   'data_dir': '/scratch/03057/zhafen/linefinder_data/metal_diffusion/m12w_res7100/data',\n",
       "   'halo_data_dir': '/scratch/03057/zhafen/metal_diffusion/m12w_res7100/halo',\n",
       "   'ids_tag': 'm12w_md_CGM_snum172',\n",
       "   'main_halo_id': 0,\n",
       "   'ptracks_tag': 'm12w_md_CGM_snum172',\n",
       "   'tag': 'm12w_md_CGM_snum172_galdefv3'},\n",
       "  'm12z_md': {'ahf_index': 600,\n",
       "   'data_dir': '/scratch/03057/zhafen/linefinder_data/metal_diffusion/m12z_res4200/data',\n",
       "   'halo_data_dir': '/scratch/03057/zhafen/metal_diffusion/m12z_res4200/halo',\n",
       "   'ids_tag': 'm12z_md_CGM_snum172',\n",
       "   'main_halo_id': 0,\n",
       "   'ptracks_tag': 'm12z_md_CGM_snum172',\n",
       "   'tag': 'm12z_md_CGM_snum172_galdefv3'}})"
      ]
     },
     "execution_count": 15,
     "metadata": {},
     "output_type": "execute_result"
    }
   ],
   "source": [
    "defaults, variations = file_manager.get_linefinder_analysis_defaults_and_variations(\n",
    "    tag_tail,\n",
    "    sim_names = analysis_config.SIM_NAMES,\n",
    "    galdef = galdef,\n",
    ")\n",
    "defaults, variations"
   ]
  },
  {
   "cell_type": "code",
   "execution_count": 16,
   "metadata": {},
   "outputs": [],
   "source": [
    "w_set = worldline_set.WorldlineSet( defaults, variations )"
   ]
  },
  {
   "cell_type": "code",
   "execution_count": 17,
   "metadata": {},
   "outputs": [],
   "source": [
    "default_sim_name = w_set.keys()[0]"
   ]
  },
  {
   "cell_type": "code",
   "execution_count": 18,
   "metadata": {},
   "outputs": [],
   "source": [
    "w = w_set[default_sim_name]"
   ]
  },
  {
   "cell_type": "code",
   "execution_count": 19,
   "metadata": {},
   "outputs": [],
   "source": [
    "classifications = p_constants.CLASSIFICATIONS_CGM_ORIGIN\n",
    "classifications.append( 'is_in_CGM' )"
   ]
  },
  {
   "cell_type": "code",
   "execution_count": 20,
   "metadata": {},
   "outputs": [],
   "source": [
    "metafile_reader = read_metafile.MetafileReader(\n",
    "    file_manager.get_metafile_dir( default_sim_name )\n",
    ")"
   ]
  },
  {
   "cell_type": "code",
   "execution_count": 21,
   "metadata": {},
   "outputs": [
    {
     "name": "stdout",
     "output_type": "stream",
     "text": [
      "Attribute classifications not found in plotting object. Checking data object.\n"
     ]
    },
    {
     "data": {
      "text/plain": [
       "{u'absolute_wind_cut': 15.0,\n",
       " u'classifications_to_save': array(['is_unaccreted', 'is_pristine', 'is_preprocessed', 'is_merger',\n",
       "        'is_mass_transfer', 'is_wind', 'is_hitherto_EP', 'is_hitherto_NEP',\n",
       "        'is_unaccreted_EP', 'is_unaccreted_NEP'], dtype='|S17'),\n",
       " u'events_to_save': array(['is_in_other_gal', 'is_in_main_gal', 'is_accreted', 'is_ejected',\n",
       "        'redshift_first_acc', 'ind_first_acc',\n",
       "        'cumulative_time_in_other_gal', 'gal_event_id',\n",
       "        'time_in_other_gal_before_acc_during_interval'], dtype='|S44'),\n",
       " u'galids_tag': 'm12i_CGM_snum172_galdefv3',\n",
       " u'halo_data_dir': '/scratch/03057/zhafen/core/m12i_res7100/halo',\n",
       " u'halo_file_tag': 'smooth',\n",
       " u'main_halo_robustness_criteria': 'n_star',\n",
       " u'main_halo_robustness_value': 100,\n",
       " u'min_gal_density': 0.173,\n",
       " u'mtree_halos_index': 'None',\n",
       " u'neg': 10,\n",
       " u'not_in_main_gal_key': 'gal_id',\n",
       " u'out_dir': '/scratch/03057/zhafen/linefinder_data/core/m12i_res7100/data',\n",
       " u'pp_classifications_to_save': array(['is_in_CGM', 'is_in_galaxy_halo_interface', 'is_CGM_IGM_accretion',\n",
       "        'is_CGM_wind', 'is_CGM_satellite_wind', 'is_CGM_satellite_ISM'],\n",
       "       dtype='|S27'),\n",
       " u'ptracks_tag': 'm12i_CGM_snum172',\n",
       " u't_m': 0.5,\n",
       " u't_pro': 0.03,\n",
       " u'tag': 'm12i_CGM_snum172_galdefv3',\n",
       " u'velocity_scale': 'Vmax',\n",
       " u'wind_cut': 1.0,\n",
       " u'write_events': True}"
      ]
     },
     "execution_count": 21,
     "metadata": {},
     "output_type": "execute_result"
    }
   ],
   "source": [
    "w_set['m12i'].classifications.parameters"
   ]
  },
  {
   "cell_type": "markdown",
   "metadata": {},
   "source": [
    "# Analyze Data"
   ]
  },
  {
   "cell_type": "markdown",
   "metadata": {},
   "source": [
    "### Get masses out"
   ]
  },
  {
   "cell_type": "code",
   "execution_count": 50,
   "metadata": {},
   "outputs": [
    {
     "data": {
      "text/plain": [
       "Dict, {\n",
       "'m10q' : None,\n",
       "'m11e_md' : None,\n",
       "'m10z' : None,\n",
       "'m11v' : None,\n",
       "'m11q' : None,\n",
       "'m10y' : None,\n",
       "'m12r_md' : None,\n",
       "'m12f' : None,\n",
       "'m11i_md' : None,\n",
       "'m11h_md' : None,\n",
       "'m12m' : None,\n",
       "'m11a' : None,\n",
       "'m12i' : None,\n",
       "'m11c' : None,\n",
       "'m11b' : None,\n",
       "'m12b_md' : None,\n",
       "'m12z_md' : None,\n",
       "'m12w_md' : None,\n",
       "'m11d_md' : None,\n",
       "'m12c_md' : None,\n",
       "}"
      ]
     },
     "execution_count": 50,
     "metadata": {},
     "output_type": "execute_result"
    }
   ],
   "source": [
    "w_set.data_object.data_masker.clear_masks()"
   ]
  },
  {
   "cell_type": "markdown",
   "metadata": {},
   "source": [
    "#### Mass Fractions"
   ]
  },
  {
   "cell_type": "code",
   "execution_count": 51,
   "metadata": {},
   "outputs": [],
   "source": [
    "if do_calculation:\n",
    "    CGM_mass_fractions = w_set.data_object.get_categories_selected_quantity_fraction(\n",
    "        normalization_category = 'is_in_CGM',\n",
    "        selection_routine = 'ptype',\n",
    "        ptype = 'gas',\n",
    "        classification_list = classifications,\n",
    "        sl = (slice(None),ind),\n",
    "        selected_quantity_data_key = mass_key,\n",
    "    )\n",
    "\n",
    "    CGM_mass_fractions = CGM_mass_fractions.transpose()"
   ]
  },
  {
   "cell_type": "markdown",
   "metadata": {},
   "source": [
    "#### Halo Masses"
   ]
  },
  {
   "cell_type": "code",
   "execution_count": 52,
   "metadata": {},
   "outputs": [
    {
     "data": {
      "text/plain": [
       "Dict, {\n",
       "'m10q' : array([2.59999e+09]),\n",
       "'m11e_md' : array([2.29681e+10]),\n",
       "'m10z' : array([9.21258e+09]),\n",
       "'m11v' : array([3.78509e+10]),\n",
       "'m11q' : array([3.03953e+10]),\n",
       "'m10y' : array([2.24179e+09]),\n",
       "'m12r_md' : array([1.20623e+11]),\n",
       "'m12f' : array([3.39571e+11]),\n",
       "'m11i_md' : array([1.39435e+10]),\n",
       "'m11h_md' : array([6.09945e+10]),\n",
       "'m12m' : array([3.82052e+11]),\n",
       "'m11a' : array([7.38578e+09]),\n",
       "'m12i' : array([2.0516e+11]),\n",
       "'m11c' : array([3.29675e+10]),\n",
       "'m11b' : array([1.07873e+10]),\n",
       "'m12b_md' : array([3.21527e+11]),\n",
       "'m12z_md' : array([8.04373e+10]),\n",
       "'m12w_md' : array([1.56338e+11]),\n",
       "'m11d_md' : array([2.96814e+10]),\n",
       "'m12c_md' : array([1.00317e+11]),\n",
       "}"
      ]
     },
     "execution_count": 52,
     "metadata": {},
     "output_type": "execute_result"
    }
   ],
   "source": [
    "w_set.data_object.halo_data.get_mt_data( 'Mvir', snums=[ snum ], )"
   ]
  },
  {
   "cell_type": "code",
   "execution_count": 53,
   "metadata": {},
   "outputs": [
    {
     "name": "stdout",
     "output_type": "stream",
     "text": [
      "Attribute m_vir not found in plotting object. Checking data object.\n",
      "Attribute m_vir not found in plotting object. Checking data object.\n",
      "Attribute m_vir not found in plotting object. Checking data object.\n",
      "Attribute m_vir not found in plotting object. Checking data object.\n",
      "Attribute m_vir not found in plotting object. Checking data object.\n",
      "Attribute m_vir not found in plotting object. Checking data object.\n",
      "Attribute m_vir not found in plotting object. Checking data object.\n",
      "Attribute m_vir not found in plotting object. Checking data object.\n",
      "Attribute m_vir not found in plotting object. Checking data object.\n",
      "Attribute m_vir not found in plotting object. Checking data object.\n",
      "Attribute m_vir not found in plotting object. Checking data object.\n",
      "Attribute m_vir not found in plotting object. Checking data object.\n",
      "Attribute m_vir not found in plotting object. Checking data object.\n",
      "Attribute m_vir not found in plotting object. Checking data object.\n",
      "Attribute m_vir not found in plotting object. Checking data object.\n",
      "Attribute m_vir not found in plotting object. Checking data object.\n",
      "Attribute m_vir not found in plotting object. Checking data object.\n",
      "Attribute m_vir not found in plotting object. Checking data object.\n",
      "Attribute m_vir not found in plotting object. Checking data object.\n",
      "Attribute m_vir not found in plotting object. Checking data object.\n"
     ]
    }
   ],
   "source": [
    "if do_calculation:\n",
    "    w_set.data_object.retrieve_halo_data()\n",
    "    halo_masses = w_set.m_vir.inner_item( snum )"
   ]
  },
  {
   "cell_type": "markdown",
   "metadata": {},
   "source": [
    "#### Save and load results"
   ]
  },
  {
   "cell_type": "code",
   "execution_count": 54,
   "metadata": {},
   "outputs": [],
   "source": [
    "savefile = os.path.join(\n",
    "    file_manager.project_parameters['export_data_dir'],\n",
    "    'cgm_origins_{}_frac_snum{}.hdf5'.format( save_file_tags[mass_key], snum ),\n",
    ")"
   ]
  },
  {
   "cell_type": "code",
   "execution_count": 55,
   "metadata": {},
   "outputs": [
    {
     "name": "stdout",
     "output_type": "stream",
     "text": [
      "Attribute redshift not found in plotting object. Checking data object.\n",
      "Attribute redshift not found in plotting object. Checking data object.\n"
     ]
    }
   ],
   "source": [
    "if do_calculation:\n",
    "\n",
    "    # Format results to save\n",
    "    results_to_save = copy.deepcopy( CGM_mass_fractions )\n",
    "    results_to_save['m_vir'] = halo_masses\n",
    "\n",
    "    results_to_save.to_hdf5(\n",
    "        savefile, \n",
    "        condensed = True, \n",
    "        attributes = { 'redshift': w.redshift.values[ind] },\n",
    "    )\n",
    "    \n",
    "    redshift = w.redshift.values[ind]"
   ]
  },
  {
   "cell_type": "code",
   "execution_count": 56,
   "metadata": {},
   "outputs": [],
   "source": [
    "if not do_calculation:\n",
    "    results_to_load, attributes = verdict.Dict.from_hdf5( savefile, unpack=True )\n",
    "    \n",
    "    halo_masses = results_to_load['m_vir']\n",
    "    CGM_mass_fractions = copy.deepcopy( results_to_load )\n",
    "    del CGM_mass_fractions['m_vir']\n",
    "    \n",
    "    redshift = attributes['redshift']"
   ]
  },
  {
   "cell_type": "markdown",
   "metadata": {},
   "source": [
    "# Plot Data"
   ]
  },
  {
   "cell_type": "markdown",
   "metadata": {},
   "source": [
    "## Setup"
   ]
  },
  {
   "cell_type": "code",
   "execution_count": 57,
   "metadata": {},
   "outputs": [
    {
     "data": {
      "text/plain": [
       "[2128955365.6220324, 816350427350.4275]"
      ]
     },
     "execution_count": 57,
     "metadata": {},
     "output_type": "execute_result"
    }
   ],
   "source": [
    "mass_range = [ halo_masses.array().min()/1.5, halo_masses.array().max()*1.5 ]\n",
    "mass_range"
   ]
  },
  {
   "cell_type": "code",
   "execution_count": 58,
   "metadata": {},
   "outputs": [],
   "source": [
    "m_vir_md_split = halo_masses.split_by_key_slice( slice(4,10), '_md' )\n",
    "m_vir_fiducials = m_vir_md_split[False]\n",
    "m_vir_mds = m_vir_md_split[True]"
   ]
  },
  {
   "cell_type": "code",
   "execution_count": 59,
   "metadata": {},
   "outputs": [],
   "source": [
    "def save_plot_stage( fig, base_save_file, index ):\n",
    "\n",
    "    save_file = '{}.{}.pdf'.format( base_save_file, index )\n",
    "    \n",
    "    plotting.save_fig(\n",
    "        out_dir = file_manager.get_project_presentation_dir(),\n",
    "        save_file = save_file,\n",
    "        fig = fig,\n",
    "    )\n",
    "    \n",
    "    return index + 1"
   ]
  },
  {
   "cell_type": "markdown",
   "metadata": {},
   "source": [
    "## Mass Fraction Plot"
   ]
  },
  {
   "cell_type": "code",
   "execution_count": 60,
   "metadata": {
    "slideshow": {
     "slide_type": "-"
    }
   },
   "outputs": [
    {
     "name": "stdout",
     "output_type": "stream",
     "text": [
      "File saved at /home1/03057/zhafen/papers/CGM_origin/figures/CGM_enrichedmetalmass_frac_vs_Mh_CGM_snum172.pdf\n"
     ]
    },
    {
     "data": {
      "image/png": "[encoded data removed]",
      "text/plain": [
       "<matplotlib.figure.Figure at 0x2b1251b6c390>"
      ]
     },
     "metadata": {},
     "output_type": "display_data"
    }
   ],
   "source": [
    "fig = plt.figure( figsize=(10,8), facecolor='w' )\n",
    "ax = plt.gca()\n",
    "\n",
    "# Some plot settings\n",
    "y_min = 1e-3\n",
    "y_max = 1\n",
    "alpha = 1.0\n",
    "\n",
    "# Plot data points\n",
    "color_objects = []\n",
    "labels = []\n",
    "j = 0\n",
    "for k, classification in enumerate( p_constants.CLASSIFICATIONS_CGM_ORIGIN ):\n",
    "    \n",
    "    if presentation_figure:\n",
    "                \n",
    "        j = save_plot_stage( fig, 'CGM_{}_frac_vs_Mh{}'.format( save_file_tags[mass_key], tag_tail ), j )\n",
    "    \n",
    "    if classification == 'is_in_CGM':\n",
    "        continue\n",
    "        \n",
    "    item = CGM_mass_fractions[classification]\n",
    "    \n",
    "    md_split = item.split_by_key_slice( slice(4,10), '_md' )\n",
    "    fiducials = md_split[False]\n",
    "    mds = md_split[True]\n",
    "    \n",
    "    edgecolor = np.array( matplotlib.colors.colorConverter.to_rgba(\n",
    "        l_config.COLORSCHEME[classification]\n",
    "    ) )\n",
    "    edgecolor[-1] = alpha\n",
    "        \n",
    "    # Default points\n",
    "    ax.scatter(\n",
    "        m_vir_fiducials.array(),\n",
    "        fiducials.array(),\n",
    "        s = 130,\n",
    "        color = None,\n",
    "        zorder = 100 - k,\n",
    "        linewidth = 0,\n",
    "        facecolors = l_config.COLORSCHEME[classification],\n",
    "        alpha = alpha,\n",
    "    )\n",
    "    \n",
    "    if mass_key != 'M':\n",
    "        facecolors = 'none'\n",
    "        color = edgecolor\n",
    "    else:\n",
    "        facecolors = l_config.COLORSCHEME[classification]\n",
    "        color = 'none'\n",
    "        \n",
    "    # Turbulent metal diffusion\n",
    "    ax.scatter(\n",
    "        m_vir_mds.array(),\n",
    "        mds.array(),\n",
    "        s = 120,\n",
    "        color = color,\n",
    "        marker = 'o',\n",
    "        zorder = 100 - k,\n",
    "        facecolors = facecolors,\n",
    "        linewidth = 3.5,\n",
    "        alpha = alpha,\n",
    "    )\n",
    "    \n",
    "    # Box plot\n",
    "    if mass_key != 'M':\n",
    "        x_data_list = [ m_vir_fiducials, m_vir_mds, ]\n",
    "        y_data_list = [ fiducials, mds, ]\n",
    "        linestyles = [ '-', '--', ]\n",
    "    else:\n",
    "        x_data_list = [ halo_masses, ]\n",
    "        y_data_list = [ item, ]\n",
    "        linestyles = [ '-', ]\n",
    "    for x_data, y_data, linestyle in zip( x_data_list, y_data_list, linestyles ):\n",
    "        x_datas = x_data.split_by_dict( l_config.MASS_BINS, return_list=True )\n",
    "        y_datas = y_data.split_by_dict( l_config.MASS_BINS, return_list=True )\n",
    "        plotting.box_plot(\n",
    "            x_datas,\n",
    "            y_datas,\n",
    "            ax = ax,\n",
    "            color = l_config.COLORSCHEME[classification],\n",
    "            box_zorder = 50 - k,\n",
    "            blank_zorder = 30 - k,\n",
    "            line_zorder = 10 - k,\n",
    "    #         linewidth = 7 - k,\n",
    "            linewidth = 5,\n",
    "            linestyle = linestyle,\n",
    "            y_floor = 1e-5,\n",
    "            plot_boxes = False,\n",
    "            line_x_min = x_data.array().min(),\n",
    "            line_x_max = x_data.array().max(),\n",
    "            y_mean_statistic = np.median,\n",
    "        )\n",
    "    \n",
    "    if classification is not None:\n",
    "        # Make virtual artists to allow a legend to appear\n",
    "        color_object = matplotlib.patches.Rectangle(                         \n",
    "            (0, 0),                                                          \n",
    "            1,                                                               \n",
    "            1,                                                               \n",
    "            fc = l_config.COLORSCHEME[classification],                                 \n",
    "            ec = l_config.COLORSCHEME[classification],                                 \n",
    "            alpha = p_constants.CLASSIFICATION_ALPHA,                        \n",
    "        )\n",
    "        color_objects.append( color_object )                                 \n",
    "        labels.append( p_constants.CLASSIFICATION_LABELS[classification] )\n",
    "\n",
    "    # Add a redshift label\n",
    "    if k == 0:\n",
    "        redshift_label = r'$z=' + '{:.02g}'.format( redshift ) + '$'\n",
    "        ax.annotate( s=redshift_label, xy=(0.05,1.0125), xycoords='axes fraction', fontsize=22 )\n",
    "\n",
    "    if snum == 172:\n",
    "        ax.set_xlabel( r'$M_{\\rm h}$ ($M_{\\odot}$)', fontsize=24 )\n",
    "    ax.set_ylabel( r'CGM {} Fraction'.format( axes_labels[mass_key] ), fontsize=24 )\n",
    "\n",
    "    ax.set_xlim( 2e9, 2e12 )\n",
    "    ax.set_ylim( y_min, y_max )\n",
    "\n",
    "    ax.set_xscale( 'log' )\n",
    "    ax.set_yscale( 'log' )\n",
    "    \n",
    "    # Add ticks to the righ\n",
    "    ax.yaxis.set_ticks_position( 'both' )\n",
    "\n",
    "    if snum == 172:\n",
    "        legend = ax.legend(\n",
    "            color_objects,\n",
    "            labels,\n",
    "            prop={'size': 17.5},\n",
    "            ncol=1,\n",
    "            loc='lower right',\n",
    "            fontsize=24,\n",
    "            framealpha = 0.9,\n",
    "        )\n",
    "        legend.set_zorder( 120 )\n",
    "\n",
    "save_file = 'CGM_{}_frac_vs_Mh{}.pdf'.format( save_file_tags[mass_key], tag_tail )\n",
    "\n",
    "plotting.save_fig(\n",
    "    out_dir = file_manager.get_project_figure_dir(),\n",
    "    save_file = save_file,\n",
    "    fig = fig,\n",
    ")"
   ]
  },
  {
   "cell_type": "code",
   "execution_count": 61,
   "metadata": {},
   "outputs": [],
   "source": [
    "import os\n",
    "\n",
    "import py2tex.py2tex as py2tex"
   ]
  },
  {
   "cell_type": "code",
   "execution_count": 62,
   "metadata": {},
   "outputs": [],
   "source": [
    "tex_filepath = os.path.join( file_manager.project_parameters['project_dir'], 'variables.tex' )"
   ]
  },
  {
   "cell_type": "code",
   "execution_count": 63,
   "metadata": {},
   "outputs": [],
   "source": [
    "tex_file = py2tex.TeXVariableFile( tex_filepath )"
   ]
  },
  {
   "cell_type": "code",
   "execution_count": 64,
   "metadata": {},
   "outputs": [],
   "source": [
    "# Used for variable names\n",
    "if snum == 465:\n",
    "    regime = 'low'\n",
    "if snum == 172:\n",
    "    regime = 'high'"
   ]
  },
  {
   "cell_type": "markdown",
   "metadata": {},
   "source": [
    "### IGM Accretion"
   ]
  },
  {
   "cell_type": "code",
   "execution_count": 65,
   "metadata": {},
   "outputs": [],
   "source": [
    "if mass_key == 'M':\n",
    "    nep = utilities.SmartDict( CGM_mass_fractions['is_CGM_IGM_accretion'] )\n",
    "\n",
    "    nep_mean = nep.array().mean()\n",
    "\n",
    "    tex_file.save_variable(\n",
    "        'fracnepmean{}'.format( regime ),\n",
    "        py2tex.to_tex_percentage( nep_mean, 5, nearest_base=True ),\n",
    "    )\n",
    "\n",
    "    sub_nep = nep.split_by_dict( l_config.MASS_BINS )\n",
    "\n",
    "    for mass_bin, name in zip( ['m10', 'm11', 'm12' ], ['dwarf', 'subMW', 'MW'] ):\n",
    "        nep_mean = sub_nep[mass_bin].array().mean()\n",
    "\n",
    "        tex_file.save_variable(\n",
    "            'fracnep{}mean{}'.format( name, regime ),\n",
    "            py2tex.to_tex_percentage( nep_mean, 5, False, nearest_base=True ),\n",
    "        )"
   ]
  },
  {
   "cell_type": "code",
   "execution_count": 66,
   "metadata": {},
   "outputs": [
    {
     "name": "stdout",
     "output_type": "stream",
     "text": [
      "Saving 4 as fracnepmetalmeanhigh\n",
      "Saving 15 as fracnepmetalmeanmdMWhigh\n"
     ]
    },
    {
     "name": "stderr",
     "output_type": "stream",
     "text": [
      "/home1/03057/zhafen/repos/py2tex/py2tex/py2tex.py:108: UserWarning: Overwriting variable fracnepmetalmeanhigh. New value 4, previous value 3\n",
      "  self.data_dict[key],\n"
     ]
    }
   ],
   "source": [
    "if mass_key == 'enriched_metal_mass':\n",
    "    \n",
    "    nep = CGM_mass_fractions['is_CGM_IGM_accretion']\n",
    "    \n",
    "    nep_split = nep.split_by_key_slice( slice(4,10), '_md' )\n",
    "    nep_f = nep_split[False]\n",
    "    nep_md = nep_split[True]\n",
    "    \n",
    "    nep_mean = nep_f.array().mean()    \n",
    "    tex_file.save_variable(\n",
    "        'fracnepmetalmean{}'.format( regime ),\n",
    "        py2tex.to_tex_percentage( nep_mean, 1, False ),\n",
    "    )\n",
    "    \n",
    "    nep_mean_md_m12 = nep_md.split_by_dict( l_config.MASS_BINS )['m12'].array().mean()    \n",
    "    tex_file.save_variable(\n",
    "        'fracnepmetalmeanmdMW{}'.format( regime ),\n",
    "        py2tex.to_tex_percentage( nep_mean_md_m12, 5, False, nearest_base=True ),\n",
    "    )"
   ]
  },
  {
   "cell_type": "markdown",
   "metadata": {},
   "source": [
    "### Wind"
   ]
  },
  {
   "cell_type": "code",
   "execution_count": 67,
   "metadata": {},
   "outputs": [],
   "source": [
    "if mass_key == 'M':\n",
    "    wind = utilities.SmartDict( CGM_mass_fractions['is_CGM_wind'] )\n",
    "\n",
    "    sub_wind = wind.split_by_dict( l_config.MASS_BINS )\n",
    "\n",
    "    less_mass_wind_mean = 0.5*( sub_wind['m11'].array().mean() + sub_wind['m10'].array().mean() )\n",
    "\n",
    "    tex_file.save_variable(\n",
    "        'fraclessmasswindmean{}'.format( regime ),\n",
    "        py2tex.to_tex_percentage( less_mass_wind_mean, 0 )\n",
    "    )\n",
    "\n",
    "    tex_file.save_variable(\n",
    "        'fracMWwindmean{}'.format( regime ),\n",
    "        py2tex.to_tex_percentage( sub_wind['m12'].array().mean(), 5, nearest_base=True )\n",
    "    )"
   ]
  },
  {
   "cell_type": "code",
   "execution_count": 68,
   "metadata": {},
   "outputs": [
    {
     "name": "stdout",
     "output_type": "stream",
     "text": [
      "Saving 75\\% as fracwindmetalmeanhigh\n",
      "Saving 75 as fracwindmetalmeanmdhigh\n",
      "Saving 80 as fracwindmetalmeanfhigh\n",
      "Saving 85\\% as fracwindmetalmedianhigh\n",
      "Saving 80 as fracwindmetalmedianmdhigh\n",
      "Saving 85 as fracwindmetalmedianfhigh\n"
     ]
    },
    {
     "name": "stderr",
     "output_type": "stream",
     "text": [
      "/home1/03057/zhafen/repos/py2tex/py2tex/py2tex.py:108: UserWarning: Overwriting variable fracwindmetalmeanhigh. New value 75\\%, previous value 80\\%\n",
      "  self.data_dict[key],\n",
      "/home1/03057/zhafen/repos/py2tex/py2tex/py2tex.py:108: UserWarning: Overwriting variable fracwindmetalmeanmdhigh. New value 75, previous value 80\n",
      "  self.data_dict[key],\n",
      "/home1/03057/zhafen/repos/py2tex/py2tex/py2tex.py:108: UserWarning: Overwriting variable fracwindmetalmedianmdhigh. New value 80, previous value 85\n",
      "  self.data_dict[key],\n"
     ]
    }
   ],
   "source": [
    "if mass_key == 'enriched_metal_mass':\n",
    "    \n",
    "    wind = utilities.SmartDict( CGM_mass_fractions['is_CGM_wind'] )\n",
    "    \n",
    "    wind_split = wind.split_by_key_slice( slice(4,10), '_md' )\n",
    "    wind_f = wind_split[False]\n",
    "    wind_md = wind_split[True]\n",
    "    \n",
    "    tex_file.save_variable(\n",
    "        'fracwindmetalmean{}'.format( regime ),\n",
    "        py2tex.to_tex_percentage( wind.array().mean(), 5, nearest_base=True )\n",
    "    )\n",
    "    \n",
    "    tex_file.save_variable(\n",
    "        'fracwindmetalmeanmd{}'.format( regime ),\n",
    "        py2tex.to_tex_percentage( wind_md.array().mean(), 5, False, nearest_base=True )\n",
    "    )\n",
    "    \n",
    "    tex_file.save_variable(\n",
    "        'fracwindmetalmeanf{}'.format( regime ),\n",
    "        py2tex.to_tex_percentage( wind_f.array().mean(), 5, False, nearest_base=True )\n",
    "    )\n",
    "    \n",
    "    tex_file.save_variable(\n",
    "        'fracwindmetalmedian{}'.format( regime ),\n",
    "        py2tex.to_tex_percentage( np.median( wind.array() ), 5, nearest_base=True )\n",
    "    )\n",
    "    \n",
    "    tex_file.save_variable(\n",
    "        'fracwindmetalmedianmd{}'.format( regime ),\n",
    "        py2tex.to_tex_percentage( np.median( wind_md.array() ), 5, False, nearest_base=True )\n",
    "    )\n",
    "    \n",
    "    tex_file.save_variable(\n",
    "        'fracwindmetalmedianf{}'.format( regime ),\n",
    "        py2tex.to_tex_percentage( np.median( wind_f.array() ), 5, False, nearest_base=True )\n",
    "    )"
   ]
  },
  {
   "cell_type": "markdown",
   "metadata": {},
   "source": [
    "### Satellite Wind"
   ]
  },
  {
   "cell_type": "code",
   "execution_count": 69,
   "metadata": {},
   "outputs": [],
   "source": [
    "if mass_key == 'M':\n",
    "    wind = utilities.SmartDict( CGM_mass_fractions['is_CGM_satellite_wind'] )\n",
    "\n",
    "    sub_wind = wind.split_by_dict( l_config.MASS_BINS )\n",
    "\n",
    "    less_mass_wind_max = np.max( [sub_wind['m10'].array().max(), sub_wind['m11'].array().max(), ])\n",
    "\n",
    "    tex_file.save_variable(\n",
    "        'fraclessmasssatwindmax{}'.format( regime ),\n",
    "        py2tex.to_tex_percentage( less_mass_wind_max, 5, nearest_base=True )\n",
    "    )\n",
    "\n",
    "    tex_file.save_variable(\n",
    "        'fracMWsatwindmean{}'.format( regime ),\n",
    "        py2tex.to_tex_percentage( sub_wind['m12'].array().mean(), 5, nearest_base=True )\n",
    "    )"
   ]
  },
  {
   "cell_type": "code",
   "execution_count": 70,
   "metadata": {},
   "outputs": [
    {
     "name": "stdout",
     "output_type": "stream",
     "text": [
      "Saving 10\\% as fracsatwindmetalmeanhigh\n",
      "Saving 10 as fracsatwindmetalmeanmdhigh\n",
      "Saving 15 as fracsatwindmetalmeanfhigh\n"
     ]
    },
    {
     "name": "stderr",
     "output_type": "stream",
     "text": [
      "/home1/03057/zhafen/repos/py2tex/py2tex/py2tex.py:108: UserWarning: Overwriting variable fracsatwindmetalmeanfhigh. New value 15, previous value 10\n",
      "  self.data_dict[key],\n"
     ]
    }
   ],
   "source": [
    "if mass_key == 'enriched_metal_mass':\n",
    "    \n",
    "    wind = utilities.SmartDict( CGM_mass_fractions['is_CGM_satellite_wind'] )\n",
    "    \n",
    "    wind_split = wind.split_by_key_slice( slice(4,10), '_md' )\n",
    "    wind_f = wind_split[False]\n",
    "    wind_md = wind_split[True]\n",
    "    \n",
    "    tex_file.save_variable(\n",
    "        'fracsatwindmetalmean{}'.format( regime ),\n",
    "        py2tex.to_tex_percentage( wind.array().mean(), 5, nearest_base=True )\n",
    "    )\n",
    "    \n",
    "    tex_file.save_variable(\n",
    "        'fracsatwindmetalmeanmd{}'.format( regime ),\n",
    "        py2tex.to_tex_percentage( wind_md.array().mean(), 5, False, nearest_base=True )\n",
    "    )\n",
    "    \n",
    "    tex_file.save_variable(\n",
    "        'fracsatwindmetalmeanf{}'.format( regime ),\n",
    "        py2tex.to_tex_percentage( wind_f.array().mean(), 5, False, nearest_base=True )\n",
    "    )"
   ]
  },
  {
   "cell_type": "markdown",
   "metadata": {},
   "source": [
    "### Satellites"
   ]
  },
  {
   "cell_type": "code",
   "execution_count": 71,
   "metadata": {},
   "outputs": [],
   "source": [
    "if mass_key == 'M':\n",
    "    sat = utilities.SmartDict( CGM_mass_fractions['is_CGM_satellite_ISM'] )\n",
    "\n",
    "    sub_sat = sat.split_by_dict( l_config.MASS_BINS )\n",
    "\n",
    "    n_particles = w_set.items()[0][1].data_object.n_particles\n",
    "\n",
    "    m10_min = np.max( [ sub_sat['m10'].array().min(), 1./n_particles ] )\n",
    "\n",
    "    tex_file.save_variable(\n",
    "        'fracdwarfsatmean{}'.format( regime ),\n",
    "        py2tex.to_tex_scientific_notation( m10_min, 0 )\n",
    "    )\n",
    "\n",
    "    m11_min = np.max( [ sub_sat['m11'].array().min(), 1./n_particles ] )\n",
    "\n",
    "    tex_file.save_variable(\n",
    "        'fracsubMWsatmean{}'.format( regime ),\n",
    "        py2tex.to_tex_scientific_notation( m11_min, 0 )\n",
    "    )\n",
    "\n",
    "    m12_min = np.max( [ sub_sat['m12'].array().min(), 1./n_particles ] )\n",
    "\n",
    "    tex_file.save_variable(\n",
    "        'fracMWsatmean{}'.format( regime ),\n",
    "        py2tex.to_tex_scientific_notation( m12_min, 0 )\n",
    "    )"
   ]
  },
  {
   "cell_type": "code",
   "execution_count": 72,
   "metadata": {},
   "outputs": [
    {
     "name": "stdout",
     "output_type": "stream",
     "text": [
      "Saving 2\\% as fracsatmetalmeanhigh\n",
      "Saving 1 as fracsatmetalmeanmdhigh\n",
      "Saving 2 as fracsatmetalmeanfhigh\n"
     ]
    },
    {
     "name": "stderr",
     "output_type": "stream",
     "text": [
      "/home1/03057/zhafen/repos/py2tex/py2tex/py2tex.py:108: UserWarning: Overwriting variable fracsatmetalmeanmdhigh. New value 1, previous value 0\n",
      "  self.data_dict[key],\n"
     ]
    }
   ],
   "source": [
    "if mass_key == 'enriched_metal_mass':\n",
    "    \n",
    "    sat = utilities.SmartDict( CGM_mass_fractions['is_CGM_satellite_ISM'] )\n",
    "    \n",
    "    sat_split = sat.split_by_key_slice( slice(4,10), '_md' )\n",
    "    sat_f = sat_split[False]\n",
    "    sat_md = sat_split[True]\n",
    "    \n",
    "    tex_file.save_variable(\n",
    "        'fracsatmetalmean{}'.format( regime ),\n",
    "        py2tex.to_tex_percentage( sat.array().mean(), 0 )\n",
    "    )\n",
    "    \n",
    "    tex_file.save_variable(\n",
    "        'fracsatmetalmeanmd{}'.format( regime ),\n",
    "        py2tex.to_tex_percentage( sat_md.array().mean(), 0, False )\n",
    "    )\n",
    "    \n",
    "    tex_file.save_variable(\n",
    "        'fracsatmetalmeanf{}'.format( regime ),\n",
    "        py2tex.to_tex_percentage( sat_f.array().mean(), 0, False )\n",
    "    )"
   ]
  },
  {
   "cell_type": "markdown",
   "metadata": {},
   "source": [
    "# Particle Tracking Accuracy\n",
    "Using metal mass differences"
   ]
  },
  {
   "cell_type": "code",
   "execution_count": 73,
   "metadata": {},
   "outputs": [
    {
     "name": "stdout",
     "output_type": "stream",
     "text": [
      "Saving 4\\% as fracnepmetalmedianlowermasshigh\n",
      "Saving 5\\% as fracnepmetalmedianlowermassmdhigh\n",
      "Saving 1\\% as fracnepmetalmedianMWhigh\n",
      "Saving 20\\% as fracnepmetalmedianMWmdhigh\n"
     ]
    },
    {
     "name": "stderr",
     "output_type": "stream",
     "text": [
      "/home1/03057/zhafen/repos/py2tex/py2tex/py2tex.py:108: UserWarning: Overwriting variable fracnepmetalmedianlowermasshigh. New value 4\\%, previous value 3\\%\n",
      "  self.data_dict[key],\n",
      "/home1/03057/zhafen/repos/py2tex/py2tex/py2tex.py:108: UserWarning: Overwriting variable fracnepmetalmedianlowermassmdhigh. New value 5\\%, previous value 4\\%\n",
      "  self.data_dict[key],\n",
      "/home1/03057/zhafen/repos/py2tex/py2tex/py2tex.py:108: UserWarning: Overwriting variable fracnepmetalmedianMWmdhigh. New value 20\\%, previous value 10\\%\n",
      "  self.data_dict[key],\n"
     ]
    }
   ],
   "source": [
    "if mass_key == 'enriched_metal_mass':\n",
    "    \n",
    "    nep = CGM_mass_fractions['is_CGM_IGM_accretion']\n",
    "\n",
    "    nep_split = nep.split_by_key_slice( slice(4,10), '_md' )\n",
    "    nep_f = nep_split[False]\n",
    "    nep_md = nep_split[True]\n",
    "\n",
    "    low_mass_f = verdict.Dict(\n",
    "        utilities.merge_two_dicts( \n",
    "            nep_f.split_by_dict( l_config.MASS_BINS )['m10']._storage,\n",
    "            nep_f.split_by_dict( l_config.MASS_BINS )['m11']._storage,\n",
    "        )\n",
    "    )\n",
    "    low_mass_md = verdict.Dict(\n",
    "        utilities.merge_two_dicts( \n",
    "            nep_md.split_by_dict( l_config.MASS_BINS )['m10']._storage,\n",
    "            nep_md.split_by_dict( l_config.MASS_BINS )['m11']._storage,\n",
    "        )\n",
    "    )\n",
    "\n",
    "    tex_file.save_variable(\n",
    "        'fracnepmetalmedianlowermass{}'.format( regime ),\n",
    "        py2tex.to_tex_percentage( np.median( low_mass_f.array() ), 0, True )\n",
    "    )\n",
    "    \n",
    "    tex_file.save_variable(\n",
    "        'fracnepmetalmedianlowermassmd{}'.format( regime ),\n",
    "        py2tex.to_tex_percentage( np.median( low_mass_md.array() ), 0, True )\n",
    "    )\n",
    "    \n",
    "    tex_file.save_variable(\n",
    "        'fracnepmetalmedianMW{}'.format( regime ),\n",
    "        py2tex.to_tex_percentage(\n",
    "            np.median( nep_f.split_by_dict( l_config.MASS_BINS )['m12'].array() ),\n",
    "            0,\n",
    "            True,\n",
    "        )\n",
    "    )\n",
    "    \n",
    "    tex_file.save_variable(\n",
    "        'fracnepmetalmedianMWmd{}'.format( regime ),\n",
    "        py2tex.to_tex_percentage(\n",
    "            np.median( nep_md.split_by_dict( l_config.MASS_BINS )['m12'].array() ),\n",
    "            0,\n",
    "            True,\n",
    "        )\n",
    "    )"
   ]
  },
  {
   "cell_type": "markdown",
   "metadata": {},
   "source": [
    "# Compare to Other Classification Schemes"
   ]
  },
  {
   "cell_type": "code",
   "execution_count": 74,
   "metadata": {},
   "outputs": [],
   "source": [
    "compare_classification_scheme = True"
   ]
  },
  {
   "cell_type": "code",
   "execution_count": 75,
   "metadata": {},
   "outputs": [
    {
     "ename": "IOError",
     "evalue": "Unable to open file (Unable to open file: name = '/work/03057/zhafen/cgm_origin_data/old_cgm_origins_enrichedmetalmass_frac_snum172.hdf5', errno = 2, error message = 'no such file or directory', flags = 0, o_flags = 0)",
     "output_type": "error",
     "traceback": [
      "\u001b[0;31m---------------------------------------------------------------------------\u001b[0m",
      "\u001b[0;31mIOError\u001b[0m                                   Traceback (most recent call last)",
      "\u001b[0;32m<ipython-input-75-fc22e80db8e9>\u001b[0m in \u001b[0;36m<module>\u001b[0;34m()\u001b[0m\n\u001b[1;32m      6\u001b[0m     )\n\u001b[1;32m      7\u001b[0m \u001b[0;34m\u001b[0m\u001b[0m\n\u001b[0;32m----> 8\u001b[0;31m     \u001b[0mresults_to_load\u001b[0m\u001b[0;34m,\u001b[0m \u001b[0mattributes\u001b[0m \u001b[0;34m=\u001b[0m \u001b[0mverdict\u001b[0m\u001b[0;34m.\u001b[0m\u001b[0mDict\u001b[0m\u001b[0;34m.\u001b[0m\u001b[0mfrom_hdf5\u001b[0m\u001b[0;34m(\u001b[0m \u001b[0mcomparison_savefile\u001b[0m\u001b[0;34m,\u001b[0m \u001b[0munpack\u001b[0m\u001b[0;34m=\u001b[0m\u001b[0mTrue\u001b[0m \u001b[0;34m)\u001b[0m\u001b[0;34m\u001b[0m\u001b[0m\n\u001b[0m\u001b[1;32m      9\u001b[0m \u001b[0;34m\u001b[0m\u001b[0m\n\u001b[1;32m     10\u001b[0m     \u001b[0mhalo_masses\u001b[0m \u001b[0;34m=\u001b[0m \u001b[0mresults_to_load\u001b[0m\u001b[0;34m[\u001b[0m\u001b[0;34m'm_vir'\u001b[0m\u001b[0;34m]\u001b[0m\u001b[0;34m\u001b[0m\u001b[0m\n",
      "\u001b[0;32m/home1/03057/zhafen/repos/verdict/verdict.pyc\u001b[0m in \u001b[0;36mfrom_hdf5\u001b[0;34m(cls, filepath, load_attributes, unpack)\u001b[0m\n\u001b[1;32m    610\u001b[0m         '''\n\u001b[1;32m    611\u001b[0m \u001b[0;34m\u001b[0m\u001b[0m\n\u001b[0;32m--> 612\u001b[0;31m         \u001b[0mf\u001b[0m \u001b[0;34m=\u001b[0m \u001b[0mh5py\u001b[0m\u001b[0;34m.\u001b[0m\u001b[0mFile\u001b[0m\u001b[0;34m(\u001b[0m \u001b[0mfilepath\u001b[0m\u001b[0;34m,\u001b[0m \u001b[0;34m'r'\u001b[0m \u001b[0;34m)\u001b[0m\u001b[0;34m\u001b[0m\u001b[0m\n\u001b[0m\u001b[1;32m    613\u001b[0m \u001b[0;34m\u001b[0m\u001b[0m\n\u001b[1;32m    614\u001b[0m         \u001b[0;32mdef\u001b[0m \u001b[0mrecursive_retrieve\u001b[0m\u001b[0;34m(\u001b[0m \u001b[0mcurrent_path\u001b[0m\u001b[0;34m,\u001b[0m \u001b[0mkey\u001b[0m \u001b[0;34m)\u001b[0m\u001b[0;34m:\u001b[0m\u001b[0;34m\u001b[0m\u001b[0m\n",
      "\u001b[0;32m/home1/03057/zhafen/.local/lib/python2.7/site-packages/h5py/_hl/files.pyc\u001b[0m in \u001b[0;36m__init__\u001b[0;34m(self, name, mode, driver, libver, userblock_size, swmr, **kwds)\u001b[0m\n\u001b[1;32m    269\u001b[0m \u001b[0;34m\u001b[0m\u001b[0m\n\u001b[1;32m    270\u001b[0m                 \u001b[0mfapl\u001b[0m \u001b[0;34m=\u001b[0m \u001b[0mmake_fapl\u001b[0m\u001b[0;34m(\u001b[0m\u001b[0mdriver\u001b[0m\u001b[0;34m,\u001b[0m \u001b[0mlibver\u001b[0m\u001b[0;34m,\u001b[0m \u001b[0;34m**\u001b[0m\u001b[0mkwds\u001b[0m\u001b[0;34m)\u001b[0m\u001b[0;34m\u001b[0m\u001b[0m\n\u001b[0;32m--> 271\u001b[0;31m                 \u001b[0mfid\u001b[0m \u001b[0;34m=\u001b[0m \u001b[0mmake_fid\u001b[0m\u001b[0;34m(\u001b[0m\u001b[0mname\u001b[0m\u001b[0;34m,\u001b[0m \u001b[0mmode\u001b[0m\u001b[0;34m,\u001b[0m \u001b[0muserblock_size\u001b[0m\u001b[0;34m,\u001b[0m \u001b[0mfapl\u001b[0m\u001b[0;34m,\u001b[0m \u001b[0mswmr\u001b[0m\u001b[0;34m=\u001b[0m\u001b[0mswmr\u001b[0m\u001b[0;34m)\u001b[0m\u001b[0;34m\u001b[0m\u001b[0m\n\u001b[0m\u001b[1;32m    272\u001b[0m \u001b[0;34m\u001b[0m\u001b[0m\n\u001b[1;32m    273\u001b[0m                 \u001b[0;32mif\u001b[0m \u001b[0mswmr_support\u001b[0m\u001b[0;34m:\u001b[0m\u001b[0;34m\u001b[0m\u001b[0m\n",
      "\u001b[0;32m/home1/03057/zhafen/.local/lib/python2.7/site-packages/h5py/_hl/files.pyc\u001b[0m in \u001b[0;36mmake_fid\u001b[0;34m(name, mode, userblock_size, fapl, fcpl, swmr)\u001b[0m\n\u001b[1;32m     99\u001b[0m         \u001b[0;32mif\u001b[0m \u001b[0mswmr\u001b[0m \u001b[0;32mand\u001b[0m \u001b[0mswmr_support\u001b[0m\u001b[0;34m:\u001b[0m\u001b[0;34m\u001b[0m\u001b[0m\n\u001b[1;32m    100\u001b[0m             \u001b[0mflags\u001b[0m \u001b[0;34m|=\u001b[0m \u001b[0mh5f\u001b[0m\u001b[0;34m.\u001b[0m\u001b[0mACC_SWMR_READ\u001b[0m\u001b[0;34m\u001b[0m\u001b[0m\n\u001b[0;32m--> 101\u001b[0;31m         \u001b[0mfid\u001b[0m \u001b[0;34m=\u001b[0m \u001b[0mh5f\u001b[0m\u001b[0;34m.\u001b[0m\u001b[0mopen\u001b[0m\u001b[0;34m(\u001b[0m\u001b[0mname\u001b[0m\u001b[0;34m,\u001b[0m \u001b[0mflags\u001b[0m\u001b[0;34m,\u001b[0m \u001b[0mfapl\u001b[0m\u001b[0;34m=\u001b[0m\u001b[0mfapl\u001b[0m\u001b[0;34m)\u001b[0m\u001b[0;34m\u001b[0m\u001b[0m\n\u001b[0m\u001b[1;32m    102\u001b[0m     \u001b[0;32melif\u001b[0m \u001b[0mmode\u001b[0m \u001b[0;34m==\u001b[0m \u001b[0;34m'r+'\u001b[0m\u001b[0;34m:\u001b[0m\u001b[0;34m\u001b[0m\u001b[0m\n\u001b[1;32m    103\u001b[0m         \u001b[0mfid\u001b[0m \u001b[0;34m=\u001b[0m \u001b[0mh5f\u001b[0m\u001b[0;34m.\u001b[0m\u001b[0mopen\u001b[0m\u001b[0;34m(\u001b[0m\u001b[0mname\u001b[0m\u001b[0;34m,\u001b[0m \u001b[0mh5f\u001b[0m\u001b[0;34m.\u001b[0m\u001b[0mACC_RDWR\u001b[0m\u001b[0;34m,\u001b[0m \u001b[0mfapl\u001b[0m\u001b[0;34m=\u001b[0m\u001b[0mfapl\u001b[0m\u001b[0;34m)\u001b[0m\u001b[0;34m\u001b[0m\u001b[0m\n",
      "\u001b[0;32mh5py/_objects.pyx\u001b[0m in \u001b[0;36mh5py._objects.with_phil.wrapper (/tmp/pip-nCYoKW-build/h5py/_objects.c:2840)\u001b[0;34m()\u001b[0m\n",
      "\u001b[0;32mh5py/_objects.pyx\u001b[0m in \u001b[0;36mh5py._objects.with_phil.wrapper (/tmp/pip-nCYoKW-build/h5py/_objects.c:2798)\u001b[0;34m()\u001b[0m\n",
      "\u001b[0;32mh5py/h5f.pyx\u001b[0m in \u001b[0;36mh5py.h5f.open (/tmp/pip-nCYoKW-build/h5py/h5f.c:2117)\u001b[0;34m()\u001b[0m\n",
      "\u001b[0;31mIOError\u001b[0m: Unable to open file (Unable to open file: name = '/work/03057/zhafen/cgm_origin_data/old_cgm_origins_enrichedmetalmass_frac_snum172.hdf5', errno = 2, error message = 'no such file or directory', flags = 0, o_flags = 0)"
     ]
    }
   ],
   "source": [
    "if compare_classification_scheme:\n",
    "    \n",
    "    comparison_savefile = os.path.join(\n",
    "        file_manager.project_parameters['export_data_dir'],\n",
    "        'old_cgm_origins_{}_frac_snum{}.hdf5'.format( save_file_tags[mass_key], snum ),\n",
    "    )\n",
    "    \n",
    "    results_to_load, attributes = verdict.Dict.from_hdf5( comparison_savefile, unpack=True )\n",
    "    \n",
    "    halo_masses = results_to_load['m_vir']\n",
    "    CGM_mass_frac_comp = copy.deepcopy( results_to_load )\n",
    "    del CGM_mass_frac_comp['m_vir']"
   ]
  },
  {
   "cell_type": "code",
   "execution_count": null,
   "metadata": {},
   "outputs": [],
   "source": [
    "if compare_classification_scheme:\n",
    "    \n",
    "    comp_classifications = [\n",
    "        'is_CGM_NEP',\n",
    "        'is_CGM_IP',\n",
    "        'is_CGM_EP',\n",
    "        'is_CGM_satellite',\n",
    "        'is_in_CGM',\n",
    "    ]\n",
    "    \n",
    "    for key, comp_key in zip( classifications, comp_classifications ):\n",
    "\n",
    "        fig = plt.figure( figsize=(10,8), facecolor='w' )\n",
    "        ax = plt.gca()\n",
    "\n",
    "        ax.scatter(\n",
    "            halo_masses.array(),\n",
    "            CGM_mass_fractions[key].array(),\n",
    "            color = p_constants.CLASSIFICATION_COLORS_B[key],\n",
    "            s = 150,\n",
    "        )\n",
    "\n",
    "        ax.scatter(\n",
    "            halo_masses.array(),\n",
    "            CGM_mass_frac_comp[comp_key].array(),\n",
    "            color = p_constants.CLASSIFICATION_COLORS_B[key],\n",
    "            s = 150,\n",
    "            facecolor = 'none',\n",
    "            linewidth = 3.5,\n",
    "        )\n",
    "\n",
    "        ax.set_xscale( 'log' )\n",
    "\n",
    "        ax.set_ylim( 0, 1 )"
   ]
  },
  {
   "cell_type": "code",
   "execution_count": null,
   "metadata": {},
   "outputs": [],
   "source": []
  }
 ],
 "metadata": {
  "kernelspec": {
   "display_name": "Python 2",
   "language": "python",
   "name": "python2"
  },
  "language_info": {
   "codemirror_mode": {
    "name": "ipython",
    "version": 2
   },
   "file_extension": ".py",
   "mimetype": "text/x-python",
   "name": "python",
   "nbconvert_exporter": "python",
   "pygments_lexer": "ipython2",
   "version": "2.7.13"
  }
 },
 "nbformat": 4,
 "nbformat_minor": 2
}
