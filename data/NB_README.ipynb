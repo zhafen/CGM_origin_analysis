{
 "cells": [
  {
   "cell_type": "markdown",
   "metadata": {},
   "source": [
    "# README\n",
    "The folder containing this notebook also contains data used to produce many of the figures in Hafen+2018. This notebook clarifies what each data product is, and provides example code for reading in the data.\n",
    "\n",
    "**If you have any questions or would like data not available here,\n",
    "please contact Zach Hafen at zhafen@u.northwestern.edu.**"
   ]
  },
  {
   "cell_type": "code",
   "execution_count": 1,
   "metadata": {},
   "outputs": [
    {
     "name": "stderr",
     "output_type": "stream",
     "text": [
      "/home1/03057/zhafen/.local/lib/python2.7/site-packages/h5py/__init__.py:34: FutureWarning: Conversion of the second argument of issubdtype from `float` to `np.floating` is deprecated. In future, it will be treated as `np.float64 == np.dtype(float).type`.\n",
      "  from ._conv import register_converters as _register_converters\n"
     ]
    }
   ],
   "source": [
    "import h5py\n",
    "import numpy as np"
   ]
  },
  {
   "cell_type": "markdown",
   "metadata": {},
   "source": [
    "## Mass Budget Data\n",
    "\n",
    "Files that start with `halo_mass_content_FIRE2` contain data for Figures 2 and 3.\n",
    "\n",
    "* All masses are in units of $M_\\odot$.\n",
    "* Snapshots (600, 465, 172) correspond to redshifts (0, 0.25, 2) respectively.\n",
    "* If you forget what redshift a HDF5 file is associated with, that's also stored in the attributes, `f.attrs['redshift']`.\n",
    "* If you want to identify what sim a value is associated with, use e.g. `f['M']['total']['name'][...]`.\n",
    "* In Figures 1 and 2 the x-data is the halo mass, `f['M']['total']['m_vir'][...]`, but you could also use the stellar mass, `f['M']['stars']['m_gal'][...]`.\n",
    "* The FIRE-1 datasets are currently incomplete, but may be completed in the future."
   ]
  },
  {
   "cell_type": "code",
   "execution_count": 2,
   "metadata": {},
   "outputs": [],
   "source": [
    "# Load an example file\n",
    "f = h5py.File( 'halo_mass_content_FIRE2_snum600.hdf5', 'r' )"
   ]
  },
  {
   "cell_type": "code",
   "execution_count": 3,
   "metadata": {},
   "outputs": [],
   "source": [
    "# Baryon Masses:\n",
    "baryon_masses = {\n",
    "    'Total halo baryon mass': f['M']['total']['m_halo'][...],\n",
    "    'Total CGM gas mass': f['M']['gas']['m_cgm'][...],\n",
    "    'Total galaxy baryon mass': f['M']['total']['m_gal'][...],\n",
    "    'Total galaxy-halo interface gas mass': f['M']['gas']['m_interface'][...],\n",
    "}\n",
    "# To make Figure 1, divide these by the cosmological baryon budget, f_b*M_h,\n",
    "total_budget = f['M']['total']['m_budget_halo'][...]"
   ]
  },
  {
   "cell_type": "code",
   "execution_count": 4,
   "metadata": {},
   "outputs": [],
   "source": [
    "# Metal Masses:\n",
    "metal_masses = {\n",
    "    'Total halo metal mass': f['enriched_metal_mass']['total']['m_halo'][...],\n",
    "    'Total CGM gas metal mass': f['enriched_metal_mass']['gas']['m_cgm'][...],\n",
    "    'Total galaxy metal mass': f['enriched_metal_mass']['total']['m_gal'][...],\n",
    "    'Total galaxy-halo interface gas metal mass': f['enriched_metal_mass']['gas']['m_interface'][...],\n",
    "}\n",
    "# To make Figure 2, divide these by our estimate of the metal budget, y_box * M_star:\n",
    "# Here y_box is the yield for our simulation volume\n",
    "# (total mass of metals in the volume divided by total mass of stars in the volume)\n",
    "# and M_star is the mass of the central galaxy.\n",
    "metal_budget = f['enriched_metal_mass']['total']['m_budget_halo'][...]"
   ]
  },
  {
   "cell_type": "markdown",
   "metadata": {},
   "source": [
    "## CGM Mass Contributed by Different Origins\n",
    "\n",
    "Files matching `cgm_origins*frac*` contain data for Figures 9 and 10."
   ]
  },
  {
   "cell_type": "code",
   "execution_count": 5,
   "metadata": {},
   "outputs": [],
   "source": [
    "f = h5py.File( 'cgm_origins_mass_frac_snum465.hdf5' )"
   ]
  },
  {
   "cell_type": "code",
   "execution_count": 6,
   "metadata": {},
   "outputs": [
    {
     "data": {
      "text/plain": [
       "array([0.58984572, 0.9212662 , 0.34212539, 0.6434502 , 0.38089553,\n",
       "       0.60524637, 0.4576776 , 0.5559122 , 0.57855153, 0.45636287,\n",
       "       0.54578125, 0.63538939, 0.70268017, 0.72218126, 0.60755271,\n",
       "       0.62912339, 0.70187688, 0.54861581, 0.51560831, 0.4162769 ,\n",
       "       0.72024947])"
      ]
     },
     "execution_count": 6,
     "metadata": {},
     "output_type": "execute_result"
    }
   ],
   "source": [
    "# For example, this is the fraction of CGM mass contributed by IGM accretion.\n",
    "f['is_CGM_IGM_accretion'][...]"
   ]
  },
  {
   "cell_type": "code",
   "execution_count": 7,
   "metadata": {},
   "outputs": [
    {
     "data": {
      "text/plain": [
       "array(['m10q', 'm10v', 'm11e_md', 'm10z', 'm11v', 'm11q', 'm10y',\n",
       "       'm12r_md', 'm12f', 'm11i_md', 'm11h_md', 'm12m', 'm11a', 'm12i',\n",
       "       'm11c', 'm11b', 'm12b_md', 'm12z_md', 'm12w_md', 'm11d_md',\n",
       "       'm12c_md'], dtype='|S7')"
      ]
     },
     "execution_count": 7,
     "metadata": {},
     "output_type": "execute_result"
    }
   ],
   "source": [
    "# The simulations associated with each value are in this array\n",
    "f['name'][...]"
   ]
  },
  {
   "cell_type": "markdown",
   "metadata": {},
   "source": [
    "## Azimuthal Profile\n",
    "\n",
    "Files matching `cgm_origins_azimuthal_dep` contain data for Figures 16 and 17."
   ]
  },
  {
   "cell_type": "code",
   "execution_count": 8,
   "metadata": {},
   "outputs": [],
   "source": [
    "f = h5py.File( 'cgm_origins_azimuthal_dep_snum465.hdf5' )"
   ]
  },
  {
   "cell_type": "code",
   "execution_count": 9,
   "metadata": {},
   "outputs": [
    {
     "data": {
      "text/plain": [
       "array([0.9460289 , 0.895894  , 0.8658334 , 0.8524243 , 0.8240076 ,\n",
       "       0.82066286, 0.8222937 , 0.82958454, 0.8130362 , 0.81402725,\n",
       "       0.8139105 , 0.780781  , 0.75863016, 0.75647455, 0.75206417,\n",
       "       0.7147166 , 0.6774078 , 0.60601795, 0.6542289 , 0.6799292 ,\n",
       "       0.6525052 , 0.6365151 , 0.61208117, 0.6297597 , 0.5360156 ,\n",
       "       0.53651804, 0.6601969 , 0.63506585, 0.6955709 , 0.7201427 ,\n",
       "       0.7711705 ], dtype=float32)"
      ]
     },
     "execution_count": 9,
     "metadata": {},
     "output_type": "execute_result"
    }
   ],
   "source": [
    "# For example the following produces the green \"central-wind\" line\n",
    "# in the top-left panel of Figure 17\n",
    "\n",
    "f['cold']['is_CGM_wind']['45.0']['m12f'] [...]"
   ]
  },
  {
   "cell_type": "code",
   "execution_count": 10,
   "metadata": {},
   "outputs": [],
   "source": [
    "# These should be combined with the following array, r_rvir, for\n",
    "# the radial distance in units of r_vir (x-axis)\n",
    "\n",
    "bin_edges = np.linspace( 0.1, 1., 32 )\n",
    "r_rvir = bin_edges[:-1] + 0.5 * ( bin_edges[1] - bin_edges[0] ) "
   ]
  }
 ],
 "metadata": {
  "kernelspec": {
   "display_name": "Python 2",
   "language": "python",
   "name": "python2"
  },
  "language_info": {
   "codemirror_mode": {
    "name": "ipython",
    "version": 2
   },
   "file_extension": ".py",
   "mimetype": "text/x-python",
   "name": "python",
   "nbconvert_exporter": "python",
   "pygments_lexer": "ipython2",
   "version": "2.7.13"
  }
 },
 "nbformat": 4,
 "nbformat_minor": 2
}
