{
 "cells": [
  {
   "cell_type": "markdown",
   "metadata": {},
   "source": [
    "# README\n",
    "The folder containing this notebook also contains data used to produce many of the figures in Hafen+2018. This notebook clarifies what each data product is, and provides example code for reading in the data.\n",
    "\n",
    "**If you have any questions or would like data not available here,\n",
    "please contact Zach Hafen at zhafen@u.northwestern.edu.**"
   ]
  },
  {
   "cell_type": "code",
   "execution_count": 1,
   "metadata": {},
   "outputs": [],
   "source": [
    "import h5py\n",
    "import numpy as np"
   ]
  },
  {
   "cell_type": "markdown",
   "metadata": {},
   "source": [
    "## Mass Budget Data\n",
    "\n",
    "Files that start with `halo_mass_content_FIRE2` contain data for Figures 2 and 3.\n",
    "\n",
    "* All masses are in units of $M_\\odot$.\n",
    "* Snapshots (600, 465, 172) correspond to redshifts (0, 0.25, 2) respectively.\n",
    "* If you forget what redshift a HDF5 file is associated with, that's also stored in the attributes, `f.attrs['redshift']`.\n",
    "* If you want to identify what sim a value is associated with, use e.g. `f['M']['total']['name'][...]`.\n",
    "* In Figures 1 and 2 the x-data is the halo mass, `f['M']['total']['m_vir'][...]`, but you could also use the stellar mass, `f['M']['stars']['m_gal'][...]`.\n",
    "* The FIRE-1 datasets are currently incomplete, but may be completed in the future."
   ]
  },
  {
   "cell_type": "code",
   "execution_count": 2,
   "metadata": {},
   "outputs": [],
   "source": [
    "# Load an example file\n",
    "f = h5py.File( 'halo_mass_content_FIRE2_snum600.hdf5', 'r' )"
   ]
  },
  {
   "cell_type": "code",
   "execution_count": 3,
   "metadata": {},
   "outputs": [],
   "source": [
    "# Baryon Masses:\n",
    "baryon_masses = {\n",
    "    'Total halo baryon mass': f['M']['total']['m_halo'][...],\n",
    "    'Total CGM gas mass': f['M']['gas']['m_cgm'][...],\n",
    "    'Total galaxy baryon mass': f['M']['total']['m_gal'][...],\n",
    "    'Total galaxy-halo interface gas mass': f['M']['gas']['m_interface'][...],\n",
    "}\n",
    "# To make Figure 1, divide these by the cosmological baryon budget, f_b*M_h,\n",
    "total_budget = f['M']['total']['m_budget_halo'][...]"
   ]
  },
  {
   "cell_type": "code",
   "execution_count": 4,
   "metadata": {},
   "outputs": [],
   "source": [
    "# Metal Masses:\n",
    "metal_masses = {\n",
    "    'Total halo metal mass': f['enriched_metal_mass']['total']['m_halo'][...],\n",
    "    'Total CGM gas metal mass': f['enriched_metal_mass']['gas']['m_cgm'][...],\n",
    "    'Total galaxy metal mass': f['enriched_metal_mass']['total']['m_gal'][...],\n",
    "    'Total galaxy-halo interface gas metal mass': f['enriched_metal_mass']['gas']['m_interface'][...],\n",
    "}\n",
    "# To make Figure 2, divide these by our estimate of the metal budget, y_box * M_star:\n",
    "# Here y_box is the yield for our simulation volume\n",
    "# (total mass of metals in the volume divided by total mass of stars in the volume)\n",
    "# and M_star is the mass of the central galaxy.\n",
    "metal_budget = f['enriched_metal_mass']['total']['m_budget_halo'][...]"
   ]
  },
  {
   "cell_type": "code",
   "execution_count": 5,
   "metadata": {},
   "outputs": [
    {
     "name": "stdout",
     "output_type": "stream",
     "text": [
      "Median temperature of M_h > 1e12 Msun halos at z = 0 is 4.4e+05 K\n"
     ]
    }
   ],
   "source": [
    "# Other data, e.g. temperatures in Kelvin\n",
    "halo_mass_above_m12 = f['M']['total']['m_vir'][...] > 1e12\n",
    "temps_m12 = f['T']['T_CGM_median'][...][halo_mass_above_m12]\n",
    "print(\n",
    "    'Median temperature of M_h > 1e12 Msun halos at z = {:.3g} is {:.2g} K'.format(\n",
    "        f.attrs['redshift' ],\n",
    "        np.median( temps_m12 ),\n",
    "    )\n",
    ")"
   ]
  },
  {
   "cell_type": "markdown",
   "metadata": {},
   "source": [
    "## CGM Mass Contributed by Different Origins\n",
    "\n",
    "Files matching `cgm_origins*frac*` contain data for Figures 9 and 10."
   ]
  },
  {
   "cell_type": "code",
   "execution_count": 6,
   "metadata": {},
   "outputs": [],
   "source": [
    "f = h5py.File( 'cgm_origins_mass_frac_snum465.hdf5' )"
   ]
  },
  {
   "cell_type": "code",
   "execution_count": 7,
   "metadata": {},
   "outputs": [
    {
     "data": {
      "text/plain": [
       "array([0.58984572, 0.9212662 , 0.34212539, 0.6434502 , 0.38089553,\n",
       "       0.60524637, 0.4576776 , 0.5559122 , 0.57855153, 0.45636287,\n",
       "       0.54578125, 0.63538939, 0.70268017, 0.72218126, 0.60755271,\n",
       "       0.62912339, 0.70187688, 0.54861581, 0.51560831, 0.4162769 ,\n",
       "       0.72024947])"
      ]
     },
     "execution_count": 7,
     "metadata": {},
     "output_type": "execute_result"
    }
   ],
   "source": [
    "# For example, this is the fraction of CGM mass contributed by IGM accretion.\n",
    "f['is_CGM_IGM_accretion'][...]"
   ]
  },
  {
   "cell_type": "code",
   "execution_count": 8,
   "metadata": {},
   "outputs": [
    {
     "data": {
      "text/plain": [
       "array([b'm10q', b'm10v', b'm11e_md', b'm10z', b'm11v', b'm11q', b'm10y',\n",
       "       b'm12r_md', b'm12f', b'm11i_md', b'm11h_md', b'm12m', b'm11a',\n",
       "       b'm12i', b'm11c', b'm11b', b'm12b_md', b'm12z_md', b'm12w_md',\n",
       "       b'm11d_md', b'm12c_md'], dtype='|S7')"
      ]
     },
     "execution_count": 8,
     "metadata": {},
     "output_type": "execute_result"
    }
   ],
   "source": [
    "# The simulations associated with each value are in this array\n",
    "f['name'][...]"
   ]
  },
  {
   "cell_type": "markdown",
   "metadata": {},
   "source": [
    "## Azimuthal Profiles\n",
    "\n",
    "Files matching `cgm_origins_azimuthal_dep` contain data for Figures 16 and 17."
   ]
  },
  {
   "cell_type": "code",
   "execution_count": 9,
   "metadata": {},
   "outputs": [],
   "source": [
    "f = h5py.File( 'cgm_origins_azimuthal_dep_snum465.hdf5' )"
   ]
  },
  {
   "cell_type": "code",
   "execution_count": 10,
   "metadata": {},
   "outputs": [
    {
     "data": {
      "text/plain": [
       "array([0.9460289 , 0.895894  , 0.8658334 , 0.8524243 , 0.8240076 ,\n",
       "       0.82066286, 0.8222937 , 0.82958454, 0.8130362 , 0.81402725,\n",
       "       0.8139105 , 0.780781  , 0.75863016, 0.75647455, 0.75206417,\n",
       "       0.7147166 , 0.6774078 , 0.60601795, 0.6542289 , 0.6799292 ,\n",
       "       0.6525052 , 0.6365151 , 0.61208117, 0.6297597 , 0.5360156 ,\n",
       "       0.53651804, 0.6601969 , 0.63506585, 0.6955709 , 0.7201427 ,\n",
       "       0.7711705 ], dtype=float32)"
      ]
     },
     "execution_count": 10,
     "metadata": {},
     "output_type": "execute_result"
    }
   ],
   "source": [
    "# For example the following produces the green \"central-wind\" line\n",
    "# in the top-left panel of Figure 17\n",
    "\n",
    "f['cold']['is_CGM_wind']['45.0']['m12f'] [...]"
   ]
  },
  {
   "cell_type": "code",
   "execution_count": 11,
   "metadata": {},
   "outputs": [],
   "source": [
    "# These should be combined with the following array, r_rvir, for\n",
    "# the radial distance in units of r_vir (x-axis)\n",
    "\n",
    "bin_edges = np.linspace( 0.1, 1., 32 )\n",
    "r_rvir = bin_edges[:-1] + 0.5 * ( bin_edges[1] - bin_edges[0] ) "
   ]
  },
  {
   "cell_type": "markdown",
   "metadata": {},
   "source": [
    "## Radial Profiles\n",
    "\n",
    "Files matching `radial_profiles` contain data for Figures 15 and 19."
   ]
  },
  {
   "cell_type": "code",
   "execution_count": 12,
   "metadata": {},
   "outputs": [],
   "source": [
    "f = h5py.File( 'radial_profiles_snum465.hdf5' )"
   ]
  },
  {
   "cell_type": "code",
   "execution_count": 13,
   "metadata": {},
   "outputs": [
    {
     "data": {
      "text/plain": [
       "KeysView(<HDF5 file \"radial_profiles_snum465.hdf5\" (mode r+)>)"
      ]
     },
     "execution_count": 13,
     "metadata": {},
     "output_type": "execute_result"
    }
   ],
   "source": [
    "f.keys()"
   ]
  },
  {
   "cell_type": "markdown",
   "metadata": {},
   "source": [
    "These files contain data on the total Hydrogen density as a function of radius (`density`) and the metallicity as a function of radius (`metallicity`; in units of Z_sun = 0.02)."
   ]
  },
  {
   "cell_type": "code",
   "execution_count": 14,
   "metadata": {},
   "outputs": [
    {
     "data": {
      "text/plain": [
       "array([9.30533099e-04, 6.41579961e-04, 4.95163757e-04, 4.43630537e-04,\n",
       "       3.60100384e-04, 2.92762527e-04, 2.43099642e-04, 2.30154656e-04,\n",
       "       2.15201859e-04, 1.94786931e-04, 1.82113649e-04, 1.63687796e-04,\n",
       "       1.42777198e-04, 1.19645404e-04, 1.07284715e-04, 1.00984534e-04,\n",
       "       9.38372980e-05, 8.91469974e-05, 9.23640469e-05, 9.11527480e-05,\n",
       "       9.04047979e-05, 7.52967836e-05, 6.94376596e-05, 6.43239582e-05,\n",
       "       5.72735503e-05, 5.16483200e-05, 4.76873528e-05, 4.42105642e-05,\n",
       "       4.13986095e-05, 4.14022385e-05, 3.71555834e-05, 3.47797992e-05,\n",
       "       3.30401052e-05, 3.13601432e-05, 2.92170023e-05, 2.87635497e-05,\n",
       "       3.05915059e-05, 2.92891661e-05, 2.51178484e-05, 2.27307994e-05,\n",
       "       2.13850536e-05, 2.03244352e-05, 1.98040776e-05, 1.87235000e-05,\n",
       "       1.78731149e-05, 1.73146049e-05, 1.65467400e-05, 1.59499400e-05,\n",
       "       1.54404184e-05, 1.51493965e-05, 1.46618966e-05, 1.40681888e-05,\n",
       "       1.35931905e-05, 1.30576148e-05, 1.25998715e-05, 1.22427242e-05,\n",
       "       1.18003534e-05, 1.14973959e-05, 1.14967179e-05, 1.18259882e-05,\n",
       "       1.21179748e-05, 1.14056518e-05, 1.06015290e-05])"
      ]
     },
     "execution_count": 14,
     "metadata": {},
     "output_type": "execute_result"
    }
   ],
   "source": [
    "# For example, this is the volume weighted mean density for Mh = 1e12 Msun progenitors\n",
    "# for all gas in the CGM (i.e. without separating out origins)\n",
    "f['density']['m12']['is_in_CGM']['volume_weighted_mean'][...]"
   ]
  },
  {
   "cell_type": "code",
   "execution_count": 15,
   "metadata": {},
   "outputs": [
    {
     "data": {
      "text/plain": [
       "array([0.1071567 , 0.12144219, 0.13572768, 0.15001317, 0.16429867,\n",
       "       0.17858416, 0.19286965, 0.20715515, 0.22144064, 0.23572613,\n",
       "       0.25001162, 0.26429712, 0.27858261, 0.2928681 , 0.3071536 ,\n",
       "       0.32143909, 0.33572458, 0.35001007, 0.36429557, 0.37858106,\n",
       "       0.39286655, 0.40715205, 0.42143754, 0.43572303, 0.45000852,\n",
       "       0.46429402, 0.47857951, 0.492865  , 0.5071505 , 0.52143599,\n",
       "       0.53572148, 0.55000697, 0.56429247, 0.57857796, 0.59286345,\n",
       "       0.60714895, 0.62143444, 0.63571993, 0.65000542, 0.66429092,\n",
       "       0.67857641, 0.6928619 , 0.7071474 , 0.72143289, 0.73571838,\n",
       "       0.75000387, 0.76428937, 0.77857486, 0.79286035, 0.80714585,\n",
       "       0.82143134, 0.83571683, 0.85000232, 0.86428782, 0.87857331,\n",
       "       0.8928588 , 0.9071443 , 0.92142979, 0.93571528, 0.95000077,\n",
       "       0.96428627, 0.97857176, 0.99285725])"
      ]
     },
     "execution_count": 15,
     "metadata": {},
     "output_type": "execute_result"
    }
   ],
   "source": [
    "# These are the corresponding x-values (in units of Rvir) for the above array\n",
    "f['density']['m12']['is_in_CGM']['x_values'][...]"
   ]
  },
  {
   "cell_type": "code",
   "execution_count": 16,
   "metadata": {},
   "outputs": [
    {
     "data": {
      "text/plain": [
       "0.25099599"
      ]
     },
     "execution_count": 16,
     "metadata": {},
     "output_type": "execute_result"
    }
   ],
   "source": [
    "# As mentioned above, the redshift is stored in the attributes\n",
    "f.attrs['redshift']"
   ]
  },
  {
   "cell_type": "code",
   "execution_count": null,
   "metadata": {},
   "outputs": [],
   "source": []
  }
 ],
 "metadata": {
  "kernelspec": {
   "display_name": "Python 3",
   "language": "python",
   "name": "python3"
  },
  "language_info": {
   "codemirror_mode": {
    "name": "ipython",
    "version": 3
   },
   "file_extension": ".py",
   "mimetype": "text/x-python",
   "name": "python",
   "nbconvert_exporter": "python",
   "pygments_lexer": "ipython3",
   "version": "3.7.1"
  }
 },
 "nbformat": 4,
 "nbformat_minor": 2
}
