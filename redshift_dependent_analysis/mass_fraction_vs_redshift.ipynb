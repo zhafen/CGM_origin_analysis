{
 "cells": [
  {
   "cell_type": "code",
   "execution_count": 1,
   "metadata": {
    "collapsed": false
   },
   "outputs": [
    {
     "name": "stderr",
     "output_type": "stream",
     "text": [
      "/home1/03057/zhafen/.local/lib/python2.7/site-packages/h5py/__init__.py:34: FutureWarning: Conversion of the second argument of issubdtype from `float` to `np.floating` is deprecated. In future, it will be treated as `np.float64 == np.dtype(float).type`.\n",
      "  from ._conv import register_converters as _register_converters\n"
     ]
    }
   ],
   "source": [
    "import copy\n",
    "import h5py\n",
    "import numpy as np\n",
    "import pandas as pd\n",
    "import sys"
   ]
  },
  {
   "cell_type": "code",
   "execution_count": 2,
   "metadata": {
    "collapsed": true
   },
   "outputs": [],
   "source": [
    "import matplotlib\n",
    "matplotlib.use( 'PDF' )\n",
    "import matplotlib.pyplot as plt\n",
    "import matplotlib.gridspec as gridspec"
   ]
  },
  {
   "cell_type": "code",
   "execution_count": 3,
   "metadata": {
    "collapsed": true
   },
   "outputs": [],
   "source": [
    "import linefinder.analyze_data.worldlines as a_worldlines\n",
    "import linefinder.analyze_data.plot_worldlines as p_worldlines\n",
    "import linefinder.analyze_data.worldline_set as a_worldline_set"
   ]
  },
  {
   "cell_type": "code",
   "execution_count": 4,
   "metadata": {
    "collapsed": true
   },
   "outputs": [],
   "source": [
    "import linefinder.utils.presentation_constants as p_constants\n",
    "import linefinder.utils.file_management as file_management\n",
    "import linefinder.config as config"
   ]
  },
  {
   "cell_type": "code",
   "execution_count": 5,
   "metadata": {
    "collapsed": true
   },
   "outputs": [],
   "source": [
    "import galaxy_dive.read_data.metafile as read_metafile\n",
    "import galaxy_dive.analyze_data.ahf as analyze_ahf\n",
    "import galaxy_dive.plot_data.plotting as plotting\n",
    "import galaxy_dive.utils.astro as astro_utils"
   ]
  },
  {
   "cell_type": "code",
   "execution_count": 6,
   "metadata": {},
   "outputs": [],
   "source": [
    "import analysis_config as analysis_config"
   ]
  },
  {
   "cell_type": "code",
   "execution_count": 7,
   "metadata": {},
   "outputs": [],
   "source": [
    "import colossus.cosmology.cosmology as co_cosmology"
   ]
  },
  {
   "cell_type": "markdown",
   "metadata": {},
   "source": [
    "# Load Data and Set Paramters"
   ]
  },
  {
   "cell_type": "code",
   "execution_count": 8,
   "metadata": {},
   "outputs": [],
   "source": [
    "file_manager = file_management.FileManager( project='CGM_origin' )"
   ]
  },
  {
   "cell_type": "code",
   "execution_count": 9,
   "metadata": {
    "collapsed": true
   },
   "outputs": [],
   "source": [
    "if sys.argv[1] == 'use_commandline':\n",
    "    sim_name = sys.argv[2]\n",
    "else:\n",
    "    sim_name = 'm11q'"
   ]
  },
  {
   "cell_type": "code",
   "execution_count": 10,
   "metadata": {},
   "outputs": [],
   "source": [
    "if sys.argv[1] == 'use_commandline':\n",
    "    galdef = sys.argv[3]\n",
    "else:\n",
    "    galdef = '_galdefv3'"
   ]
  },
  {
   "cell_type": "code",
   "execution_count": 11,
   "metadata": {},
   "outputs": [],
   "source": [
    "if sys.argv[1] == 'use_commandline':\n",
    "    do_calculation = bool( int( sys.argv[4] ) )\n",
    "else:\n",
    "    do_calculation = False"
   ]
  },
  {
   "cell_type": "code",
   "execution_count": 12,
   "metadata": {},
   "outputs": [
    {
     "name": "stdout",
     "output_type": "stream",
     "text": [
      "False\n"
     ]
    }
   ],
   "source": [
    "print do_calculation"
   ]
  },
  {
   "cell_type": "code",
   "execution_count": 13,
   "metadata": {},
   "outputs": [
    {
     "name": "stdout",
     "output_type": "stream",
     "text": [
      "('m11q', '_galdefv3')\n"
     ]
    }
   ],
   "source": [
    "print( sim_name, galdef )"
   ]
  },
  {
   "cell_type": "code",
   "execution_count": 14,
   "metadata": {
    "collapsed": true
   },
   "outputs": [],
   "source": [
    "ahf_index = 600"
   ]
  },
  {
   "cell_type": "code",
   "execution_count": 15,
   "metadata": {},
   "outputs": [],
   "source": [
    "variations = {}\n",
    "for snum in analysis_config.SNUMS:\n",
    "    \n",
    "    variations[snum] = {}\n",
    "\n",
    "    ptracks_tag_tail = '_CGM_snum{}'.format( snum )\n",
    "    tag_tail = '{}{}'.format( ptracks_tag_tail, galdef )\n",
    "    \n",
    "    variations[snum] = file_manager.get_linefinder_analysis_defaults(\n",
    "        tag_tail = tag_tail,\n",
    "        ptracks_tag_tail = ptracks_tag_tail,\n",
    "        ids_tag_tail = ptracks_tag_tail,\n",
    "        sim_name = sim_name,\n",
    "        ahf_index = ahf_index,\n",
    "    )"
   ]
  },
  {
   "cell_type": "code",
   "execution_count": 16,
   "metadata": {},
   "outputs": [],
   "source": [
    "defaults = file_manager.get_linefinder_analysis_defaults(\n",
    "    sim_name = sim_name,\n",
    "    tag_tail = tag_tail,\n",
    ")"
   ]
  },
  {
   "cell_type": "code",
   "execution_count": 17,
   "metadata": {
    "collapsed": true
   },
   "outputs": [],
   "source": [
    "metafile_dir = file_manager.get_metafile_dir( sim_name )"
   ]
  },
  {
   "cell_type": "code",
   "execution_count": 18,
   "metadata": {},
   "outputs": [],
   "source": [
    "save_file_base = '{}_CGM_redshift_mass_fraction{}'.format( sim_name, galdef )"
   ]
  },
  {
   "cell_type": "code",
   "execution_count": 19,
   "metadata": {
    "collapsed": false
   },
   "outputs": [],
   "source": [
    "output_filepath = './{}.hdf5'.format( save_file_base )"
   ]
  },
  {
   "cell_type": "code",
   "execution_count": 20,
   "metadata": {},
   "outputs": [],
   "source": [
    "mass_save_file_base = '{}_CGM_redshift_mass{}'.format( sim_name, galdef )"
   ]
  },
  {
   "cell_type": "code",
   "execution_count": 21,
   "metadata": {},
   "outputs": [],
   "source": [
    "mass_output_filepath = './{}.hdf5'.format( mass_save_file_base )"
   ]
  },
  {
   "cell_type": "code",
   "execution_count": 22,
   "metadata": {
    "collapsed": false
   },
   "outputs": [],
   "source": [
    "w_set = a_worldline_set.WorldlineSet( defaults, variations )"
   ]
  },
  {
   "cell_type": "code",
   "execution_count": 23,
   "metadata": {},
   "outputs": [],
   "source": [
    "classification_list = copy.copy( p_constants.CLASSIFICATIONS_CGM_ORIGIN )"
   ]
  },
  {
   "cell_type": "markdown",
   "metadata": {},
   "source": [
    "# Actual Calculation"
   ]
  },
  {
   "cell_type": "code",
   "execution_count": 24,
   "metadata": {
    "collapsed": false
   },
   "outputs": [],
   "source": [
    "CGM_cut = w_set.values()[0].data_object.ids.data_filters['CGM']\n",
    "r_min = CGM_cut['data_min']\n",
    "r_max = CGM_cut['data_max']\n",
    "radial_bins = np.array([ r_min, 0.5, r_max ])\n",
    "# dr = 0.25\n",
    "# radial_bins = np.linspace( r_min, r_max, 4 )"
   ]
  },
  {
   "cell_type": "code",
   "execution_count": null,
   "metadata": {},
   "outputs": [],
   "source": [
    "# Total Mass\n",
    "if do_calculation:\n",
    "    w_set.store_redshift_dependent_quantity(\n",
    "        output_filepath = mass_output_filepath,\n",
    "        max_snum = ahf_index,\n",
    "        selection_routine = 'in_CGM',\n",
    "        classification_list = p_constants.CLASSIFICATIONS_CGM_ORIGIN,\n",
    "        quantity_method = 'get_categories_selected_quantity_extrapolated',\n",
    "        selected_quantity_method = 'get_selected_quantity_radial_bins',\n",
    "        radial_bins = radial_bins,\n",
    "        ptype = 'gas',\n",
    "        low_memory_mode = True,\n",
    "    )"
   ]
  },
  {
   "cell_type": "markdown",
   "metadata": {},
   "source": [
    "# Fractional Mass\n",
    "if do_calculation:\n",
    "    w_set.store_redshift_dependent_quantity(\n",
    "        output_filepath = output_filepath,\n",
    "        max_snum = ahf_index,\n",
    "        selection_routine = 'in_CGM',\n",
    "        classification_list = p_constants.CLASSIFICATIONS_CGM_ORIGIN,\n",
    "        selected_quantity_method = 'get_selected_quantity_radial_bins',\n",
    "        radial_bins = radial_bins,\n",
    "        ptype = 'gas',\n",
    "        low_memory_mode = True,\n",
    "        normalization_category = 'is_in_CGM',\n",
    "    )"
   ]
  },
  {
   "cell_type": "code",
   "execution_count": 26,
   "metadata": {},
   "outputs": [],
   "source": [
    "if do_calculation:\n",
    "    with h5py.File( output_filepath, 'a' ) as f:\n",
    "        for key, item in w_set.items()[0][1].data_object.ptracks.data_attrs.items():\n",
    "            f.attrs[key] = item"
   ]
  },
  {
   "cell_type": "markdown",
   "metadata": {},
   "source": [
    "# Plot Data\n"
   ]
  },
  {
   "cell_type": "markdown",
   "metadata": {},
   "source": [
    "### Get age of universe"
   ]
  },
  {
   "cell_type": "code",
   "execution_count": 27,
   "metadata": {
    "collapsed": false
   },
   "outputs": [],
   "source": [
    "f = h5py.File( output_filepath, 'r' )"
   ]
  },
  {
   "cell_type": "code",
   "execution_count": 28,
   "metadata": {
    "collapsed": false
   },
   "outputs": [],
   "source": [
    "g = h5py.File( mass_output_filepath, 'r' )"
   ]
  },
  {
   "cell_type": "code",
   "execution_count": 29,
   "metadata": {},
   "outputs": [],
   "source": [
    "snums = f['snum'][...].copy()\n",
    "snums.sort()"
   ]
  },
  {
   "cell_type": "code",
   "execution_count": 30,
   "metadata": {},
   "outputs": [],
   "source": [
    "metafile_reader = read_metafile.MetafileReader( metafile_dir )\n",
    "\n",
    "metafile_reader.get_snapshot_times()\n",
    "\n",
    "# Get redshifts and age of universe\n",
    "redshift = metafile_reader.snapshot_times.loc[snums]['redshift'].values\n",
    "age_of_universe = astro_utils.age_of_universe(\n",
    "    redshift,\n",
    "    h=f.attrs['hubble'],\n",
    "    omega_matter=f.attrs['omega_matter']\n",
    ")"
   ]
  },
  {
   "cell_type": "markdown",
   "metadata": {},
   "source": [
    "### Get the baryonic budgets"
   ]
  },
  {
   "cell_type": "code",
   "execution_count": 31,
   "metadata": {},
   "outputs": [],
   "source": [
    "ahf_data = analyze_ahf.HaloData( data_dir=defaults['halo_data_dir'], index=defaults['ahf_index'], tag='smooth' )"
   ]
  },
  {
   "cell_type": "code",
   "execution_count": 32,
   "metadata": {},
   "outputs": [],
   "source": [
    "halo_masses = ahf_data.get_mt_data(\n",
    "    'Mvir',\n",
    "    mt_halo_id = defaults['main_halo_id'],\n",
    ")/f.attrs['hubble']"
   ]
  },
  {
   "cell_type": "code",
   "execution_count": 33,
   "metadata": {},
   "outputs": [],
   "source": [
    "redshifts = ahf_data.get_mt_data( 'redshift', mt_halo_id=defaults['main_halo_id'] )"
   ]
  },
  {
   "cell_type": "code",
   "execution_count": 34,
   "metadata": {},
   "outputs": [],
   "source": [
    "metafile_reader.get_used_parameters()"
   ]
  },
  {
   "cell_type": "code",
   "execution_count": 35,
   "metadata": {},
   "outputs": [],
   "source": [
    "# Setup the cosmology used by the simulations                                   \n",
    "sim_cosmo = {                                                                   \n",
    "    'flat': True,                                                                 \n",
    "    'H0' : float( metafile_reader.used_parameters['HubbleParam'] )*100.,          \n",
    "    'Om0' : float( metafile_reader.used_parameters['Omega0'] ),                   \n",
    "    'Ob0' : float( metafile_reader.used_parameters['OmegaBaryon'] ),              \n",
    "    'sigma8' : co_cosmology.cosmologies['WMAP9']['sigma8'], # Use WMAP9 for values we don't store in our simulations explicitly.\n",
    "    'ns' : co_cosmology.cosmologies['WMAP9']['ns'], # Use WMAP9 for values we don't store in our simulations explicitly.\n",
    "}                                                                               \n",
    "cosmo = co_cosmology.setCosmology( 'sim_cosmo', sim_cosmo ) "
   ]
  },
  {
   "cell_type": "code",
   "execution_count": 36,
   "metadata": {},
   "outputs": [],
   "source": [
    "omega_baryon = cosmo.Ob( redshifts )"
   ]
  },
  {
   "cell_type": "code",
   "execution_count": 37,
   "metadata": {},
   "outputs": [],
   "source": [
    "omega_matter = cosmo.Om( redshifts )"
   ]
  },
  {
   "cell_type": "code",
   "execution_count": 38,
   "metadata": {},
   "outputs": [],
   "source": [
    "m_budget = ( omega_baryon/omega_matter ) * halo_masses"
   ]
  },
  {
   "cell_type": "code",
   "execution_count": 39,
   "metadata": {},
   "outputs": [],
   "source": [
    "detailed_age_of_universe = astro_utils.age_of_universe(\n",
    "    redshifts,\n",
    "    h=f.attrs['hubble'],\n",
    "    omega_matter=f.attrs['omega_matter']\n",
    ")"
   ]
  },
  {
   "cell_type": "markdown",
   "metadata": {},
   "source": [
    "### Load saved data"
   ]
  },
  {
   "cell_type": "code",
   "execution_count": 40,
   "metadata": {},
   "outputs": [],
   "source": [
    "def get_data_from_file( f, sl=None, sum_across=False, include_total=False ):\n",
    "    \n",
    "    # Load data\n",
    "    data = {}\n",
    "    for key in f.keys():\n",
    "        if key in [ 'label', 'snum' ]:\n",
    "            data[key] = f[key][...]\n",
    "        else:\n",
    "            if sum_across:\n",
    "                data[key] = f[key][...].sum( axis=1 )\n",
    "            else:\n",
    "                data[key] = f[key][...][sl]\n",
    "                \n",
    "    if include_total:\n",
    "        for key in data.keys():\n",
    "            if key not in [ 'label', 'snum' ]:\n",
    "                try:\n",
    "                    data[None] += data[key]\n",
    "                except KeyError:\n",
    "                    data[None] = data[key].copy()\n",
    "            \n",
    "    # Get data sorted\n",
    "    df = pd.DataFrame( data )\n",
    "    df = df.set_index( 'snum' )\n",
    "    df = df.sort_index()\n",
    "    \n",
    "    return df"
   ]
  },
  {
   "cell_type": "code",
   "execution_count": 41,
   "metadata": {
    "collapsed": false
   },
   "outputs": [],
   "source": [
    "def fraction_plot( ax, plotted_ind, *args, **kwargs ):\n",
    "\n",
    "    df = get_data_from_file( f, (slice(None), plotted_ind) )\n",
    "\n",
    "    ### Format y data\n",
    "\n",
    "    y_datas = {}\n",
    "    for key in classification_list:\n",
    "        if key not in [ 'label', 'snum' ]:\n",
    "            y_datas[key] = df[key].values\n",
    "\n",
    "    ### Plot Itself\n",
    "\n",
    "    # We don't have a data object, so we just pass None\n",
    "    w_plotter = p_worldlines.WorldlinesPlotter( None, label=None )\n",
    "    \n",
    "    label_kwargs = {                                                            \n",
    "        'xy': (0.95, 0.8),                                                     \n",
    "        'xycoords': 'axes fraction',                                        \n",
    "        'fontsize': 22,\n",
    "        'ha' : 'right',\n",
    "    }\n",
    "    \n",
    "#     if plotted_ind != 0:\n",
    "#         twin_redshift = False\n",
    "#     else:\n",
    "#         twin_redshift = True\n",
    "\n",
    "    w_plotter.plot_stacked_time_dependent_data(\n",
    "        ax = ax,\n",
    "        x_data = age_of_universe,\n",
    "        y_datas = y_datas,\n",
    "        classification_list = classification_list,\n",
    "#         x_range = [ x_data.min(), np.log10( 1. + 3. ) ],\n",
    "        y_label = r'f($M_{\\rm CGM}$)',\n",
    "        tick_redshifts = np.array( [ 0.1, 0.25, 0.4, 0.5, 0.75, 1, 1.5,  2, 2.5, 3, 4, 5, ] ),\n",
    "        time_x_axis = True,\n",
    "        twin_redshift = False,\n",
    "        label_kwargs = label_kwargs,\n",
    "        hubble = f.attrs['hubble'],\n",
    "        omega_matter = f.attrs['omega_matter'],\n",
    "        x_range = [ age_of_universe.min(), age_of_universe.max() ],\n",
    "        *args, **kwargs\n",
    "    )\n",
    "    \n",
    "    # Avoid overlapping ticks\n",
    "    ax.get_yticklabels()[0].set_verticalalignment( 'bottom' )\n",
    "    ax.get_yticklabels()[-1].set_verticalalignment( 'top' )\n",
    "        \n",
    "    # Adjust tick parameters\n",
    "    ax.tick_params( direction='in', which='bottom', top=True, )\n",
    "    \n",
    "    # Hide labels\n",
    "#     if plotted_ind != 2:\n",
    "#         ax.tick_params( labelbottom = False )\n",
    "#     if plotted_ind == 0:\n",
    "#         ax.tick_params( labeltop = True )"
   ]
  },
  {
   "cell_type": "code",
   "execution_count": 42,
   "metadata": {
    "collapsed": false
   },
   "outputs": [],
   "source": [
    "# For the plot label\n",
    "dr = radial_bins[1] - radial_bins[0]\n",
    "\n",
    "def plot_label( r_start, r_end ):\n",
    "    return r'{}'.format( r_start ) + r'$<R/R_{{\\rm vir}}<$' + r'{}'.format(  r_end )"
   ]
  },
  {
   "cell_type": "code",
   "execution_count": 43,
   "metadata": {
    "collapsed": false
   },
   "outputs": [
    {
     "name": "stderr",
     "output_type": "stream",
     "text": [
      "/home1/03057/zhafen/repos/linefinder/linefinder/analyze_data/plot_worldlines.py:297: FutureWarning: elementwise comparison failed; returning scalar instead, but in the future will perform elementwise comparison\n",
      "  if x_data == 'get_redshift':\n"
     ]
    },
    {
     "name": "stdout",
     "output_type": "stream",
     "text": [
      "File saved at /home1/03057/zhafen/repos/CGM_origin/figures/m11q_CGM_redshift_mass_fraction_galdefv3.pdf\n"
     ]
    },
    {
     "data": {
      "image/png": "[encoded data removed]",
      "text/plain": [
       "<matplotlib.figure.Figure at 0x2acbdd7fa310>"
      ]
     },
     "metadata": {},
     "output_type": "display_data"
    }
   ],
   "source": [
    "fig = plt.figure( figsize=(10,10) )\n",
    "main_ax = plt.gca()\n",
    "\n",
    "gs = gridspec.GridSpec(3, 1)\n",
    "\n",
    "ax0 = plt.subplot( gs[0,0])\n",
    "\n",
    "gs.update(wspace=0.025, hspace=0.0001)\n",
    "\n",
    "df = get_data_from_file( g, sum_across=True, include_total=True )\n",
    "\n",
    "y_datas = {}\n",
    "for key in df.keys():\n",
    "    if key not in [ 'label', 'snum' ]:\n",
    "        y_datas[key] = df[key].values\n",
    "\n",
    "plotted_total_categories = copy.copy( p_constants.CLASSIFICATIONS_CGM_ORIGIN )\n",
    "plotted_total_categories.append( None )\n",
    "\n",
    "# Make the plots\n",
    "for classification in plotted_total_categories:\n",
    "    ax0.plot(\n",
    "        age_of_universe,\n",
    "        y_datas[classification],\n",
    "        color = p_constants.CLASSIFICATION_COLORS_B[classification],\n",
    "        linewidth = 3.5,\n",
    "    )\n",
    "    \n",
    "# Plot baryon budget\n",
    "ax0.plot(\n",
    "    detailed_age_of_universe,\n",
    "    m_budget,\n",
    "    linewidth = 3.5,\n",
    "    linestyle = '--',\n",
    "    color = 'k',\n",
    ")\n",
    "\n",
    "# Loop through again to tweak axes\n",
    "for i in range( len(radial_bins ) ):\n",
    "    \n",
    "    ax = plt.subplot( gs[i,0] )\n",
    "     \n",
    "    # First row tweaks\n",
    "    if ax.is_first_row():\n",
    "        ax.set_yscale( 'log' )\n",
    "        ax.set_ylabel( r'$M_{\\rm CGM}$ $(M_\\odot)$', fontsize=22 )               \n",
    "        \n",
    "    # Tweak limits\n",
    "    ax.set_xlim( age_of_universe.min(), age_of_universe.max() )\n",
    "    ax.set_ylim( [df['is_CGM_EP'].min(), m_budget.max() ] )\n",
    "\n",
    "    # Add a second axis for plotting                                    \n",
    "    ax2 = plotting.add_redshift_to_axis(\n",
    "        ax,\n",
    "        hubble = f.attrs['hubble'],\n",
    "        omega_matter = f.attrs['omega_matter'],\n",
    "    )                            \n",
    "    if ax.is_first_row():\n",
    "        ax2.set_xlabel( r'z', fontsize=22, labelpad=10 )  \n",
    "    \n",
    "        # Change tick orientation\n",
    "    ax.tick_params( direction='in' )\n",
    "    ax2.tick_params( direction='in' )\n",
    "    \n",
    "    # Hide overlapping labels\n",
    "    if not ax.is_first_row():\n",
    "        ax2.xaxis.set_ticklabels([])\n",
    "    if not ax.is_last_col():\n",
    "        ax.xaxis.set_ticklabels([])\n",
    "    \n",
    "    # Make fraction plots. Has to be done here for some stupid reason.\n",
    "    # Totally not frustrated. Nope.\n",
    "    if not ax.is_first_row():\n",
    "            \n",
    "        fraction_plot(\n",
    "            ax,\n",
    "            i-1,\n",
    "            add_legend = ax.is_last_row(),\n",
    "            legend_kwargs = {\n",
    "                'loc' : 'center',\n",
    "                'bbox_to_anchor' : ( 0.5, -0.4 ),\n",
    "                'ncol' : 4,\n",
    "            },\n",
    "            label = plot_label( radial_bins[i-1], radial_bins[i] ),\n",
    "        )\n",
    "            \n",
    "save_file = '{}.pdf'.format( save_file_base )\n",
    "\n",
    "plotting.save_fig(\n",
    "    out_dir = file_manager.get_project_figure_dir(),\n",
    "    save_file = save_file,\n",
    "    fig = fig,\n",
    ")"
   ]
  },
  {
   "cell_type": "markdown",
   "metadata": {},
   "source": [
    "# Analysis"
   ]
  },
  {
   "cell_type": "code",
   "execution_count": 44,
   "metadata": {},
   "outputs": [],
   "source": [
    "import os\n",
    "\n",
    "import galaxy_dive.utils.utilities as utilities\n",
    "\n",
    "import py2tex.py2tex as py2tex"
   ]
  },
  {
   "cell_type": "code",
   "execution_count": 45,
   "metadata": {},
   "outputs": [],
   "source": [
    "tex_filepath = os.path.join( file_manager.project_parameters['project_dir'], 'variables.tex' )"
   ]
  },
  {
   "cell_type": "code",
   "execution_count": 46,
   "metadata": {},
   "outputs": [],
   "source": [
    "tex_file = py2tex.TeXVariableFile( tex_filepath )"
   ]
  },
  {
   "cell_type": "code",
   "execution_count": 47,
   "metadata": {},
   "outputs": [],
   "source": [
    "# Used for variable names\n",
    "mass_bin = config.MASS_BINS[sim_name]\n",
    "halo_mass_names = {\n",
    "    'm10' : 'dwarf',\n",
    "    'm11' : 'subMW',\n",
    "    'm12' : 'MW',\n",
    "}\n",
    "halo_mass_name = '{}{}'.format( halo_mass_names[mass_bin], sim_name.split('_')[0][-1])"
   ]
  },
  {
   "cell_type": "markdown",
   "metadata": {},
   "source": [
    "### Total Mass"
   ]
  },
  {
   "cell_type": "code",
   "execution_count": 48,
   "metadata": {},
   "outputs": [],
   "source": [
    "df['redshift'] = redshift"
   ]
  },
  {
   "cell_type": "code",
   "execution_count": 49,
   "metadata": {},
   "outputs": [
    {
     "name": "stdout",
     "output_type": "stream",
     "text": [
      "Saving 10^{9} as evolutionMminsubMWq\n"
     ]
    }
   ],
   "source": [
    "tex_file.save_variable(\n",
    "    'evolutionMmin{}'.format( halo_mass_name ),\n",
    "    py2tex.to_tex_scientific_notation( df[None].min(), 1 )\n",
    ")"
   ]
  },
  {
   "cell_type": "markdown",
   "metadata": {},
   "source": [
    "`peak_snum` here is the snapshot at which the mass first approximately hits its peak value. Across multiple simulations, this seems to be snapshot 277, so we set it as such."
   ]
  },
  {
   "cell_type": "code",
   "execution_count": 50,
   "metadata": {},
   "outputs": [],
   "source": [
    "peak_snum = 277\n",
    "peak_redshift = df['redshift'].loc[peak_snum]\n",
    "peak_mass = df[None].loc[peak_snum]"
   ]
  },
  {
   "cell_type": "code",
   "execution_count": 51,
   "metadata": {},
   "outputs": [
    {
     "name": "stdout",
     "output_type": "stream",
     "text": [
      "Saving 5\\times10^{9} as evolutionMmaxsubMWq\n"
     ]
    }
   ],
   "source": [
    "tex_file.save_variable(\n",
    "    'evolutionMmax{}'.format( halo_mass_name ),\n",
    "    py2tex.to_tex_scientific_notation( peak_mass, 1 )\n",
    ")"
   ]
  },
  {
   "cell_type": "markdown",
   "metadata": {},
   "source": [
    "#### How do components change?"
   ]
  },
  {
   "cell_type": "code",
   "execution_count": 52,
   "metadata": {},
   "outputs": [],
   "source": [
    "m_nep_at_peak = df['is_CGM_NEP'].loc[peak_snum]"
   ]
  },
  {
   "cell_type": "code",
   "execution_count": 53,
   "metadata": {},
   "outputs": [
    {
     "name": "stdout",
     "output_type": "stream",
     "text": [
      "Saving 2\\times10^{9} as evolutionMnepatpeaksubMWq\n"
     ]
    }
   ],
   "source": [
    "tex_file.save_variable(\n",
    "    'evolutionMnepatpeak{}'.format( halo_mass_name ),\n",
    "    py2tex.to_tex_scientific_notation( m_nep_at_peak, 1 )\n",
    ")"
   ]
  },
  {
   "cell_type": "code",
   "execution_count": 54,
   "metadata": {},
   "outputs": [
    {
     "name": "stdout",
     "output_type": "stream",
     "text": [
      "Saving 8\\times10^{8} as evolutionMnepinitialsubMWq\n"
     ]
    }
   ],
   "source": [
    "df.index.min()\n",
    "tex_file.save_variable(\n",
    "    'evolutionMnepinitial{}'.format( halo_mass_name ),\n",
    "    py2tex.to_tex_scientific_notation( df['is_CGM_NEP'].loc[df.index.min()], 1 )\n",
    ")"
   ]
  },
  {
   "cell_type": "code",
   "execution_count": 55,
   "metadata": {},
   "outputs": [
    {
     "name": "stdout",
     "output_type": "stream",
     "text": [
      "Saving 3\\times10^{9} as evolutionMnepfinalsubMWq\n"
     ]
    }
   ],
   "source": [
    "tex_file.save_variable(\n",
    "    'evolutionMnepfinal{}'.format( halo_mass_name ),\n",
    "    py2tex.to_tex_scientific_notation( df['is_CGM_NEP'].loc[600], 1 )\n",
    ")"
   ]
  },
  {
   "cell_type": "code",
   "execution_count": 56,
   "metadata": {},
   "outputs": [
    {
     "name": "stdout",
     "output_type": "stream",
     "text": [
      "Saving 2\\times10^{9} as evolutionMwindatpeaksubMWq\n"
     ]
    }
   ],
   "source": [
    "tex_file.save_variable(\n",
    "    'evolutionMwindatpeak{}'.format( halo_mass_name ),\n",
    "    py2tex.to_tex_scientific_notation( df['is_CGM_IP'].loc[peak_snum], 1 )\n",
    ")"
   ]
  },
  {
   "cell_type": "code",
   "execution_count": 57,
   "metadata": {},
   "outputs": [
    {
     "name": "stdout",
     "output_type": "stream",
     "text": [
      "Saving 2\\times10^{9} as evolutionMwindfinalsubMWq\n"
     ]
    }
   ],
   "source": [
    "tex_file.save_variable(\n",
    "    'evolutionMwindfinal{}'.format( halo_mass_name ),\n",
    "    py2tex.to_tex_scientific_notation( df['is_CGM_IP'].loc[600], 1 )\n",
    ")"
   ]
  },
  {
   "cell_type": "code",
   "execution_count": 58,
   "metadata": {},
   "outputs": [
    {
     "name": "stdout",
     "output_type": "stream",
     "text": [
      "Saving 3\\times10^{8} as evolutionMsatwindatpeaksubMWq\n"
     ]
    }
   ],
   "source": [
    "tex_file.save_variable(\n",
    "    'evolutionMsatwindatpeak{}'.format( halo_mass_name ),\n",
    "    py2tex.to_tex_scientific_notation( df['is_CGM_EP'].loc[peak_snum], 1 )\n",
    ")"
   ]
  },
  {
   "cell_type": "code",
   "execution_count": 59,
   "metadata": {},
   "outputs": [
    {
     "name": "stdout",
     "output_type": "stream",
     "text": [
      "Saving 2\\times10^{8} as evolutionMsatwindfinalsubMWq\n"
     ]
    }
   ],
   "source": [
    "tex_file.save_variable(\n",
    "    'evolutionMsatwindfinal{}'.format( halo_mass_name ),\n",
    "    py2tex.to_tex_scientific_notation( df['is_CGM_EP'].loc[600], 1 )\n",
    ")"
   ]
  },
  {
   "cell_type": "code",
   "execution_count": 60,
   "metadata": {},
   "outputs": [
    {
     "name": "stdout",
     "output_type": "stream",
     "text": [
      "Saving 10\\times10^{8} as evolutionMsatwindmaxmasssubMWq\n"
     ]
    }
   ],
   "source": [
    "tex_file.save_variable(\n",
    "    'evolutionMsatwindmaxmass{}'.format( halo_mass_name ),\n",
    "    py2tex.to_tex_scientific_notation( df['is_CGM_EP'].max(), 1 )\n",
    ")"
   ]
  },
  {
   "cell_type": "code",
   "execution_count": 61,
   "metadata": {},
   "outputs": [
    {
     "name": "stdout",
     "output_type": "stream",
     "text": [
      "Saving 5\\times10^{8} as evolutionMsatmaxsubMWq\n"
     ]
    }
   ],
   "source": [
    "tex_file.save_variable(\n",
    "    'evolutionMsatmax{}'.format( halo_mass_name ),\n",
    "    py2tex.to_tex_scientific_notation( df['is_CGM_satellite'].max(), 1 )\n",
    ")"
   ]
  },
  {
   "cell_type": "markdown",
   "metadata": {},
   "source": [
    "# Fractional Mass"
   ]
  },
  {
   "cell_type": "code",
   "execution_count": 62,
   "metadata": {},
   "outputs": [],
   "source": [
    "dfs = utilities.SmartDict( {} )\n",
    "for i in range( len(radial_bins) - 1 ):\n",
    "    dfs[i] = get_data_from_file( f, (slice(None), i) )\n",
    "    \n",
    "    dfs[i]['redshift'] = redshift"
   ]
  },
  {
   "cell_type": "code",
   "execution_count": 63,
   "metadata": {},
   "outputs": [],
   "source": [
    "mins = []\n",
    "maxes = []\n",
    "for key, df in dfs.items():\n",
    "    mins.append( df['is_CGM_EP'].loc[277:].min() )\n",
    "    maxes.append( df['is_CGM_EP'].loc[277:].max() )"
   ]
  },
  {
   "cell_type": "code",
   "execution_count": 64,
   "metadata": {},
   "outputs": [
    {
     "name": "stdout",
     "output_type": "stream",
     "text": [
      "Saving 2\\% as evolutionMsatwindminsubMWq\n"
     ]
    }
   ],
   "source": [
    "tex_file.save_variable(\n",
    "    'evolutionMsatwindmin{}'.format( halo_mass_name ),\n",
    "    py2tex.to_tex_percentage( np.array( mins ).min(), 1 )\n",
    ")"
   ]
  },
  {
   "cell_type": "code",
   "execution_count": 65,
   "metadata": {},
   "outputs": [
    {
     "name": "stdout",
     "output_type": "stream",
     "text": [
      "Saving 9\\% as evolutionMsatwindmaxsubMWq\n"
     ]
    }
   ],
   "source": [
    "tex_file.save_variable(\n",
    "    'evolutionMsatwindmax{}'.format( halo_mass_name ),\n",
    "    py2tex.to_tex_percentage( np.array( maxes ).max(), 0 )\n",
    ")"
   ]
  },
  {
   "cell_type": "code",
   "execution_count": null,
   "metadata": {},
   "outputs": [],
   "source": []
  }
 ],
 "metadata": {
  "kernelspec": {
   "display_name": "Python 2",
   "language": "python",
   "name": "python2"
  },
  "language_info": {
   "codemirror_mode": {
    "name": "ipython",
    "version": 2
   },
   "file_extension": ".py",
   "mimetype": "text/x-python",
   "name": "python",
   "nbconvert_exporter": "python",
   "pygments_lexer": "ipython2",
   "version": "2.7.13"
  }
 },
 "nbformat": 4,
 "nbformat_minor": 2
}
